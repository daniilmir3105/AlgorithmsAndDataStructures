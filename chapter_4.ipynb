{
  "nbformat": 4,
  "nbformat_minor": 0,
  "metadata": {
    "colab": {
      "provenance": []
    },
    "kernelspec": {
      "name": "python3",
      "display_name": "Python 3"
    },
    "language_info": {
      "name": "python"
    }
  },
  "cells": [
    {
      "cell_type": "markdown",
      "source": [
        "# **Массивы и связанные структуры данных**"
      ],
      "metadata": {
        "id": "I7tcUF4s2zHc"
      }
    },
    {
      "cell_type": "markdown",
      "source": [
        "Термины структура данных и конкретный тип данных относятся к внутреннему представлению\n",
        "данных коллекции. Две структуры данных, наиболее часто используемые для реализации коллекций в\n",
        "языках программирования, - это массивы и связанные структуры. Эти два типа структур\n",
        "используют разные подходы к хранению данных в памяти компьютера и доступу к ним. Эти\n",
        "подходы, в свою очередь, приводят к различным пространственно-временным компромиссам в алгоритмах, которые манипулируют\n",
        "коллекциями. В этой главе рассматривается организация данных и конкретные детали\n",
        "обработки, характерные для массивов и связанных структур. Их использование при реализации\n",
        "различных типов коллекций обсуждается в последующих главах."
      ],
      "metadata": {
        "id": "FUiUK15j2z7S"
      }
    },
    {
      "cell_type": "markdown",
      "source": [
        "## **Структура данных массив**"
      ],
      "metadata": {
        "id": "ZpOzxQAK3dVB"
      }
    },
    {
      "cell_type": "markdown",
      "source": [
        "Массив представляет собой последовательность элементов, к которым можно получить доступ или заменить их в заданных\n",
        "позициях индекса. Вы, вероятно, думаете, что это описание напоминает описание списка Python. На\n",
        "самом деле структура данных, лежащая в основе списка Python, является массивом. Хотя программисты на Python\n",
        "обычно используют список там, где вы могли бы использовать массив, массив, а не список, является\n",
        "основной реализующей структурой в коллекциях Python и многих других\n",
        "языках программирования. Следовательно, вам необходимо ознакомиться с мышлением, основанным на массивах."
      ],
      "metadata": {
        "id": "gsic1tDd3xIc"
      }
    },
    {
      "cell_type": "markdown",
      "source": [
        "Модуль array в Python действительно включает класс array, который ведет себя больше как список, но\n",
        "ограничен хранением чисел. Для целей последующего обсуждения вы определите\n",
        "новый класс с именем Array, который придерживается ограничений, упомянутых ранее, но может\n",
        "содержать элементы любого типа. По иронии судьбы, этот класс Array использует список Python для хранения своих элементов.\n",
        "Класс определяет методы, которые позволяют клиентам использовать оператор подстрочного индекса [], функцию длины\n",
        ", функцию str и цикл for с объектами array. Методы Array\n",
        "необходимые для этих операций данные перечислены в таблице 4-1. Переменная a в левом столбце\n",
        "ссылается на объект массива."
      ],
      "metadata": {
        "id": "FkraMnx53-R3"
      }
    },
    {
      "cell_type": "markdown",
      "source": [
        "Когда Python сталкивается с операцией в левом столбце таблицы 4-1, он автоматически вызывает\n",
        "соответствующий метод в правом столбце с объектом Array. Например, Python\n",
        "автоматически вызывает метод __iter__ объекта Array при обходе объекта Array\n",
        "в цикле for. Обратите внимание, что программист должен указать емкость или физический размер\n",
        "массива при его создании. Значение заполнения по умолчанию, None, может быть переопределено, чтобы при желании предоставить другое\n",
        "значение заполнения.\n",
        "\n",
        "Вот код для класса Array (в arrays.py):"
      ],
      "metadata": {
        "id": "szJeZsZQ4JnT"
      }
    },
    {
      "cell_type": "code",
      "execution_count": 1,
      "metadata": {
        "id": "j9JWP0s52wGu"
      },
      "outputs": [],
      "source": [
        "\"\"\"\n",
        "File: arrays.py\n",
        "An Array is like a list, but the client can use\n",
        "only [], len, iter, and str.\n",
        "To instantiate, use\n",
        "<variable> = Array(<capacity>, <optional fill value>)\n",
        "The fill value is None by default.\n",
        "\"\"\"\n",
        "\n",
        "class Array(object):\n",
        "    \"\"\"Represents an array.\"\"\"\n",
        "\n",
        "    def __init__(self, capacity, fillValue = None):\n",
        "        \"\"\"Capacity is the static size of the array.\n",
        "        fillValue is placed at each position.\"\"\"\n",
        "        self.items = list()\n",
        "        for count in range(capacity):\n",
        "            self.items.append(fillValue)\n",
        "\n",
        "    def __len__(self):\n",
        "        \"\"\"-> The capacity of the array.\"\"\"\n",
        "        return len(self.items)\n",
        "\n",
        "    def __str__(self):\n",
        "        \"\"\"-> The string representation of the array.\"\"\"\n",
        "        return str(self.items)\n",
        "\n",
        "    def __iter__(self):\n",
        "        \"\"\"Supports traversal with a for loop.\"\"\"\n",
        "        return iter(self.items)\n",
        "\n",
        "    def __getitem__(self, index):\n",
        "        \"\"\"Subscript operator for access at index.\"\"\"\n",
        "        return self.items[index]\n",
        "\n",
        "    def __setitem__(self, index, newItem):\n",
        "        \"\"\"Subscript operator for replacement at index.\"\"\"\n",
        "        self.items[index] = newItem"
      ]
    },
    {
      "cell_type": "code",
      "source": [
        "a = Array(5)\n",
        "len(a)"
      ],
      "metadata": {
        "colab": {
          "base_uri": "https://localhost:8080/"
        },
        "id": "wO0m6Sif5KDu",
        "outputId": "1c868858-c22d-4ac9-8563-fda11a38c430"
      },
      "execution_count": 2,
      "outputs": [
        {
          "output_type": "execute_result",
          "data": {
            "text/plain": [
              "5"
            ]
          },
          "metadata": {},
          "execution_count": 2
        }
      ]
    },
    {
      "cell_type": "code",
      "source": [
        "print(a)"
      ],
      "metadata": {
        "colab": {
          "base_uri": "https://localhost:8080/"
        },
        "id": "KlNjk2AOKA1K",
        "outputId": "781c60e6-fb66-4148-8e85-da6e98b3a1c8"
      },
      "execution_count": 3,
      "outputs": [
        {
          "output_type": "stream",
          "name": "stdout",
          "text": [
            "[None, None, None, None, None]\n"
          ]
        }
      ]
    },
    {
      "cell_type": "markdown",
      "source": [
        "## **Произвольный доступ и непрерывная память**"
      ],
      "metadata": {
        "id": "LhB0QYkmKJ7F"
      }
    },
    {
      "cell_type": "markdown",
      "source": [
        "Подстрочный индекс, или операция индексирования, позволяет программисту легко сохранять или извлекать\n",
        "элемент в заданной позиции. Операция индексирования массива также выполняется очень быстро. Индексирование массива - это операция произвольного доступа. Во время произвольного доступа компьютер получает местоположение\n",
        "i-го элемента, выполняя постоянное количество шагов. Таким образом, независимо от размера массива,\n",
        "для доступа к первому элементу требуется столько же времени, сколько и для доступа к последнему элементу."
      ],
      "metadata": {
        "id": "v0ZMLVHcKOA8"
      }
    },
    {
      "cell_type": "markdown",
      "source": [
        "Компьютер поддерживает произвольный доступ к массивам, выделяя блок смежных\n",
        "ячеек памяти для элементов массива. Один такой блок показан на рисунке 4-1.\n",
        "\n",
        "Для простоты на рисунке предполагается, что каждый элемент данных занимает одну ячейку памяти,\n",
        "хотя это не обязательно так. Адреса машин представляют собой 8-разрядные двоичные числа.\n",
        "\n",
        "Поскольку адреса элементов расположены в числовой последовательности, адрес элемента массива может\n",
        "быть вычислен путем сложения двух значений: базового адреса массива и смещения элемента. Базовый адрес - это машинный адрес первого элемента. Смещение элемента равно его индексу, умноженному на константу, представляющую количество ячеек памяти (в Python всегда 1), требуемое\n",
        "для элемента массива. Подводя итог, операция индексирования в массиве Python состоит из двух этапов:\n",
        "1. Извлеките базовый адрес блока памяти массива.\n",
        "2. Верните результат добавления индекса к этому адресу."
      ],
      "metadata": {
        "id": "nQQhH_iwKo-3"
      }
    },
    {
      "cell_type": "markdown",
      "source": [
        "#![Снимок экрана 2024-03-13 171529.png](data:image/png;base64,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)"
      ],
      "metadata": {
        "id": "qK0OJ0dpKthK"
      }
    },
    {
      "cell_type": "markdown",
      "source": [
        "## **Статическая память и динамическая память**"
      ],
      "metadata": {
        "id": "8oTbltYyKt0Y"
      }
    },
    {
      "cell_type": "markdown",
      "source": [
        "Массивы в старых языках, таких как FORTRAN и Pascal, были статическими структурами данных.\n",
        "Длина или емкость массива определялась во время компиляции, поэтому программисту необходимо\n",
        "было указать этот размер с помощью константы. Поскольку программист не мог изменить длину\n",
        "массива во время выполнения, ему нужно было предсказать, какой объем памяти массива потребуется всем приложениям программы. Если программа всегда ожидала известное фиксированное количество элементов в\n",
        "массиве, проблем не возникало. Но в других случаях, в которых количество элементов данных варьировалось,\n",
        "программистам приходилось запрашивать достаточно памяти, чтобы охватить случаи\n",
        ", когда в массиве будет храниться наибольшее количество элементов данных. Очевидно, что это требование приводило к тому, что программы\n",
        "тратили впустую память для многих приложений. Хуже того, когда количество элементов данных превышало\n",
        "длину массива, лучшее, что могла сделать программа, - это вернуть сообщение об ошибке."
      ],
      "metadata": {
        "id": "fuMQwlKmLLP1"
      }
    },
    {
      "cell_type": "markdown",
      "source": [
        "Современные языки, такие как Java и C++, обеспечивают решение этих проблем, позволяя\n",
        "программисту создавать динамические массивы. Подобно статическому массиву, динамический массив занимает непрерывный\n",
        "блок памяти и поддерживает произвольный доступ. Однако длина динамического массива\n",
        "не обязательно должна быть известна до времени выполнения. Таким образом, программист на Java или C++ может указать длину\n",
        "динамического массива во время создания экземпляра. Класс Python Array ведет себя аналогичным образом."
      ],
      "metadata": {
        "id": "Zrl9NvGtLQ9T"
      }
    },
    {
      "cell_type": "markdown",
      "source": [
        "## **Физический размер и логический размер**"
      ],
      "metadata": {
        "id": "5ShBYrglLXt7"
      }
    },
    {
      "cell_type": "markdown",
      "source": [
        "При работе с массивом программистам часто приходится различать его длину или\n",
        "физический размер и его логический размер. Физический размер массива - это общее количество\n",
        "ячеек массива или число, используемое для указания его емкости при создании массива. Логический размер\n",
        "массива - это количество элементов в нем, которые в данный момент должны быть доступны приложению.\n",
        "Когда массив всегда заполнен, программисту не нужно беспокоиться об этом различии.\n",
        "Однако такие случаи редки."
      ],
      "metadata": {
        "id": "aIajbTiOLmWv"
      }
    },
    {
      "cell_type": "markdown",
      "source": [
        "## **Операции с массивами**"
      ],
      "metadata": {
        "id": "TWDaWEpbL-DN"
      }
    },
    {
      "cell_type": "markdown",
      "source": [
        "Сейчас ознакомимся с реализацией нескольких операций над массивами. Тип array еще\n",
        "не предоставляет этих операций; программист, который использует array, должен их написать.\n",
        "В этих примерах вы можете использовать следующие настройки данных:"
      ],
      "metadata": {
        "id": "P_zj2H4cL_LC"
      }
    },
    {
      "cell_type": "code",
      "source": [
        "DEFAULT_CAPACITY = 5\n",
        "logicalSize = 0\n",
        "a = Array(DEFAULT_CAPACITY)"
      ],
      "metadata": {
        "id": "4loLbeLbMM9W"
      },
      "execution_count": 4,
      "outputs": []
    },
    {
      "cell_type": "markdown",
      "source": [
        "Как можно заметить, начальный логический размер массива равен 0, а физический размер по умолчанию, или емкость, равен 5. Для каждой операции, использующей этот массив, вы прочтете описание стратегии реализации и аннотированный фрагмент кода на Python. Опять же, эти операции используются\n",
        "для определения методов для коллекций, содержащих массивы."
      ],
      "metadata": {
        "id": "NFgNrgzgMNNM"
      }
    },
    {
      "cell_type": "markdown",
      "source": [
        "## **Увеличение размера массива**"
      ],
      "metadata": {
        "id": "POf1XKq7NXOs"
      }
    },
    {
      "cell_type": "markdown",
      "source": [
        "Когда вот-вот будет вставлен новый элемент и логический размер массива равен его физическому размеру,\n",
        "пришло время увеличить размер массива. Тип списка в Python выполняет эту операцию во время вызова метода insert или append, когда требуется больше памяти для массива. Процесс\n",
        "изменения размера состоит из трех шагов:\n",
        "\n",
        "1. Создайте новый массив большего размера.\n",
        "\n",
        "2. Скопируйте данные из старого массива в новый массив.\n",
        "\n",
        "3. Переустановите старую переменную массива на новый объект массива."
      ],
      "metadata": {
        "id": "3GU1tbeTNZ2e"
      }
    },
    {
      "cell_type": "markdown",
      "source": [
        "Рассмотрим пример кода:"
      ],
      "metadata": {
        "id": "mBxWFwdtNhBu"
      }
    },
    {
      "cell_type": "code",
      "source": [
        "if logicalSize == len(a):\n",
        "    temp = Array(len(a) + 1) # Create a new array\n",
        "    for i in range(logicalSize): # Copy data from the old\n",
        "        temp [i] = a[i] # array to the new array\n",
        "    a = temp # Reset the old array variable\n",
        "            # to the new array"
      ],
      "metadata": {
        "id": "SSxdvuwpNhU6"
      },
      "execution_count": 5,
      "outputs": []
    },
    {
      "cell_type": "markdown",
      "source": [
        "Необходимо обратить внимание, что память старого массива оставлена для сборщика мусора. Вы также\n",
        "естественным образом увеличиваете длину массива на одну ячейку, чтобы вместить каждый новый элемент.\n",
        "Однако учтите последствия этого решения для производительности. При\n",
        "изменении размера массива количество операций копирования является линейным."
      ],
      "metadata": {
        "id": "fSStjm18PKK3"
      }
    },
    {
      "cell_type": "markdown",
      "source": [
        "## **Уменьшение размера массива**"
      ],
      "metadata": {
        "id": "AKyMQo8zPOtg"
      }
    },
    {
      "cell_type": "markdown",
      "source": [
        "Когда логический размер массива уменьшается, ячейки становятся ненужными. Когда элемент собирается быть\n",
        "удаленным и количество этих неиспользуемых ячеек достигает или превышает определенный порог, скажем,\n",
        "три четверти физического размера массива, пришло время уменьшить физический размер. Эта\n",
        "операция выполняется в Python типа list всякий раз, когда метод pop приводит к потере памяти превышает определенный порог. Процесс уменьшения размера массива является обратным\n",
        "его увеличению. Вот шаги:\n",
        "1. Создайте новый массив меньшего размера.\n",
        "2. Скопируйте данные из старого массива в новый массив.\n",
        "3. Переустановите старую переменную массива на новый объект массива."
      ],
      "metadata": {
        "id": "WAbOLIglPPn4"
      }
    },
    {
      "cell_type": "markdown",
      "source": [
        "Код для этого процесса запускается, когда логический размер массива меньше или равен\n",
        "одной четвертой его физического размера, а его физический размер как минимум вдвое превышает емкость по умолчанию,\n",
        "установленную вами для массива. Алгоритм уменьшает физический размер массива до\n",
        "половины его физического размера, при условии, что это не меньше его емкости по умолчанию. Вот\n",
        "код:"
      ],
      "metadata": {
        "id": "qOl2OEx_PkWe"
      }
    },
    {
      "cell_type": "code",
      "source": [
        "if logicalSize <= len(a) // 4 and len(a) >= DEFAULT_CAPACITY * 2:\n",
        "    temp = Array(len(a) // 2) # Create new array\n",
        "    for i in range(logicalSize): # Copy data from old array\n",
        "        temp [i] = a [i] # to new array\n",
        "    a = temp # Reset old array variable to\n",
        "    # new array"
      ],
      "metadata": {
        "id": "pn3ViOKEPmlm"
      },
      "execution_count": 6,
      "outputs": []
    },
    {
      "cell_type": "markdown",
      "source": [
        "## **Вставка элемента в растущий массив**"
      ],
      "metadata": {
        "id": "gLaXdRNMPwbw"
      }
    },
    {
      "cell_type": "markdown",
      "source": [
        "Вставка элемента в массив отличается от замены элемента в массиве. В случае\n",
        "замены элемент уже существует в заданной позиции индекса, и достаточно простого присвоения\n",
        "этой позиции. Более того, логический размер массива не меняется. В случае\n",
        "вставки программист должен выполнить четыре действия:\n",
        "\n",
        "1. Проверьте наличие свободного места перед попыткой вставки и при необходимости увеличьте физический\n",
        "размер массива, как описано ранее.\n",
        "2. Переместите элементы из логического конца массива в целевую позицию индекса вниз\n",
        "на единицу. Этот процесс открывает отверстие для нового элемента в целевом индексе.\n",
        "3. Назначьте новому элементу позицию целевого индекса.\n",
        "4. Увеличьте логический размер на единицу.\n",
        "На рисунке 4-3 показаны эти шаги для вставки элемента D5 в позицию 1 в массив из\n",
        "четырех элементов.\n",
        "\n",
        "Как вы можно увидеть, порядок, в котором элементы смещены, имеет решающее значение. Если вы начнете с целевого\n",
        "индекса и скопируете оттуда вниз, вы потеряете два элемента. Таким образом, вы должны начать с логического\n",
        "конца массива и вернуться к целевому индексу, копируя каждый элемент в ячейку его\n",
        "преемник. Вот код на Python для операции вставки:"
      ],
      "metadata": {
        "id": "4aRZu41QPwTr"
      }
    },
    {
      "cell_type": "markdown",
      "source": [
        "![Снимок экрана 2024-03-13 173843.png](data:image/png;base64,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)"
      ],
      "metadata": {
        "id": "0b4d9VI7QA1F"
      }
    },
    {
      "cell_type": "code",
      "source": [
        "# Increase physical size of array if necessary\n",
        "# Shift items down by one position\n",
        "targetIndex = 2\n",
        "\n",
        "for i in range(logicalSize, targetIndex, -1):\n",
        "    a[i] = a[i - 1]\n",
        "\n",
        "# Add new item and increment logical size\n",
        "newItem = 0\n",
        "a[targetIndex] = newItem\n",
        "logicalSize += 1"
      ],
      "metadata": {
        "id": "wrcICUhGQBLP"
      },
      "execution_count": 7,
      "outputs": []
    },
    {
      "cell_type": "markdown",
      "source": [
        "## **Вставка элемента в растущий массив**"
      ],
      "metadata": {
        "id": "ZhSDMaupRT9J"
      }
    },
    {
      "cell_type": "markdown",
      "source": [
        "Вставка элемента в массив отличается от замены элемента в массиве. В случае\n",
        "замены элемент уже существует в заданной позиции индекса, и достаточно простого присвоения\n",
        "этой позиции. Более того, логический размер массива не меняется. В случае\n",
        "вставки программист должен выполнить четыре действия:\n",
        "1. Проверьте наличие свободного места перед попыткой вставки и при необходимости увеличьте физический\n",
        "размер массива, как описано ранее.\n",
        "2. Переместите элементы из логического конца массива в целевую позицию индекса вниз\n",
        "на единицу. Этот процесс открывает отверстие для нового элемента в целевом индексе.\n",
        "3. Назначьте новому элементу позицию целевого индекса.\n",
        "4. Увеличьте логический размер на единицу."
      ],
      "metadata": {
        "id": "ZdQVA6ELRbro"
      }
    },
    {
      "cell_type": "code",
      "source": [
        "# Increase physical size of array if necessary\n",
        "# Shift items down by one position\n",
        "for i in range(logicalSize, targetIndex, -1):\n",
        "    a[i] = a[i - 1]\n",
        "\n",
        "# Add new item and increment logical size\n",
        "a[targetIndex] = newItem\n",
        "logicalSize += 1\n"
      ],
      "metadata": {
        "id": "1l8bonk1Rr2J"
      },
      "execution_count": 8,
      "outputs": []
    },
    {
      "cell_type": "markdown",
      "source": [
        "Время, затрачиваемое на перемещение элементов во время вставки, в среднем линейно, поэтому\n",
        "операция вставки является линейной."
      ],
      "metadata": {
        "id": "vP5xhA-6R1v1"
      }
    },
    {
      "cell_type": "markdown",
      "source": [
        "## **Удаление элемента из массива**"
      ],
      "metadata": {
        "id": "sxkUdsGTR-Jb"
      }
    },
    {
      "cell_type": "markdown",
      "source": [
        "Удаление элемента из массива инвертирует процесс вставки элемента в массив.\n",
        "Вот шаги в этом процессе:\n",
        "1. Переместите элементы из позиции, следующей за целевым индексом, в логический конец\n",
        "массива на единицу вверх. Этот процесс закрывает дыру, оставленную удаленным элементом в\n",
        "целевом индексе.\n",
        "2. Уменьшите логический размер на единицу.\n",
        "3. Проверьте, нет ли пустого места, и при необходимости уменьшите физический размер массива."
      ],
      "metadata": {
        "id": "gWZx43VjSAeG"
      }
    },
    {
      "cell_type": "markdown",
      "source": [
        "Как и при вставках, порядок, в котором вы перемещаете элементы, имеет решающее значение. Для удаления вы начинаете\n",
        "с элемента, следующего за целевой позицией, и продвигаетесь к логическому концу массива,\n",
        "копируя каждый элемент в ячейку его предшественника. Вот код на Python для\n",
        "операции удаления:"
      ],
      "metadata": {
        "id": "QL09PDXdSTlO"
      }
    },
    {
      "cell_type": "code",
      "source": [
        "# Shift items up by one position\n",
        "for i in range(targetIndex, logicalSize - 1):\n",
        "    a[i] = a[i + 1]\n",
        "# Decrement logical size\n",
        "logicalSize -= 1\n",
        "# Decrease size of array if necessary"
      ],
      "metadata": {
        "id": "UXTvRe6MSuax"
      },
      "execution_count": 9,
      "outputs": []
    },
    {
      "cell_type": "markdown",
      "source": [
        "Опять же, поскольку время, затрачиваемое на перемещение элементов, в среднем линейно,\n",
        "время, затрачиваемое на операцию удаления, является линейным."
      ],
      "metadata": {
        "id": "zX1pLcjBSrdt"
      }
    },
    {
      "cell_type": "markdown",
      "source": [
        "## **Двумерные массивы (сетки/Grid)**"
      ],
      "metadata": {
        "id": "re0Ri2HvS7CM"
      }
    },
    {
      "cell_type": "markdown",
      "source": [
        "Изученные до сих пор массивы могут представлять только простые последовательности элементов и называются\n",
        "одномерными массивами. Для многих приложений более полезны двумерные массивы или сетки\n",
        ". Таблица чисел, например, может быть реализована в виде двумерного массива.\n",
        "На рис. 4-5 показана сетка с четырьмя строками и пятью столбцами."
      ],
      "metadata": {
        "id": "qQh0EmRQT4-H"
      }
    },
    {
      "cell_type": "markdown",
      "source": [
        "![Снимок экрана 2024-03-13 175559.png](data:image/png;base64,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)"
      ],
      "metadata": {
        "id": "l-2-rllyT4aE"
      }
    },
    {
      "cell_type": "markdown",
      "source": [
        "Предположим, что эта сетка называется grid. Чтобы получить доступ к элементу в grid, вы используете два нижних индекса для указания его позиций в строке и столбце, помня, что индексы начинаются с 0."
      ],
      "metadata": {
        "id": "Vy8FkLydUL16"
      }
    },
    {
      "cell_type": "markdown",
      "source": [
        "## **Определение класса Grid**"
      ],
      "metadata": {
        "id": "606UaxZIWaBw"
      }
    },
    {
      "cell_type": "markdown",
      "source": [
        "Класс Grid аналогичен классу Array, представленному ранее. Пользователи могут запускать методы для\n",
        "определения количества строк и столбцов и получения строкового представления. Однако\n",
        "итератор не предусмотрен. Сетка удобно представлена с помощью массива массивов.\n",
        "Длина массива верхнего уровня равна количеству строк в таблице. Каждая ячейка в массиве верхнего уровня также является массивом. Длина этого массива равна количеству столбцов в таблице,\n",
        "и этот массив содержит данные в данной строке. Метод __getitem__ - это все, что вам нужно\n",
        "необходимо поддерживать использование клиентом двойного подстрочного индекса. Вот код для класса Grid:"
      ],
      "metadata": {
        "id": "4b33XxflWaxq"
      }
    },
    {
      "cell_type": "code",
      "source": [
        "class Grid(object):\n",
        "    \"\"\"Represents a two-dimensional array.\"\"\"\n",
        "\n",
        "    def __init__(self, rows, columns, fillValue = None):\n",
        "        self.data = Array(rows)\n",
        "        for row in range (rows):\n",
        "            self.data[row] = Array(columns, fillValue)\n",
        "\n",
        "    def getHeight(self):\n",
        "        \"\"\"Returns the number of rows.\"\"\"\n",
        "        return len(self.data)\n",
        "\n",
        "    def getWidth(self):\n",
        "        \"Returns the number of columns.\"\"\"\n",
        "        return len(self.data[0])\n",
        "\n",
        "    def __getitem__(self, index):\n",
        "        \"\"\"Supports two-dimensional indexing\n",
        "        with [row][column].\"\"\"\n",
        "        return self.data[index]\n",
        "\n",
        "    def __str__(self):\n",
        "        \"\"\"Returns a string representation of the grid.\"\"\"\n",
        "        result = \"\"\n",
        "        for row in range (self.getHeight()):\n",
        "            for col in range (self.getWidth()):\n",
        "                result += str(self.data[row][col]) + \" \"\n",
        "            result += \"\\n\"\n",
        "        return result"
      ],
      "metadata": {
        "id": "Zj_b4CQjWKi0"
      },
      "execution_count": 10,
      "outputs": []
    },
    {
      "cell_type": "markdown",
      "source": [
        "## **Обработка и инициализация Grid**"
      ],
      "metadata": {
        "id": "fn7bsUmRUYqF"
      }
    },
    {
      "cell_type": "markdown",
      "source": [
        "В дополнение к двойному индексу сетка должна распознавать два метода, которые возвращают\n",
        "количество строк и количество столбцов. Для целей обсуждения эти методы\n",
        "называются getHeight и getWidth соответственно. Методы манипулирования одномерными массивами легко распространяются на сетки. Например, следующий сегмент кода\n",
        "вычисляет сумму всех чисел в таблице переменных. Внешний цикл повторяется четыре\n",
        "раза и перемещается вниз по строкам. Каждый раз, проходя через внешний цикл, внутренний цикл повторяется\n",
        "пять раз и перемещается по столбцам в другой строке."
      ],
      "metadata": {
        "id": "RsxE4q7zUYcM"
      }
    },
    {
      "cell_type": "code",
      "source": [
        "sum = 0\n",
        "grid = Grid(4, 5, 0)\n",
        "\n",
        "for row in range(grid.getHeight()): # Go through rows\n",
        "    for column in range(grid.getWidth()): # Go through columns\n",
        "        sum +=grid[row][column]"
      ],
      "metadata": {
        "id": "lnnwsLsEUiWM"
      },
      "execution_count": 11,
      "outputs": []
    },
    {
      "cell_type": "markdown",
      "source": [
        "## **Связанные структуры данных**"
      ],
      "metadata": {
        "id": "gAo8NegqXy09"
      }
    },
    {
      "cell_type": "markdown",
      "source": [
        "После массивов связанные структуры, вероятно, являются наиболее часто используемыми структурами данных в\n",
        "программах. Как и массив, связанная структура - это конкретный тип данных, который реализует множество\n",
        "типов коллекций, включая списки. Подробное рассмотрение использования связанных структур в коллекциях, таких как списки и бинарные деревья, приводится далее в этой книге.\n",
        "В этом разделе подробно рассматриваются несколько характеристик, которые программисты должны иметь в виду при использовании связанных\n",
        "структур для реализации коллекций любого типа."
      ],
      "metadata": {
        "id": "IcEHd1k4X0_7"
      }
    },
    {
      "cell_type": "markdown",
      "source": [
        "## **Односвязные структуры и двусвязные структуры**"
      ],
      "metadata": {
        "id": "BKqAJi5LYGax"
      }
    },
    {
      "cell_type": "markdown",
      "source": [
        "Как следует из названия, связанная структура состоит из элементов, которые связаны с другими элементами.\n",
        "Хотя возможно множество связей между элементами, двумя простейшими связанными структурами являются\n",
        "односвязная структура и двусвязная структура.\n",
        "\n",
        "Полезно рисовать диаграммы связанных структур, используя обозначения в виде прямоугольника и указателя.\n",
        "На рисунке 4-6 используются эти обозначения для демонстрации примеров двух типов связанных структур."
      ],
      "metadata": {
        "id": "AS2iZDomYIRh"
      }
    },
    {
      "cell_type": "markdown",
      "source": [
        "![Снимок экрана 2024-03-13 181440.png](data:image/png;base64,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)"
      ],
      "metadata": {
        "id": "CDVOi93zYSs2"
      }
    },
    {
      "cell_type": "markdown",
      "source": [
        "Пользователь односвязной структуры получает доступ к первому элементу, перейдя по единственной внешней\n",
        "ссылке head. Затем пользователь получает доступ к другим элементам, связываясь по одиночным ссылкам (представленным стрелками на рисунке), которые исходят от элементов. Таким образом, в односвязной структуре легко добраться до преемника элемента, но не так просто добраться до предшественника\n",
        "элемента."
      ],
      "metadata": {
        "id": "qSMdFMjpYcSF"
      }
    },
    {
      "cell_type": "markdown",
      "source": [],
      "metadata": {
        "id": "_JTC4ncuZDU2"
      }
    },
    {
      "cell_type": "markdown",
      "source": [
        "## **Несмежная память и узлы**"
      ],
      "metadata": {
        "id": "H52FH860ZDmr"
      }
    },
    {
      "cell_type": "markdown",
      "source": [
        "Напомним, что элементы массива должны храниться в непрерывной памяти. Это означает, что логическая\n",
        "последовательность элементов в массиве тесно связана с физической последовательностью ячеек в памяти.\n",
        "Напротив, связанная структура отделяет логическую последовательность элементов в структуре от\n",
        "любого упорядочения в памяти. То есть ячейку для данного элемента в связанной структуре можно найти\n",
        "в любом месте памяти, пока компьютер может перейти по ссылке на ее адрес или местоположение.\n",
        "\n",
        "Такая схема представления памяти называется несмежной памятью.\n",
        "Базовой единицей представления в связанной структуре является узел. Односвязный узел содержит следующие компоненты или поля:\n",
        "\n",
        "• Элемент данных\n",
        "\n",
        "• Ссылка на следующий узел в структуре\n",
        "\n",
        "В дополнение к этим компонентам двусвязный узел содержит ссылку на предыдущий узел\n",
        "в структуре.\n",
        "\n",
        "На рисунке 4-7 показаны односвязный узел и двусвязный узел, внутренние ссылки которого\n",
        "пусты"
      ],
      "metadata": {
        "id": "J7IaX02MZLwA"
      }
    },
    {
      "cell_type": "markdown",
      "source": [
        "![Снимок экрана 2024-03-13 181948.png](data:image/png;base64,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)"
      ],
      "metadata": {
        "id": "tH1lpL4MZdUa"
      }
    },
    {
      "cell_type": "markdown",
      "source": [
        "Другой массив содержал позиции индексов для соответствующих элементов в массиве данных\n",
        "их последующих элементов в массиве данных. Таким образом, переход по ссылке означал использование\n",
        "индекса элемента данных в первом массиве для доступа к значению во втором массиве, а затем использование этого\n",
        "значения в качестве индекса для другого элемента данных в первом массиве. Пустая ссылка была представлена значением 21. На рисунке 4-8 показана связанная структура и ее представление в виде массива.\n",
        "Как вы можете видеть, эта настройка эффективно отделяет логическое положение элемента данных в\n",
        "связанной структуре от его физического положения в массиве."
      ],
      "metadata": {
        "id": "4cXANr2rZltQ"
      }
    },
    {
      "cell_type": "markdown",
      "source": [
        "![Снимок экрана 2024-03-13 182109.png](data:image/png;base64,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)"
      ],
      "metadata": {
        "id": "dzADrmsQZvvB"
      }
    },
    {
      "cell_type": "markdown",
      "source": [
        "## **Определение односвязного класса узлов**"
      ],
      "metadata": {
        "id": "gQj5IoTyZ9w5"
      }
    },
    {
      "cell_type": "markdown",
      "source": [
        "Классы узлов просты. Гибкость и простота использования имеют решающее значение, поэтому на переменные\n",
        "экземпляра объекта node обычно ссылаются без вызовов методов, а конструкторы позволяют пользователю\n",
        "устанавливать ссылки на узлы при создании узла. Как упоминалось ранее, односвязный узел\n",
        "содержит только элемент данных и ссылку на следующий узел. Вот код для простого\n",
        "односвязного класса узлов:"
      ],
      "metadata": {
        "id": "oVPbRuZcZ9XT"
      }
    },
    {
      "cell_type": "code",
      "source": [
        "class Node(object):\n",
        "    \"\"\"Represents a singly linked node.\"\"\"\n",
        "\n",
        "    def __init__(self, data, next = None):\n",
        "        \"\"\"Instantiates a Node with a default next of None.\"\"\"\n",
        "        self.data = data\n",
        "        self.next = next"
      ],
      "metadata": {
        "id": "LNdSbXhgaMtg"
      },
      "execution_count": 12,
      "outputs": []
    },
    {
      "cell_type": "markdown",
      "source": [
        "## **Использование односвязного класса Node**"
      ],
      "metadata": {
        "id": "pvOu2KFYaSL5"
      }
    },
    {
      "cell_type": "markdown",
      "source": [
        "Node variables are initialized to either the None value or a new Node object. The next code\n",
        "segment shows some variations on these two options:"
      ],
      "metadata": {
        "id": "KpWPkNwdaSCV"
      }
    },
    {
      "cell_type": "code",
      "source": [
        "# Just an empty link\n",
        "node1 = None\n",
        "# A node containing data and an empty link\n",
        "node2 = Node(\"A\", None)\n",
        "# A node containing data and a link to node2\n",
        "node3 = Node(\"B\", node2)"
      ],
      "metadata": {
        "id": "2WCbH_jyacWT"
      },
      "execution_count": 13,
      "outputs": []
    },
    {
      "cell_type": "markdown",
      "source": [
        "В общем, вы можете защититься от исключений, спросив, является ли данная переменная узла\n",
        "None, прежде чем пытаться получить доступ к ее полям:\n",
        "if node Variable != None:\n",
        "\n",
        "```\n",
        "if nodeVariable != None:\n",
        " <access a field in nodeVariable>\n",
        "```\n",
        "\n"
      ],
      "metadata": {
        "id": "PIR6Ca2phTxT"
      }
    },
    {
      "cell_type": "markdown",
      "source": [
        "Как и массивы, связанные структуры обрабатываются циклами. Вы можете использовать циклы для создания связанной\n",
        "структуры и посещения каждого узла в ней. Следующий тестовый скрипт использует класс Node для создания односвязной структуры и печати ее содержимого:"
      ],
      "metadata": {
        "id": "W10HwaerhQrR"
      }
    },
    {
      "cell_type": "code",
      "source": [
        "\"\"\"\n",
        "File: testnode.py\n",
        "Tests the Node class.\n",
        "\"\"\"\n",
        "# from node import Node\n",
        "head = None\n",
        "# Add five nodes to the beginning of the linked structure\n",
        "for count in range(1, 6):\n",
        "    head = Node(count, head)\n",
        "# Print the contents of the structure\n",
        "while head != None:\n",
        "    print(head.data)\n",
        "    head = head.next"
      ],
      "metadata": {
        "colab": {
          "base_uri": "https://localhost:8080/"
        },
        "id": "XuLmhKQchigF",
        "outputId": "c9ea8574-7914-4610-85a8-60f3f57c11b4"
      },
      "execution_count": 14,
      "outputs": [
        {
          "output_type": "stream",
          "name": "stdout",
          "text": [
            "5\n",
            "4\n",
            "3\n",
            "2\n",
            "1\n"
          ]
        }
      ]
    },
    {
      "cell_type": "markdown",
      "source": [
        "## **Операции с односвязными структурами**"
      ],
      "metadata": {
        "id": "x8FOP3iKhszm"
      }
    },
    {
      "cell_type": "markdown",
      "source": [
        "Почти все операции с массивами уже основаны на индексах, поскольку индексы являются\n",
        "неотъемлемой частью структуры массива. Программист должен эмулировать операции\n",
        "на основе индексов в связанной структуре, манипулируя ссылками внутри структуры. В этом разделе рассматривается, как\n",
        "эти манипуляции выполняются в обычных операциях, таких как обход, вставка\n",
        "и удаление."
      ],
      "metadata": {
        "id": "XrF58rbWhspv"
      }
    },
    {
      "cell_type": "markdown",
      "source": [
        "### **Обход**"
      ],
      "metadata": {
        "id": "jlllYGhwh-AG"
      }
    },
    {
      "cell_type": "markdown",
      "source": [
        "Второй цикл в последней программе тестирования эффективно удалил каждый узел из связанной\n",
        "структуры после печати данных этого узла. Однако многим приложениям просто необходимо посетить\n",
        "каждый узел, не удаляя его. Эта операция, называемая обходом, использует временную\n",
        "переменную указателя с именем probe. Эта переменная инициализируется указателем head связанной структуры и\n",
        "затем управляет циклом следующим образом:"
      ],
      "metadata": {
        "id": "InEbFJvliCkd"
      }
    },
    {
      "cell_type": "code",
      "source": [
        "probe = head\n",
        "while probe != None:\n",
        "    # <use or modify probe.data>\n",
        "    probe = probe.next"
      ],
      "metadata": {
        "id": "AX8RaniXiFgv"
      },
      "execution_count": 15,
      "outputs": []
    },
    {
      "cell_type": "markdown",
      "source": [
        "В общем, обход односвязной структуры посещает каждый узел и завершается при\n",
        "достижении пустой ссылки. Таким образом, значение None служит сигналом, который останавливает процесс.\n",
        "\n",
        "Обходы линейны по времени и не требуют дополнительной памяти."
      ],
      "metadata": {
        "id": "1jOxyu2kiNrW"
      }
    },
    {
      "cell_type": "markdown",
      "source": [
        "### **Поиск**"
      ],
      "metadata": {
        "id": "NhSt3BXoiR6K"
      }
    },
    {
      "cell_type": "markdown",
      "source": [
        "В главе 3 “Поиск, сортировка и анализ сложности” обсуждался последовательный\n",
        "поиск заданного элемента в списке. Последовательный поиск связанной структуры напоминает обход в\n",
        "том смысле, что вы должны начать с первого узла и переходить по ссылкам, пока не дойдете до контрольного. Однако\n",
        "в этом случае есть два возможных ориентира:\n",
        "\n",
        "• Пустая ссылка, указывающая на то, что больше нет элементов данных для проверки\n",
        "\n",
        "• Элемент данных, равный целевому элементу, указывающий на успешный поиск\n",
        "\n",
        "Вот форма поиска для данного элемента:"
      ],
      "metadata": {
        "id": "Tt9EKibniXSl"
      }
    },
    {
      "cell_type": "code",
      "source": [
        "probe = head\n",
        "while probe != None and targetItem != probe.data:\n",
        "    # probe = probe.next\n",
        "    if probe != None:\n",
        "        # <targetItem has been found >\n",
        "        a = 1 + 1\n",
        "    else:\n",
        "        # <targetItem is not in the linked structure>\n",
        "        a = 1 + 1\n"
      ],
      "metadata": {
        "id": "eMNELiZEiffx"
      },
      "execution_count": 16,
      "outputs": []
    },
    {
      "cell_type": "markdown",
      "source": [
        "### **Замена**"
      ],
      "metadata": {
        "id": "2hFm5MeQjV4F"
      }
    },
    {
      "cell_type": "markdown",
      "source": [
        "Операции замены в односвязной структуре также используют шаблон обхода\n",
        ". В этих случаях выполняется поиск заданного элемента или заданной позиции в связанной\n",
        "структуре и замена элемента новым элементом. Первая операция, заменяющая данный\n",
        "элемент, не обязательно предполагает, что целевой элемент находится в связанной структуре. Если целевой элемент\n",
        "отсутствует, замена не происходит, и операция возвращает значение False. Если целевой\n",
        "элемент присутствует, новый элемент заменяет его, и операция возвращает значение True. Вот форма\n",
        "операции:"
      ],
      "metadata": {
        "id": "ChO4Yp7CjZvs"
      }
    },
    {
      "cell_type": "code",
      "source": [
        "probe = head\n",
        "while probe != None and targetItem != probe.data:\n",
        "    probe = probe.next\n",
        "if probe != None:\n",
        "    probe.data = newItem\n",
        "    # return True\n",
        "else:\n",
        "    # return False\n",
        "    probe = newItem"
      ],
      "metadata": {
        "id": "9rYKQnyijege"
      },
      "execution_count": 17,
      "outputs": []
    },
    {
      "cell_type": "markdown",
      "source": [
        "## **Вставка в начале**"
      ],
      "metadata": {
        "id": "EoZMdbg5iei5"
      }
    },
    {
      "cell_type": "markdown",
      "source": [
        "К настоящему времени вы, вероятно, задаетесь вопросом, существует ли операция над\n",
        "связанной структурой, которая лучше линейной. На самом деле их несколько. В некоторых случаях эти операции могут сделать связанные\n",
        "структуры предпочтительнее массивов. Первым таким случаем является вставка элемента в начало структуры. Это как раз то, что неоднократно выполнялось в программе тестирования\n",
        "предыдущего раздела. Вот форма:"
      ],
      "metadata": {
        "id": "4jPxcF3VijUT"
      }
    },
    {
      "cell_type": "code",
      "source": [
        "head = Node(newItem, head)"
      ],
      "metadata": {
        "id": "qf_6azcyilAE"
      },
      "execution_count": 21,
      "outputs": []
    },
    {
      "cell_type": "markdown",
      "source": [
        "На рисунке 4-11 показана эта операция для двух случаев. В первом случае указатель head равен None, поэтому\n",
        "в структуру вставляется первый элемент. Во втором случае второй элемент вставляется в\n",
        "начало той же структуры."
      ],
      "metadata": {
        "id": "8ErXLczYiqoL"
      }
    },
    {
      "cell_type": "markdown",
      "source": [
        "![Снимок экрана 2024-03-15 125654.png](data:image/png;base64,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)"
      ],
      "metadata": {
        "id": "TtbzWwnnis9Z"
      }
    },
    {
      "cell_type": "markdown",
      "source": [
        "## **Inserting at the End**"
      ],
      "metadata": {
        "id": "YvBbeCGjjDrx"
      }
    },
    {
      "cell_type": "markdown",
      "source": [
        "Вставка элемента в конец массива (используется в операции добавления списка в Python)\n",
        "требует постоянного времени и памяти, если только размер массива не должен быть изменен. Один и тот же процесс для\n",
        "односвязной структуры должен учитывать два случая:\n",
        "\n",
        "*   Указатель head равен None, поэтому указатель head установлен на новый узел.\n",
        "*   Указатель head не равен None, поэтому код выполняет поиск последнего узла и\n",
        "направляет свой следующий\n",
        "указатель на новый узел."
      ],
      "metadata": {
        "id": "ucpxhQF8jJ-7"
      }
    },
    {
      "cell_type": "markdown",
      "source": [
        "Во втором случае вы возвращаетесь к шаблону обхода. Вот код:"
      ],
      "metadata": {
        "id": "TT_Udneljinp"
      }
    },
    {
      "cell_type": "code",
      "source": [
        "newNode = Node(newItem)\n",
        "if head is None:\n",
        "    head = newNode\n",
        "else:\n",
        "    probe = head\n",
        "    while probe.next != None:\n",
        "        probe = probe.next\n",
        "    probe.next = newNode"
      ],
      "metadata": {
        "id": "rS9GZypii97L"
      },
      "execution_count": 22,
      "outputs": []
    },
    {
      "cell_type": "markdown",
      "source": [
        "## **Удаление в начале**"
      ],
      "metadata": {
        "id": "91AwoHwNjrmH"
      }
    },
    {
      "cell_type": "markdown",
      "source": [
        "В программе тестирования из предыдущего раздела вы неоднократно удаляли элемент в\n",
        "начале связанной структуры. При выполнении операции такого типа обычно можно предположить, что\n",
        "в структуре есть по крайней мере один узел. Операция возвращает удаленный элемент. Вот\n",
        "код:"
      ],
      "metadata": {
        "id": "D2rxOxmjjwCH"
      }
    },
    {
      "cell_type": "code",
      "source": [
        "# Assumes at least one node in the structure\n",
        "removedItem = head.data\n",
        "head = head.next\n",
        "# return removedItem"
      ],
      "metadata": {
        "id": "6lWj1gU_j0ff"
      },
      "execution_count": 23,
      "outputs": []
    },
    {
      "cell_type": "markdown",
      "source": [
        "## **Удаление в конце**"
      ],
      "metadata": {
        "id": "EOWxKXNPkH4f"
      }
    },
    {
      "cell_type": "markdown",
      "source": [
        "Удаление элемента в конце массива (используется в методе pop списка Python) требует\n",
        "постоянного времени и памяти, если только вам не нужно изменять размер массива. Тот же процесс для одной\n",
        "связанной структуры предполагает наличие по крайней мере одного узла в структуре. Следует рассмотреть два случая:\n",
        "\n",
        "*   Есть только один узел. Указателю head присвоено значение None.\n",
        "*   Перед последним узлом есть узел. Код выполняет поиск этого предпоследнего узла и\n",
        "устанавливает его следующий указатель равным None.\n",
        "\n",
        "В любом случае код возвращает элемент данных, содержащийся в удаленном узле. Вот\n",
        "форма:"
      ],
      "metadata": {
        "id": "weXEsMPTkH2G"
      }
    },
    {
      "cell_type": "code",
      "source": [
        "# Assumes at least one node in structure\n",
        "removedItem = head.data\n",
        "if head.next is None:\n",
        "    head = None\n",
        "else:\n",
        "    probe = head\n",
        "    while probe.next.next != None:\n",
        "        probe = probe.next\n",
        "    removedItem = probe.next.data\n",
        "    probe.next = None\n",
        "# return removedItem"
      ],
      "metadata": {
        "id": "PeojDCU9ku9K"
      },
      "execution_count": 24,
      "outputs": []
    },
    {
      "cell_type": "markdown",
      "source": [
        "## **Вставка на любую позицию**"
      ],
      "metadata": {
        "id": "p1KmrC5ilttk"
      }
    },
    {
      "cell_type": "markdown",
      "source": [
        "Вставка элемента в i–ю позицию массива требует перемещения элементов из позиции i вниз в позицию n - 1. Таким образом, вы фактически вставляете элемент перед элементом, находящимся в данный момент в\n",
        "позиции i, так что новый элемент занимает позицию i, а старый элемент занимает позицию i 1 1.\n",
        "Как насчет случаев с пустым массивом или индексом, который больше n – 1? Если массив\n",
        "пуст, новый элемент помещается в начало, тогда как если индекс больше или равен\n",
        "n, элемент помещается в конец."
      ],
      "metadata": {
        "id": "dqL3KEIsl4WT"
      }
    },
    {
      "cell_type": "markdown",
      "source": [
        "Вставка элемента в i-ю позицию связанной структуры должна касаться тех же\n",
        "случаев. В случае вставки в начале используется код, представленный ранее. Однако в случае\n",
        "вставки в какую–либо другую позицию i операция должна сначала найти узел в\n",
        "позиции i – 1 (если i , n) или узел в позиции n - 1 (если i .5 n). Тогда следует\n",
        "рассмотреть два случая:\n",
        "\n",
        "*   Следующий указатель этого узла равен None. Это означает, что i .5 n, поэтому вам следует поместить новый\n",
        "элемент в конец связанной структуры.\n",
        "*   Следующий указатель этого узла не равен None. Это означает, что 0 , i , n, поэтому вы должны поместить\n",
        "новый элемент между узлом в позиции i – 1 и узлом в позиции i.\n",
        "\n"
      ],
      "metadata": {
        "id": "2WQ-GqKimIDm"
      }
    },
    {
      "cell_type": "markdown",
      "source": [
        "Как и при поиске i-го элемента, операция вставки должна подсчитывать узлы до тех\n",
        "пор, пока не будет достигнута желаемая позиция. Однако, поскольку целевой индекс может быть больше или равен\n",
        "количеству узлов, вы должны быть осторожны, чтобы не отклониться от конца связанной структуры\n",
        "при поиске. Таким образом, цикл имеет дополнительное условие, которое проверяет следующий\n",
        "указатель текущего узла, чтобы увидеть, является ли он конечным узлом. Вот форма:"
      ],
      "metadata": {
        "id": "_NmxfIsOmVCN"
      }
    },
    {
      "cell_type": "code",
      "source": [
        "if head is None or index <= 0:\n",
        "    head = Node(newItem, head)\n",
        "else:\n",
        "# Search for node at position index - 1 or the last position\n",
        "    probe = head\n",
        "    while index > 1 and probe.next != None:\n",
        "        probe = probe.next\n",
        "        index -= 1\n",
        "    # Insert new node after node at position index - 1\n",
        "    # or last position\n",
        "    probe.next = Node(newItem, probe.next)"
      ],
      "metadata": {
        "id": "r0eY6hCGmWxT"
      },
      "execution_count": 25,
      "outputs": []
    },
    {
      "cell_type": "markdown",
      "source": [
        "## **Удаление на любой позииции**"
      ],
      "metadata": {
        "id": "JtjGqv2Cmw_c"
      }
    },
    {
      "cell_type": "markdown",
      "source": [
        "Удаление i-го элемента из связанной структуры происходит в трех случаях:\n",
        "\n",
        "*   i <= 0 — Вы используете код для удаления первого элемента.\n",
        "*   0 < i < n — Вы выполняете поиск узла в позиции i – 1, как при вставке, и удаляете\n",
        "следующий узел.\n",
        "*   i > n — Вы удаляете последний узел.\n",
        "\n",
        "Предположим, что в связанной структуре есть по крайней мере один элемент. Шаблон аналогичен\n",
        "шаблону, используемому для вставки, в том смысле, что вы должны остерегаться выхода за пределы конца связанной структуры.\n",
        "Однако вы должны разрешить указателю зонда перемещаться не дальше, чем на второй узел от\n",
        "конца структуры. Вот форма:"
      ],
      "metadata": {
        "id": "osujD1Ywmw1g"
      }
    },
    {
      "cell_type": "code",
      "source": [
        "# Assumes that the linked structure has at least one item\n",
        "if index <= 0 or head.next is None:\n",
        "    removedItem = head.data\n",
        "    head = head.next\n",
        "    # return removedItem\n",
        "else:\n",
        "    # Search for node at position index - 1 or\n",
        "    # the next to last position\n",
        "    probe = head\n",
        "    while index > 1 and probe.next.next != None:\n",
        "        probe = probe.next\n",
        "        index -= 1\n",
        "    removedItem = probe.next.data\n",
        "    probe.next = probe.next.next\n",
        "    # return removedItem"
      ],
      "metadata": {
        "id": "JEqGcj9bnO_r"
      },
      "execution_count": 26,
      "outputs": []
    },
    {
      "cell_type": "markdown",
      "source": [
        "## **Компромисс между сложностью: Время, пространство и односвязные структуры**"
      ],
      "metadata": {
        "id": "b0WepS22nqHq"
      }
    },
    {
      "cell_type": "markdown",
      "source": [
        "Односвязные структуры представляют собой иной компромисс между пространством и временем, чем массивы. Таблица 4-3\n",
        "содержит информацию о времени выполнения операций.\n",
        "Удивительно, но этот подсчет показывает, что единственными двумя операциями связанной структуры, которые не являются линейными по времени, являются вставка и удаление первого элемента. Вам может быть интересно, почему\n",
        "используется связанная структура вместо массива, если так много операций связанной структуры имеют\n",
        "линейное поведение. Ну, предположим, вы хотите реализовать коллекцию, которая просто вставляет, получает доступ,\n",
        "или удаляет первый элемент."
      ],
      "metadata": {
        "id": "GWKrRhwCnp96"
      }
    },
    {
      "cell_type": "markdown",
      "source": [
        "![Снимок экрана 2024-03-15 132343.png](data:image/png;base64,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)"
      ],
      "metadata": {
        "id": "_FSIJVU4o6pW"
      }
    },
    {
      "cell_type": "markdown",
      "source": [
        "## **Варианты ссылки**"
      ],
      "metadata": {
        "id": "RjCVdbgBpHvx"
      }
    },
    {
      "cell_type": "markdown",
      "source": [
        "### **Циклически связанная структура с фиктивным узлом заголовка**"
      ],
      "metadata": {
        "id": "F7ndnhjapqCT"
      }
    },
    {
      "cell_type": "markdown",
      "source": [
        "Вставка и удаление первого узла являются частными случаями операций insert ith и\n",
        "remove для односвязных структур. Эти случаи являются особыми, поскольку\n",
        "указатель head должен быть сброшен. Вы можете упростить эти операции, используя циклически\n",
        "связанную структуру с фиктивным узлом header. Циклически связанная структура содержит ссылку\n",
        "от последнего узла обратно к первому узлу в структуре. В этой реализации всегда есть по крайней мере один\n",
        "узел. Этот узел, фиктивный узел заголовка, не содержит данных, но\n",
        "служит маркером для начала и конца связанной структуры."
      ],
      "metadata": {
        "id": "xSRxOUuipt7z"
      }
    },
    {
      "cell_type": "markdown",
      "source": [
        "Поиск i-го узла начинается с узла, следующего за фиктивным узлом заголовка. Предположим\n",
        ", что пустая связанная структура инициализирована следующим образом:"
      ],
      "metadata": {
        "id": "Qg7Wux4wqFNX"
      }
    },
    {
      "cell_type": "code",
      "source": [
        "head = Node(None, None)\n",
        "head.next = head"
      ],
      "metadata": {
        "id": "EYBLRNmgqI6z"
      },
      "execution_count": 27,
      "outputs": []
    },
    {
      "cell_type": "markdown",
      "source": [
        "Вот код для вставок в i-ю позицию, использующий это новое представление связанной\n",
        "структуры:"
      ],
      "metadata": {
        "id": "FzUYwK0qqNOm"
      }
    },
    {
      "cell_type": "code",
      "source": [
        "# Search for node at position index - 1 or the last position\n",
        "probe = head\n",
        "while index > 0 and probe.next != head:\n",
        "    probe = probe.next\n",
        "    index -= 1\n",
        "# Insert new node after node at position index - 1 or\n",
        "# last position\n",
        "probe.next = Node(newItem, probe.next)"
      ],
      "metadata": {
        "id": "oBm8tnbDqPNR"
      },
      "execution_count": 28,
      "outputs": []
    },
    {
      "cell_type": "markdown",
      "source": [
        "Преимущество этой реализации заключается в том, что операции вставки и удаления должны\n",
        "учитывать только один случай — случай, в котором i-й узел находится между предыдущим узлом и\n",
        "текущим i-м узлом. Когда i-й узел является первым узлом, предыдущий узел является узлом заголовка.\n",
        "Когда i .5 n, последний узел является предыдущим узлом, а узел заголовка является следующим узлом."
      ],
      "metadata": {
        "id": "wzUf3ApcqXWq"
      }
    },
    {
      "cell_type": "markdown",
      "source": [
        "### **Двусвязные структуры**"
      ],
      "metadata": {
        "id": "4N-mYJh7q0IQ"
      }
    },
    {
      "cell_type": "markdown",
      "source": [
        "Двусвязная структура обладает преимуществами односвязной структуры. Кроме того, она\n",
        "позволяет пользователю выполнять следующее:\n",
        "\n",
        "*   Перемещаться влево, к предыдущему узлу, от данного узла.\n",
        "*   Немедленно переходить к последнему узлу.\n",
        "\n"
      ],
      "metadata": {
        "id": "xccQc_Sqq1Ov"
      }
    },
    {
      "cell_type": "markdown",
      "source": [
        "Реализация класса node в Python для двусвязных структур расширяет класс Node\n",
        ", рассмотренный ранее, путем добавления поля для предыдущего указателя. Вот код для двух классов:"
      ],
      "metadata": {
        "id": "Y_EdbdvVrCR7"
      }
    },
    {
      "cell_type": "code",
      "source": [
        "class Node(object):\n",
        "\n",
        "    def __init__(self, data, next = None):\n",
        "        \"\"\"Instantiates a Node with default next of None\"\"\"\n",
        "        self.data = data\n",
        "        self.next = next\n",
        "\n",
        "class TwoWayNode(Node):\n",
        "\n",
        "    def __init__(self, data, previous = None, next = None):\n",
        "        \"\"\"Instantiates a TwoWayNode.\"\"\"\n",
        "        Node.__init__(self, data, next)\n",
        "        self.previous = previous"
      ],
      "metadata": {
        "id": "Spgyoas_rF5V"
      },
      "execution_count": 29,
      "outputs": []
    },
    {
      "cell_type": "markdown",
      "source": [
        "Следующая программа тестирования создает двусвязную структуру, добавляя элементы в конец.\n",
        "Затем программа отображает содержимое связанной структуры, начиная с последнего элемента и\n",
        "возвращаясь к первому элементу:"
      ],
      "metadata": {
        "id": "QXHW7es7rQGF"
      }
    },
    {
      "cell_type": "code",
      "source": [
        "# Create a doubly linked structure with one node\n",
        "head = TwoWayNode(1)\n",
        "tail = head\n",
        "\n",
        "# Add four nodes to the end of the doubly linked structure\n",
        "for data in range(2, 6):\n",
        "    tail.next = TwoWayNode(data, tail)\n",
        "    tail = tail.next\n",
        "\n",
        "# Print the contents of the linked structure in reverse order\n",
        "probe = tail\n",
        "while probe != None:\n",
        "    print(probe.data)\n",
        "    probe = probe.previous\n",
        "\n",
        "tail.next = TwoWayNode(data, tail)\n",
        "tail = tail.next"
      ],
      "metadata": {
        "colab": {
          "base_uri": "https://localhost:8080/"
        },
        "id": "5U89dWMxrT4k",
        "outputId": "e9df162c-075b-4392-92f4-705c4bb8f521"
      },
      "execution_count": 31,
      "outputs": [
        {
          "output_type": "stream",
          "name": "stdout",
          "text": [
            "5\n",
            "4\n",
            "3\n",
            "2\n",
            "1\n"
          ]
        }
      ]
    },
    {
      "cell_type": "markdown",
      "source": [
        "Цель этих инструкций - вставить новый элемент в конец связанной структуры.\n",
        "Вы можете предположить, что в связанной структуре есть по крайней мере один узел и что конечный\n",
        "указатель всегда указывает на последний узел в непустой связанной структуре. Вы должны установить\n",
        "три указателя в следующем порядке:\n",
        "\n",
        "\n",
        "\n",
        "1.   Предыдущий указатель нового узла должен быть направлен на текущий конечный узел. Это\n",
        "достигается путем передачи tail в качестве второго аргумента конструктору узла.\n",
        "2.   Следующий указатель текущего конечного узла должен быть направлен на новый узел. Первый\n",
        "оператор присваивания выполняет это.\n",
        "3. Конечный указатель должен быть направлен на новый узел. Второй оператор присваивания выполняет это.\n",
        "\n"
      ],
      "metadata": {
        "id": "3UIGC9QJrglt"
      }
    },
    {
      "cell_type": "markdown",
      "source": [
        "Как можно увидеть, вставки в середине двусвязной структуры потребовали\n",
        "бы перенаправления еще большего количества указателей. Однако количество перенаправленных принтеров всегда постоянно\n",
        ", независимо от того, где находится целевая позиция."
      ],
      "metadata": {
        "id": "1w-bhzM0rx8O"
      }
    },
    {
      "cell_type": "markdown",
      "source": [
        "Более общие операции вставки и удаления для двусвязных структур также\n",
        "имеют два особых случая, как и для односвязных структур. Вы можете упростить эти операции, прибегнув к циклически связанной структуре с фиктивным узлом заголовка. Это\n",
        "упражнение для вас на потом.\n",
        "\n",
        "За исключением вставок и удалений в конце структуры,\n",
        "сложность выполнения операций над двусвязной структурой такая же, как и соответствующих операций над односвязной структурой. Однако линейный объем дополнительной памяти является\n",
        "требуется для дополнительных указателей двусвязной структуры."
      ],
      "metadata": {
        "id": "uRKuMkbir0Ht"
      }
    }
  ]
}
{
  "nbformat": 4,
  "nbformat_minor": 0,
  "metadata": {
    "colab": {
      "provenance": []
    },
    "kernelspec": {
      "name": "python3",
      "display_name": "Python 3"
    },
    "language_info": {
      "name": "python"
    }
  },
  "cells": [
    {
      "cell_type": "markdown",
      "source": [
        "#**Основы программирования на питоне**"
      ],
      "metadata": {
        "id": "g1cb-dJpIBbg"
      }
    },
    {
      "cell_type": "markdown",
      "source": [
        "## **Основные элементы программирования**\n",
        "\n",
        "\n"
      ],
      "metadata": {
        "id": "Td96HyGEIRWq"
      }
    },
    {
      "cell_type": "markdown",
      "source": [
        "Как и все современные языки программирования, Python обладает огромным набором функций и\n",
        "конструкций. Однако Python является одним из немногих языков, базовые программные элементы которых довольно просты. В этом разделе обсуждаются основы, которые помогут вам начать\n",
        "программировать на Python."
      ],
      "metadata": {
        "id": "KiOqhS1xIuTX"
      }
    },
    {
      "cell_type": "markdown",
      "source": [
        "Программа на Python состоит из одного или нескольких модулей. Модуль - это просто файл кода на Python,\n",
        "который может включать инструкции, определения функций и классов. Короткая\n",
        "программа на Python, также называемая скриптом, может содержаться в одном модуле. Более длинные и сложные программы обычно включают в себя один основной модуль и один или несколько вспомогательных модулей. Основной\n",
        "модуль содержит отправную точку выполнения программы. Вспомогательные модули содержат\n",
        "определения функций и классов."
      ],
      "metadata": {
        "id": "O3IfOGL1I0Ym"
      }
    },
    {
      "cell_type": "markdown",
      "source": [
        "## **Пример программы на Python: Угадывание числа**"
      ],
      "metadata": {
        "id": "SpArZvtXJHTC"
      }
    },
    {
      "cell_type": "markdown",
      "source": [
        "Далее мы рассмотрим полную программу на Python, которая играет с пользователем в игру \"Угадай число\n",
        "\". Компьютер просит пользователя ввести нижнюю и верхнюю границы диапазона\n",
        "чисел. Затем компьютер “думает” о случайном числе в этом диапазоне и повторно\n",
        "просит пользователя угадать это число, пока пользователь не введет правильное предположение. Компьютер выдает\n",
        "подсказку пользователю после каждой догадки и отображает общее количество догадок в конце\n",
        "процесса. Программа включает в себя несколько типов операторов Python, которые будут обсуждаться\n",
        "далее в этой главе, например, инструкции ввода, инструкции вывода, инструкции присваивания,\n",
        "циклы и условные операторы. Программа также включает в себя определение одной функции."
      ],
      "metadata": {
        "id": "gRXUNd-lJHxd"
      }
    },
    {
      "cell_type": "code",
      "execution_count": null,
      "metadata": {
        "colab": {
          "base_uri": "https://localhost:8080/"
        },
        "id": "jXoFlnhXGSQV",
        "outputId": "3ccd860b-eb87-4ea0-cf7e-2d1554b72c40"
      },
      "outputs": [
        {
          "output_type": "stream",
          "name": "stdout",
          "text": [
            "Enter the smaller number: 1\n",
            "Enter the larger number: 31\n",
            "Enter your guess: 20\n",
            "Too large\n",
            "Enter your guess: 15\n",
            "Too small\n",
            "Enter your guess: 16\n",
            "Too small\n",
            "Enter your guess: 17\n",
            "Too small\n",
            "Enter your guess: 18\n",
            "Too small\n",
            "Enter your guess: 19\n",
            "You’ve got it in 6 tries!\n"
          ]
        }
      ],
      "source": [
        "\"\"\"\n",
        "Author: Ken Lambert\n",
        "Plays a game of guess the number with the user.\n",
        "\"\"\"\n",
        "import random\n",
        "\n",
        "\n",
        "def main():\n",
        "    \"\"\"Inputs the bounds of the range of numbers\n",
        "    and lets the user guess the computer’s number until\n",
        "    the guess is correct.\"\"\"\n",
        "    smaller = int(input(\"Enter the smaller number: \"))\n",
        "    larger = int(input(\"Enter the larger number: \"))\n",
        "    myNumber = random.randint(smaller, larger)\n",
        "    count = 0\n",
        "    while True:\n",
        "        count += 1\n",
        "        userNumber = int(input(\"Enter your guess: \"))\n",
        "        if userNumber < myNumber:\n",
        "            print(\"Too small\")\n",
        "        elif userNumber > myNumber:\n",
        "            print(\"Too large\")\n",
        "        else:\n",
        "            print(\"You’ve got it in\", count, \"tries!\")\n",
        "            break\n",
        "\n",
        "\n",
        "if __name__ == \"__main__\":\n",
        "    main()"
      ]
    },
    {
      "cell_type": "markdown",
      "source": [
        "Стоит обратить внимание, что код и его трассировка отображаются в цветах черный, синий, оранжевый и зеленый. В Python\n",
        "IDLE используется цветовое кодирование, чтобы помочь читателю распознавать различные типы программных элементов.\n",
        "Роль каждого цвета будет объяснена вкратце."
      ],
      "metadata": {
        "id": "SEsMho0IJ955"
      }
    },
    {
      "cell_type": "markdown",
      "source": [
        "## **Программные компоненты**"
      ],
      "metadata": {
        "id": "IHo_tz_OKG3p"
      }
    },
    {
      "cell_type": "markdown",
      "source": [
        "Программный комментарий - это текст, игнорируемый компилятором Python, но ценный для читателя в качестве\n",
        "документации. Комментарий в конце строки в Python начинается с символа # и продолжается до\n",
        "конца текущей строки. Он имеет красную цветовую кодировку. Например:"
      ],
      "metadata": {
        "id": "zSfkFwHgKLPk"
      }
    },
    {
      "cell_type": "code",
      "source": [
        "# This is an end-of-line comment."
      ],
      "metadata": {
        "id": "bXz5LkfRKPu3"
      },
      "execution_count": null,
      "outputs": []
    },
    {
      "cell_type": "markdown",
      "source": [
        "## **Лексические элементы**"
      ],
      "metadata": {
        "id": "DlO9b5HJKSyQ"
      }
    },
    {
      "cell_type": "markdown",
      "source": [
        "Лексические элементы в языке - это типы слов или символов, используемых для построения\n",
        "предложений. Как и во всех языках программирования высокого уровня, некоторые из базовых символов Python - это\n",
        "ключевые слова, такие как if, while и def, которые окрашены в оранжевый цвет. Также к лексическим\n",
        "элементам относятся идентификаторы (имена), литералы (числа, строки и другие встроенные структуры данных),\n",
        "операторы и разделители (кавычки, запятые, круглые скобки, квадратные скобки и\n",
        "фигурные скобки-брекеты). Среди идентификаторов есть названия встроенных функций, которые окрашены в фиолетовый цвет."
      ],
      "metadata": {
        "id": "dAEc4yw2Kb-y"
      }
    },
    {
      "cell_type": "markdown",
      "source": [
        "## **Соглашения о правописании и именовании**"
      ],
      "metadata": {
        "id": "P7zOFNYxKuBE"
      }
    },
    {
      "cell_type": "markdown",
      "source": [
        "Ключевые слова и имена Python чувствительны к регистру. Таким образом, while - это ключевое слово, тогда как While - это имя, определяемое программистом. Ключевые слова Python пишутся строчными буквами и выделяются\n",
        "оранжевым цветом в окне ожидания."
      ],
      "metadata": {
        "id": "ajTZH-1HKwFt"
      }
    },
    {
      "cell_type": "markdown",
      "source": [
        "| Тип наименования | Пример |\n",
        "| --- | --- |\n",
        "| Переменная | salary, hoursWorked, isAbsent |\n",
        "| Константа | ABSOLUTE_ZERO, INTEREST_RATE |\n",
        "| Функция или метод | printResults, cubeRoot, input |\n",
        "| Класс | BankAccount, SortedSet |"
      ],
      "metadata": {
        "id": "zW2LMrgqLwQc"
      }
    },
    {
      "cell_type": "markdown",
      "source": [
        "Стоит использовать имена, описывающие их роль в программе. В общем, имена переменных должны\n",
        "быть существительными или прилагательными (если они обозначают логические значения), тогда как имена функций и методов\n",
        "должны быть глаголами, если они обозначают действия, или существительными или прилагательными, если они обозначают\n",
        "возвращаемые значения."
      ],
      "metadata": {
        "id": "rqo14TuBNlOO"
      }
    },
    {
      "cell_type": "markdown",
      "source": [
        "## **Литералы**"
      ],
      "metadata": {
        "id": "ydeq9wagOMve"
      }
    },
    {
      "cell_type": "markdown",
      "source": [
        "Числа (целые или с плавающей запятой) записываются так, как они записываются в других языках программирования. Логические значения True и False являются ключевыми словами. Некоторые структуры данных,\n",
        "такие как строки, кортежи, списки и словари, также содержат литералы, как вы вскоре увидите."
      ],
      "metadata": {
        "id": "2dPndI0PONNo"
      }
    },
    {
      "cell_type": "markdown",
      "source": [
        "## **Строковые литералы**"
      ],
      "metadata": {
        "id": "ZhNdXEoYOYU1"
      }
    },
    {
      "cell_type": "markdown",
      "source": [
        "Вы можете заключать строки в одинарные кавычки, двойные кавычки или наборы из трех двойных кавычек или\n",
        "трех одинарных кавычек. Последнее обозначение полезно для строки, содержащей несколько строк текста.\n",
        "Символьные значения - это односимвольные строки. Символ \\ используется для экранирования неграфических\n",
        "символов, таких как новая строка (\\n) и табуляция (\\t), или самого символа \\. Следующий\n",
        "сегмент кода, за которым следует вывод, иллюстрирует возможности."
      ],
      "metadata": {
        "id": "ac-7H7MkOX5f"
      }
    },
    {
      "cell_type": "code",
      "source": [
        "print(\"Using double quotes\")\n",
        "print('Using single quotes')\n",
        "print(\"Mentioning the word ‘Python’ by quoting it\")\n",
        "print(\"Embedding a\\nline break with \\\\n\")\n",
        "print(\"\"\"Embedding a\n",
        "line break with triple quotes\"\"\")"
      ],
      "metadata": {
        "colab": {
          "base_uri": "https://localhost:8080/"
        },
        "id": "pa9Zyn-KOi10",
        "outputId": "0d06b1c7-7512-4a34-b8fe-2ecbb0ef0ebe"
      },
      "execution_count": null,
      "outputs": [
        {
          "output_type": "stream",
          "name": "stdout",
          "text": [
            "Using double quotes\n",
            "Using single quotes\n",
            "Mentioning the word ‘Python’ by quoting it\n",
            "Embedding a\n",
            "line break with \\n\n",
            "Embedding a\n",
            "line break with triple quotes\n"
          ]
        }
      ]
    },
    {
      "cell_type": "markdown",
      "source": [
        "Арифметические выражения используют стандартные операторы (+, –, *, /, %) и инфиксную запись.\n",
        "\n",
        "Оператор\n",
        "/ выдает результат с плавающей запятой с любыми числовыми операндами, тогда как оператор //\n",
        "выдает целое частное.\n",
        "\n",
        "Оператор + означает объединение при использовании\n",
        "с коллекциями, такими как строки и списки.\n",
        "\n",
        "Оператор ** используется для возведения в степень.\n",
        "\n",
        "Операторы сравнения <, <=, >, >=, ==, и != работают с числами и строками.\n",
        "\n",
        "Оператор == сравнивает внутреннее содержимое структур данных, таких как два списка, для\n",
        "структурная эквивалентность, тогда как оператор is сравнивает два значения для идентификации объекта.\n",
        "\n",
        "Сравнения возвращают значение True или False.\n",
        "\n",
        "Логические операторы and, or, и not обрабатывают несколько значений, таких как 0, None, пустая строка\n",
        "и пустой список, как False. Напротив, большинство других значений Python считаются истинными.\n",
        "\n",
        "Оператор подстрочного индекса [], используемый с объектами коллекции, будет рассмотрен в ближайшее время.\n",
        "\n",
        "Оператор селектора ‘ . ’ используется для ссылки на именованный элемент в модуле, классе или объекте.\n",
        "\n",
        "Операторы имеют стандартный приоритет (селектор, вызов функции, индекс, арифметика,\n",
        "сравнение, логическое, присваивание). Круглые скобки используются обычным образом для группировки подвыражений для более раннего вычисления.\n",
        "\n",
        "Операторы ** и = являются правоассоциативными, тогда как остальные являются левоассоциативными."
      ],
      "metadata": {
        "id": "C-fcyMJsO428"
      }
    },
    {
      "cell_type": "markdown",
      "source": [
        "## **Вызовы функций**"
      ],
      "metadata": {
        "id": "Rfr1XsZkPPSb"
      }
    },
    {
      "cell_type": "markdown",
      "source": [
        "Функции вызываются обычным образом, за именем функции следует список аргументов, заключенный в круглые скобки. Например:"
      ],
      "metadata": {
        "id": "PKh_s9vrPWmM"
      }
    },
    {
      "cell_type": "code",
      "source": [
        "min(5, 2)"
      ],
      "metadata": {
        "colab": {
          "base_uri": "https://localhost:8080/"
        },
        "id": "ic_nOb-BPcS5",
        "outputId": "ab4d4fd8-d7ab-44fe-dfd4-f91a28e38c91"
      },
      "execution_count": null,
      "outputs": [
        {
          "output_type": "execute_result",
          "data": {
            "text/plain": [
              "2"
            ]
          },
          "metadata": {},
          "execution_count": 4
        }
      ]
    },
    {
      "cell_type": "markdown",
      "source": [
        "## **Функции преобразования типов и операции в смешанном режиме**"
      ],
      "metadata": {
        "id": "9LZDBmEhP7t6"
      }
    },
    {
      "cell_type": "markdown",
      "source": [
        "Вы можете использовать имена некоторых типов данных в качестве функций преобразования типов. Например, когда\n",
        "пользователь вводит число с клавиатуры, функция ввода возвращает строку цифр, а не\n",
        "числовое значение. Программа должна преобразовать эту строку в int или float перед числовой\n",
        "обработкой. Следующий сегмент кода вводит радиус окружности, преобразует эту строку в значение с\n",
        "плавающей точкой, вычисляет и выводит площадь окружности:"
      ],
      "metadata": {
        "id": "DLbaqCK2QANP"
      }
    },
    {
      "cell_type": "code",
      "source": [
        "radius = float(input(\"Radius: \"))\n",
        "print(\"The area is\", 3.14 * radius ** 2)"
      ],
      "metadata": {
        "id": "5Fj9sIhGQIAt"
      },
      "execution_count": null,
      "outputs": []
    },
    {
      "cell_type": "markdown",
      "source": [
        "Как и большинство других языков, Python допускает использование операндов разных числовых типов в арифметических\n",
        "выражениях. В этих случаях тип результата совпадает с типом наиболее общего операнда\n",
        ". Например, сложение int и float приводит к получению float в качестве результата."
      ],
      "metadata": {
        "id": "SbHWyqqPQO3O"
      }
    },
    {
      "cell_type": "markdown",
      "source": [
        "## **Необязательные аргументы функции и ключевое слово**"
      ],
      "metadata": {
        "id": "IR2JcvrKQPqo"
      }
    },
    {
      "cell_type": "markdown",
      "source": [
        "Функции могут допускать необязательные аргументы, которые при\n",
        "вызове функции могут быть названы ключевыми словами. Например, функция print по умолчанию выводит новую строку после отображаются его аргументы. Чтобы этого не произошло, вы можете присвоить необязательному\n",
        "аргументу end значение пустой строки следующим образом:"
      ],
      "metadata": {
        "id": "t_M_TSAUQQAi"
      }
    },
    {
      "cell_type": "code",
      "source": [
        "print(\"The cursor will stay on this line, at the end\", end = \"\")"
      ],
      "metadata": {
        "colab": {
          "base_uri": "https://localhost:8080/"
        },
        "id": "Fc4I58jvQfSZ",
        "outputId": "eaf2b143-7a97-48be-a39e-56a744686687"
      },
      "execution_count": null,
      "outputs": [
        {
          "output_type": "stream",
          "name": "stdout",
          "text": [
            "The cursor will stay on this line, at the end"
          ]
        }
      ]
    },
    {
      "cell_type": "markdown",
      "source": [
        "Обязательные аргументы не имеют значений по умолчанию. Необязательные аргументы имеют значения по умолчанию и\n",
        "могут отображаться в любом порядке при использовании их ключевых слов, если они идут после\n",
        "обязательных аргументов."
      ],
      "metadata": {
        "id": "V6iOwO_EQl-Q"
      }
    },
    {
      "cell_type": "markdown",
      "source": [
        "## **Переменные и оператор присваивания**"
      ],
      "metadata": {
        "id": "pv_ndchyQsCs"
      }
    },
    {
      "cell_type": "markdown",
      "source": [
        "Переменная Python вводится с помощью оператора присваивания. Например:"
      ],
      "metadata": {
        "id": "x6SOw6atQ4Da"
      }
    },
    {
      "cell_type": "code",
      "source": [
        "PI = 3.1416"
      ],
      "metadata": {
        "id": "teNKuK-IQ8sv"
      },
      "execution_count": null,
      "outputs": []
    },
    {
      "cell_type": "markdown",
      "source": [
        "присваивает PI значение 3,1416. Синтаксис простого оператора присваивания таков:"
      ],
      "metadata": {
        "id": "Es9ve-TDRL1K"
      }
    },
    {
      "cell_type": "code",
      "source": [
        "# <identifier> = <expression>"
      ],
      "metadata": {
        "id": "SmRihc9iRSBF"
      },
      "execution_count": null,
      "outputs": []
    },
    {
      "cell_type": "markdown",
      "source": [
        "## **Ввод данных на Python**"
      ],
      "metadata": {
        "id": "E9dK1WiKRN8x"
      }
    },
    {
      "cell_type": "markdown",
      "source": [
        "В Python любой переменной может быть присвоено значение любого типа. Переменные не объявляются имеющими\n",
        "тип, как во многих других языках; им просто присваивается значение.\n",
        "Следовательно, имена типов данных почти никогда не появляются в программах на Python. Однако все\n",
        "значения или объекты имеют типы. Типы операндов в выражениях проверяются во время выполнения,\n",
        "поэтому ошибки ввода не остаются незамеченными; однако программисту не нужно беспокоиться\n",
        "об упоминании типов данных при написании кода."
      ],
      "metadata": {
        "id": "5S1QzyH-RPDr"
      }
    },
    {
      "cell_type": "markdown",
      "source": [
        "## **Инструкции по импорту**"
      ],
      "metadata": {
        "id": "F8PMcrwvRrDr"
      }
    },
    {
      "cell_type": "markdown",
      "source": [
        "Оператор import делает видимыми для программы идентификаторы из другого модуля.\n",
        "Этими идентификаторами могут быть имена объектов, функций или классов. Существует несколько способов\n",
        "выразить оператор import. Самый простой - импортировать имя модуля, также можно импортировать отдельные методы, как например:"
      ],
      "metadata": {
        "id": "Vr785J4SRuy5"
      }
    },
    {
      "cell_type": "code",
      "source": [
        "import datetime\n",
        "from math import pi, sqrt\n",
        "print(sqrt(2))\n",
        "print(sqrt(2) * pi)"
      ],
      "metadata": {
        "colab": {
          "base_uri": "https://localhost:8080/"
        },
        "id": "NF4yytQXR1LT",
        "outputId": "a5af1dd4-c7e2-436f-f5cc-f9b88a3b3e51"
      },
      "execution_count": null,
      "outputs": [
        {
          "output_type": "stream",
          "name": "stdout",
          "text": [
            "1.4142135623730951\n",
            "4.442882938158366\n"
          ]
        }
      ]
    },
    {
      "cell_type": "markdown",
      "source": [
        "Хотя веб-сайт Python по адресу www.python.org содержит полную документацию по\n",
        "языку Python, справка по большинству языковых компонентов также легко доступна в\n",
        "оболочке Python. Чтобы получить доступ к такой справке, просто введите справку по вызову функции(<component>) в\n",
        "командной строке оболочки, где <component> - это имя модуля, тип данных, функция или метод.\n",
        "Например, help(abs) и help(math.sqrt) отображают документацию для функций abs и\n",
        "math.sqrt соответственно. Вызовы dir(int) и dir(math) перечисляют все операции\n",
        "в модуле типа int и математическом модуле соответственно. Затем вы можете запустить справку, чтобы получить справку по одной из\n",
        "этих операций."
      ],
      "metadata": {
        "id": "fANyl8R2SReM"
      }
    },
    {
      "cell_type": "markdown",
      "source": [
        "Обратите внимание, что если модуль не является встроенным модулем, который загружается Python при запуске оболочки,\n",
        "программист должен сначала импортировать этот модуль, прежде чем обращаться за помощью к нему. Например, в\n",
        "следующем сеансе работы с оболочкой отображается документация для программы\n",
        "numberguess, рассмотренной ранее в этой главе:"
      ],
      "metadata": {
        "id": "GQRvjWq-SZOK"
      }
    },
    {
      "cell_type": "code",
      "source": [
        "import markdown\n",
        "help(markdown)"
      ],
      "metadata": {
        "colab": {
          "base_uri": "https://localhost:8080/"
        },
        "id": "NKZu1pJNSan-",
        "outputId": "c7a62c98-d186-4c4a-e72d-ccc192d599d7"
      },
      "execution_count": null,
      "outputs": [
        {
          "output_type": "stream",
          "name": "stdout",
          "text": [
            "Help on package markdown:\n",
            "\n",
            "NAME\n",
            "    markdown\n",
            "\n",
            "DESCRIPTION\n",
            "    Python-Markdown provides two public functions ([`markdown.markdown`][] and [`markdown.markdownFromFile`][])\n",
            "    both of which wrap the public class [`markdown.Markdown`][]. All submodules support these public functions\n",
            "    and class and/or provide extension support.\n",
            "    \n",
            "    Modules:\n",
            "        core: Core functionality.\n",
            "        preprocessors: Pre-processors.\n",
            "        blockparser: Core Markdown block parser.\n",
            "        blockprocessors: Block processors.\n",
            "        treeprocessors: Tree processors.\n",
            "        inlinepatterns: Inline patterns.\n",
            "        postprocessors: Post-processors.\n",
            "        serializers: Serializers.\n",
            "        util: Utility functions.\n",
            "        htmlparser: HTML parser.\n",
            "        test_tools: Testing utilities.\n",
            "        extensions: Markdown extensions.\n",
            "\n",
            "PACKAGE CONTENTS\n",
            "    __main__\n",
            "    __meta__\n",
            "    blockparser\n",
            "    blockprocessors\n",
            "    core\n",
            "    extensions (package)\n",
            "    htmlparser\n",
            "    inlinepatterns\n",
            "    postprocessors\n",
            "    preprocessors\n",
            "    serializers\n",
            "    test_tools\n",
            "    treeprocessors\n",
            "    util\n",
            "\n",
            "CLASSES\n",
            "    builtins.object\n",
            "        markdown.core.Markdown\n",
            "    \n",
            "    class Markdown(builtins.object)\n",
            "     |  Markdown(**kwargs)\n",
            "     |  \n",
            "     |  A parser which converts Markdown to HTML.\n",
            "     |  \n",
            "     |  Attributes:\n",
            "     |      Markdown.tab_length (int): The number of spaces which correspond to a single tab. Default: `4`.\n",
            "     |      Markdown.ESCAPED_CHARS (list[str]): List of characters which get the backslash escape treatment.\n",
            "     |      Markdown.block_level_elements (list[str]): List of HTML tags which get treated as block-level elements.\n",
            "     |          See [`markdown.util.BLOCK_LEVEL_ELEMENTS`][] for the full list of elements.\n",
            "     |      Markdown.registeredExtensions (list[Extension]): List of extensions which have called\n",
            "     |          [`registerExtension`][markdown.Markdown.registerExtension] during setup.\n",
            "     |      Markdown.doc_tag (str): Element used to wrap document. Default: `div`.\n",
            "     |      Markdown.stripTopLevelTags (bool): Indicates whether the `doc_tag` should be removed. Default: 'True'.\n",
            "     |      Markdown.references (dict[str, tuple[str, str]]): A mapping of link references found in a parsed document\n",
            "     |           where the key is the reference name and the value is a tuple of the URL and title.\n",
            "     |      Markdown.htmlStash (util.HtmlStash): The instance of the `HtmlStash` used by an instance of this class.\n",
            "     |      Markdown.output_formats (dict[str, Callable[xml.etree.ElementTree.Element]]): A mapping of known output\n",
            "     |           formats by name and their respective serializers. Each serializer must be a callable which accepts an\n",
            "     |          [`Element`][xml.etree.ElementTree.Element] and returns a `str`.\n",
            "     |      Markdown.output_format (str): The output format set by\n",
            "     |          [`set_output_format`][markdown.Markdown.set_output_format].\n",
            "     |      Markdown.serializer (Callable[xml.etree.ElementTree.Element]): The serializer set by\n",
            "     |          [`set_output_format`][markdown.Markdown.set_output_format].\n",
            "     |      Markdown.preprocessors (util.Registry): A collection of [`preprocessors`][markdown.preprocessors].\n",
            "     |      Markdown.parser (blockparser.BlockParser): A collection of [`blockprocessors`][markdown.blockprocessors].\n",
            "     |      Markdown.inlinePatterns (util.Registry): A collection of [`inlinepatterns`][markdown.inlinepatterns].\n",
            "     |      Markdown.treeprocessors (util.Registry): A collection of [`treeprocessors`][markdown.treeprocessors].\n",
            "     |      Markdown.postprocessors (util.Registry): A collection of [`postprocessors`][markdown.postprocessors].\n",
            "     |  \n",
            "     |  Methods defined here:\n",
            "     |  \n",
            "     |  __init__(self, **kwargs)\n",
            "     |      Creates a new Markdown instance.\n",
            "     |      \n",
            "     |      Keyword Arguments:\n",
            "     |          extensions (list[Extension | str]): A list of extensions.\n",
            "     |      \n",
            "     |              If an item is an instance of a subclass of [`markdown.extensions.Extension`][],\n",
            "     |              the instance will be used as-is. If an item is of type `str`, it is passed\n",
            "     |              to [`build_extension`][markdown.Markdown.build_extension] with its corresponding\n",
            "     |              `extension_configs` and the returned instance  of [`markdown.extensions.Extension`][]\n",
            "     |              is used.\n",
            "     |          extension_configs (dict[str, dict[str, Any]]): Configuration settings for extensions.\n",
            "     |          output_format (str): Format of output. Supported formats are:\n",
            "     |      \n",
            "     |              * `xhtml`: Outputs XHTML style tags. Default.\n",
            "     |              * `html`: Outputs HTML style tags.\n",
            "     |          tab_length (int): Length of tabs in the source. Default: `4`\n",
            "     |  \n",
            "     |  build_extension(self, ext_name: 'str', configs: 'Mapping[str, Any]') -> 'Extension'\n",
            "     |      Build extension from a string name, then return an instance using the given `configs`.\n",
            "     |      \n",
            "     |      Arguments:\n",
            "     |          ext_name: Name of extension as a string.\n",
            "     |          configs: Configuration settings for extension.\n",
            "     |      \n",
            "     |      Returns:\n",
            "     |          An instance of the extension with the given configuration settings.\n",
            "     |      \n",
            "     |      First attempt to load an entry point. The string name must be registered as an entry point in the\n",
            "     |      `markdown.extensions` group which points to a subclass of the [`markdown.extensions.Extension`][] class.\n",
            "     |      If multiple distributions have registered the same name, the first one found is returned.\n",
            "     |      \n",
            "     |      If no entry point is found, assume dot notation (`path.to.module:ClassName`). Load the specified class and\n",
            "     |      return an instance. If no class is specified, import the module and call a `makeExtension` function and return\n",
            "     |      the [`markdown.extensions.Extension`][] instance returned by that function.\n",
            "     |  \n",
            "     |  build_parser(self) -> 'Markdown'\n",
            "     |      Build the parser from the various parts.\n",
            "     |      \n",
            "     |      Assigns a value to each of the following attributes on the class instance:\n",
            "     |      \n",
            "     |      * **`Markdown.preprocessors`** ([`Registry`][markdown.util.Registry]) -- A collection of\n",
            "     |        [`preprocessors`][markdown.preprocessors].\n",
            "     |      * **`Markdown.parser`** ([`BlockParser`][markdown.blockparser.BlockParser]) -- A collection of\n",
            "     |        [`blockprocessors`][markdown.blockprocessors].\n",
            "     |      * **`Markdown.inlinePatterns`** ([`Registry`][markdown.util.Registry]) -- A collection of\n",
            "     |        [`inlinepatterns`][markdown.inlinepatterns].\n",
            "     |      * **`Markdown.treeprocessors`** ([`Registry`][markdown.util.Registry]) -- A collection of\n",
            "     |        [`treeprocessors`][markdown.treeprocessors].\n",
            "     |      * **`Markdown.postprocessors`** ([`Registry`][markdown.util.Registry]) -- A collection of\n",
            "     |        [`postprocessors`][markdown.postprocessors].\n",
            "     |      \n",
            "     |      This method could be redefined in a subclass to build a custom parser which is made up of a different\n",
            "     |      combination of processors and patterns.\n",
            "     |  \n",
            "     |  convert(self, source: 'str') -> 'str'\n",
            "     |      Convert a Markdown string to a string in the specified output format.\n",
            "     |      \n",
            "     |      Arguments:\n",
            "     |          source: Markdown formatted text as Unicode or ASCII string.\n",
            "     |      \n",
            "     |      Returns:\n",
            "     |          A string in the specified output format.\n",
            "     |      \n",
            "     |      Markdown parsing takes place in five steps:\n",
            "     |      \n",
            "     |      1. A bunch of [`preprocessors`][markdown.preprocessors] munge the input text.\n",
            "     |      2. A [`BlockParser`][markdown.blockparser.BlockParser] parses the high-level structural elements of the\n",
            "     |         pre-processed text into an [`ElementTree`][xml.etree.ElementTree.ElementTree] object.\n",
            "     |      3. A bunch of [`treeprocessors`][markdown.treeprocessors] are run against the\n",
            "     |         [`ElementTree`][xml.etree.ElementTree.ElementTree] object. One such `treeprocessor`\n",
            "     |         ([`markdown.treeprocessors.InlineProcessor`][]) runs [`inlinepatterns`][markdown.inlinepatterns]\n",
            "     |         against the [`ElementTree`][xml.etree.ElementTree.ElementTree] object, parsing inline markup.\n",
            "     |      4. Some [`postprocessors`][markdown.postprocessors] are run against the text after the\n",
            "     |         [`ElementTree`][xml.etree.ElementTree.ElementTree] object has been serialized into text.\n",
            "     |      5. The output is returned as a string.\n",
            "     |  \n",
            "     |  convertFile(self, input: 'str | BinaryIO | None' = None, output: 'str | BinaryIO | None' = None, encoding: 'str | None' = None) -> 'Markdown'\n",
            "     |      Converts a Markdown file and returns the HTML as a Unicode string.\n",
            "     |      \n",
            "     |      Decodes the file using the provided encoding (defaults to `utf-8`),\n",
            "     |      passes the file content to markdown, and outputs the HTML to either\n",
            "     |      the provided stream or the file with provided name, using the same\n",
            "     |      encoding as the source file. The\n",
            "     |      [`xmlcharrefreplace`](https://docs.python.org/3/library/codecs.html#error-handlers)\n",
            "     |      error handler is used when encoding the output.\n",
            "     |      \n",
            "     |      **Note:** This is the only place that decoding and encoding of Unicode\n",
            "     |      takes place in Python-Markdown.  (All other code is Unicode-in /\n",
            "     |      Unicode-out.)\n",
            "     |      \n",
            "     |      Arguments:\n",
            "     |          input: File object or path. Reads from `stdin` if `None`.\n",
            "     |          output: File object or path. Writes to `stdout` if `None`.\n",
            "     |          encoding: Encoding of input and output files. Defaults to `utf-8`.\n",
            "     |  \n",
            "     |  is_block_level(self, tag: 'Any') -> 'bool'\n",
            "     |      Check if the given `tag` is a block level HTML tag.\n",
            "     |      \n",
            "     |      Returns `True` for any string listed in `Markdown.block_level_elements`. A `tag` which is\n",
            "     |      not a string always returns `False`.\n",
            "     |  \n",
            "     |  registerExtension(self, extension: 'Extension') -> 'Markdown'\n",
            "     |      Register an extension as having a resettable state.\n",
            "     |      \n",
            "     |      Arguments:\n",
            "     |          extension: An instance of the extension to register.\n",
            "     |      \n",
            "     |      This should get called once by an extension during setup. A \"registered\" extension's\n",
            "     |      `reset` method is called by [`Markdown.reset()`][markdown.Markdown.reset]. Not all extensions have or need a\n",
            "     |      resettable state, and so it should not be assumed that all extensions are \"registered.\"\n",
            "     |  \n",
            "     |  registerExtensions(self, extensions: 'Sequence[Extension | str]', configs: 'Mapping[str, dict[str, Any]]') -> 'Markdown'\n",
            "     |      Load a list of extensions into an instance of the `Markdown` class.\n",
            "     |      \n",
            "     |      Arguments:\n",
            "     |          extensions (list[Extension | str]): A list of extensions.\n",
            "     |      \n",
            "     |              If an item is an instance of a subclass of [`markdown.extensions.Extension`][],\n",
            "     |              the instance will be used as-is. If an item is of type `str`, it is passed\n",
            "     |              to [`build_extension`][markdown.Markdown.build_extension] with its corresponding `configs` and the\n",
            "     |              returned instance  of [`markdown.extensions.Extension`][] is used.\n",
            "     |          configs (dict[str, dict[str, Any]]): Configuration settings for extensions.\n",
            "     |  \n",
            "     |  reset(self) -> 'Markdown'\n",
            "     |      Resets all state variables to prepare the parser instance for new input.\n",
            "     |      \n",
            "     |      Called once upon creation of a class instance. Should be called manually between calls\n",
            "     |      to [`Markdown.convert`][markdown.Markdown.convert].\n",
            "     |  \n",
            "     |  set_output_format(self, format: 'str') -> 'Markdown'\n",
            "     |      Set the output format for the class instance.\n",
            "     |      \n",
            "     |      Arguments:\n",
            "     |          format: Must be a known value in `Markdown.output_formats`.\n",
            "     |  \n",
            "     |  ----------------------------------------------------------------------\n",
            "     |  Data descriptors defined here:\n",
            "     |  \n",
            "     |  __dict__\n",
            "     |      dictionary for instance variables (if defined)\n",
            "     |  \n",
            "     |  __weakref__\n",
            "     |      list of weak references to the object (if defined)\n",
            "     |  \n",
            "     |  ----------------------------------------------------------------------\n",
            "     |  Data and other attributes defined here:\n",
            "     |  \n",
            "     |  __annotations__ = {'output_formats': 'ClassVar[dict[str, Callable[[Ele...\n",
            "     |  \n",
            "     |  doc_tag = 'div'\n",
            "     |  \n",
            "     |  output_formats = {'html': <function to_html_string>, 'xhtml': <functio...\n",
            "\n",
            "FUNCTIONS\n",
            "    markdown(text: 'str', **kwargs: 'Any') -> 'str'\n",
            "        Convert a markdown string to HTML and return HTML as a Unicode string.\n",
            "        \n",
            "        This is a shortcut function for [`Markdown`][markdown.Markdown] class to cover the most\n",
            "        basic use case.  It initializes an instance of [`Markdown`][markdown.Markdown], loads the\n",
            "        necessary extensions and runs the parser on the given text.\n",
            "        \n",
            "        Arguments:\n",
            "            text: Markdown formatted text as Unicode or ASCII string.\n",
            "        \n",
            "        Keyword arguments:\n",
            "            **kwargs: Any arguments accepted by the Markdown class.\n",
            "        \n",
            "        Returns:\n",
            "            A string in the specified output format.\n",
            "    \n",
            "    markdownFromFile(**kwargs: 'Any')\n",
            "        Read Markdown text from a file and write output to a file or a stream.\n",
            "        \n",
            "        This is a shortcut function which initializes an instance of [`Markdown`][markdown.Markdown],\n",
            "        and calls the [`convertFile`][markdown.Markdown.convertFile] method rather than\n",
            "        [`convert`][markdown.Markdown.convert].\n",
            "        \n",
            "        Keyword arguments:\n",
            "            input (str | BinaryIO): A file name or readable object.\n",
            "            output (str | BinaryIO): A file name or writable object.\n",
            "            encoding (str): Encoding of input and output.\n",
            "            **kwargs: Any arguments accepted by the `Markdown` class.\n",
            "\n",
            "DATA\n",
            "    __all__ = ['Markdown', 'markdown', 'markdownFromFile']\n",
            "    __version_info__ = (3, 5, 2, 'final', 0)\n",
            "\n",
            "VERSION\n",
            "    3.5.2\n",
            "\n",
            "FILE\n",
            "    /usr/local/lib/python3.10/dist-packages/markdown/__init__.py\n",
            "\n",
            "\n"
          ]
        }
      ]
    },
    {
      "cell_type": "markdown",
      "source": [
        "## **Условные операторы**"
      ],
      "metadata": {
        "id": "yWs6rvzJS7jX"
      }
    },
    {
      "cell_type": "markdown",
      "source": [
        "Структура условных операторов Python аналогична структуре других языков.\n",
        "Ключевые слова if, elif и else являются значимыми, как и символ двоеточия и отступ.\n",
        "Синтаксис одностороннего оператора if таков:"
      ],
      "metadata": {
        "id": "kCV-05m0TA2A"
      }
    },
    {
      "cell_type": "code",
      "source": [
        "if <Boolean expression>:\n",
        "    <sequence of statements>\n",
        "elif <Boolean expression>:\n",
        "    <sequence of statements>\n",
        "...\n",
        "else:\n",
        "    <sequence of statements>"
      ],
      "metadata": {
        "id": "lbKZOkEHUt2e"
      },
      "execution_count": null,
      "outputs": []
    },
    {
      "cell_type": "markdown",
      "source": [
        "## **Использование if __name__ == \"__main__\"**"
      ],
      "metadata": {
        "id": "9YxJ9KruUyUQ"
      }
    },
    {
      "cell_type": "markdown",
      "source": [
        "Программа numberguess, рассмотренная ранее, включает определение основной функции и\n",
        "следующий оператор if:"
      ],
      "metadata": {
        "id": "zs6kviYDVb_i"
      }
    },
    {
      "cell_type": "code",
      "source": [
        "if __name__ == \"__main__\":\n",
        "    main()"
      ],
      "metadata": {
        "colab": {
          "base_uri": "https://localhost:8080/"
        },
        "id": "uPMmJf8MVgfU",
        "outputId": "502b3e03-1c06-449d-94f2-4dd24b37f13d"
      },
      "execution_count": null,
      "outputs": [
        {
          "output_type": "stream",
          "name": "stdout",
          "text": [
            "Enter the smaller number: 1\n",
            "Enter the larger number: 2\n",
            "Enter your guess: 2\n",
            "You’ve got it in 1 tries!\n"
          ]
        }
      ]
    },
    {
      "cell_type": "markdown",
      "source": [
        "Цель этого оператора if - позволить программисту либо запустить модуль как\n",
        "отдельную программу, либо импортировать его из оболочки или другого модуля. Вот как это работает:\n",
        "каждый модуль Python включает в себя набор встроенных переменных модуля, которым виртуальная машина Python автоматически присваивает значения при загрузке модуля. Если модуль\n",
        "загружается как автономная программа (либо путем запуска его из командной строки терминала, либо путем загрузки\n",
        "из окна ожидания), переменной __name__ модуля присваивается значение строки \"__main__\".\n",
        "В противном случае этой переменной присваивается имя модуля — в данном случае \"numberguess\". Любое\n",
        "присвоение выполняется до загрузки любого кода внутри модуля. Таким образом, когда\n",
        "управление достигает инструкции if в конце модуля, основная функция модуля будет\n",
        "вызвана только в том случае, если модуль был запущен как автономная программа.\n",
        "Идиома if __name__ == \"__main__\" полезна при разработке автономных программных\n",
        "модулей, поскольку позволяет программисту просматривать справку по модулю, просто импортировав ее\n",
        "в оболочку. Аналогично, программист может использовать эту идиому в поддерживающих модулях для запуска\n",
        "функции тестового стенда во время разработки модуля в IDLE."
      ],
      "metadata": {
        "id": "Q_hR0r80XSFZ"
      }
    },
    {
      "cell_type": "markdown",
      "source": [
        "## **Операторы цикла**"
      ],
      "metadata": {
        "id": "8XY1B_SBXTbB"
      }
    },
    {
      "cell_type": "markdown",
      "source": [
        "Структура оператора цикла while в Python аналогична структуре других языков. Вот\n",
        "синтаксис:"
      ],
      "metadata": {
        "id": "GUEoxifOXxkx"
      }
    },
    {
      "cell_type": "code",
      "source": [
        "product = 1\n",
        "value = 1\n",
        "while value <= 10:\n",
        "    product *= value\n",
        "    value += 1\n",
        "print(product)"
      ],
      "metadata": {
        "colab": {
          "base_uri": "https://localhost:8080/"
        },
        "id": "cpEYGj2xXzfg",
        "outputId": "565fdf73-afb3-4033-9c31-7b06698464cc"
      },
      "execution_count": null,
      "outputs": [
        {
          "output_type": "stream",
          "name": "stdout",
          "text": [
            "3628800\n"
          ]
        }
      ]
    },
    {
      "cell_type": "markdown",
      "source": [
        "Python включает оператор цикла for для более краткого перебора последовательности значений."
      ],
      "metadata": {
        "id": "2RGQ4iVQX6xW"
      }
    },
    {
      "cell_type": "markdown",
      "source": [
        "Когда этот цикл выполняется, он присваивает переменной цикла каждое значение, содержащееся в итерируемом объекте\n",
        ", и запускает последовательность инструкций в контексте каждого такого присваивания. Примерами\n",
        "итерируемых объектов являются строки и списки. Следующий сегмент кода использует функцию range в Python,\n",
        "которая возвращает повторяемую последовательность целых чисел, для вычисления продукта, показанного ранее:"
      ],
      "metadata": {
        "id": "k9epske7X7PE"
      }
    },
    {
      "cell_type": "code",
      "source": [
        "product = 1\n",
        "for value in range(1, 11):\n",
        "    product *= value\n",
        "print(product)"
      ],
      "metadata": {
        "id": "d3x5HK9jYLi6"
      },
      "execution_count": null,
      "outputs": []
    },
    {
      "cell_type": "markdown",
      "source": [
        "Программисты на Python обычно предпочитают цикл for для перебора определенных диапазонов или последовательностей\n",
        "значений. Они используют цикл while, когда условием продолжения является произвольное логическое\n",
        "выражение."
      ],
      "metadata": {
        "id": "-rEht9o1YTNm"
      }
    },
    {
      "cell_type": "markdown",
      "source": [
        "## **Строки и их операторы**"
      ],
      "metadata": {
        "id": "5xPX3JmoYXa-"
      }
    },
    {
      "cell_type": "markdown",
      "source": [
        "Когда строки сравниваются с помощью операторов сравнения, сравниваются пары символов в каждой\n",
        "позиции в двух строках, используя порядок ASCII. Таким образом, 'a' меньше, чем 'b',\n",
        "но 'A' меньше, чем 'a'. Обратите внимание, что в этой книге мы заключаем односимвольные строки в одинарные\n",
        "кавычки, а многосимвольные строки - в двойные.\n",
        "Оператор + создает и возвращает новую строку, содержащую символы двух\n",
        "операндов.\n",
        "Оператор подстрочного индекса в своей простейшей форме ожидает целое число в диапазоне от 0 до\n",
        "длина строки минус 1. Оператор возвращает символ в этой позиции в\n",
        "строке. Таким образом:"
      ],
      "metadata": {
        "id": "ND8hzVDWYenR"
      }
    },
    {
      "cell_type": "code",
      "source": [
        "\"greater\"[0]"
      ],
      "metadata": {
        "colab": {
          "base_uri": "https://localhost:8080/",
          "height": 36
        },
        "id": "krScponiaEXp",
        "outputId": "11c2b0a0-f003-47dc-d1bc-1eaa09d56f07"
      },
      "execution_count": null,
      "outputs": [
        {
          "output_type": "execute_result",
          "data": {
            "text/plain": [
              "'g'"
            ],
            "application/vnd.google.colaboratory.intrinsic+json": {
              "type": "string"
            }
          },
          "metadata": {},
          "execution_count": 13
        }
      ]
    },
    {
      "cell_type": "markdown",
      "source": [
        "Although a string index cannot exceed its length minus 1, negative indexes are allowed.\n",
        "When an index is negative, Python adds this value to the string’s length to locate the character to be returned. In these cases, the index provided cannot be less than the negation of\n",
        "the string’s length.\n",
        "Strings are immutable; that is, once you create them, you cannot modify their internal\n",
        "contents. Thus, you cannot use a subscript to replace the character at a given position in a\n",
        "string.\n",
        "A variation of the subscript, called the slice operator, is what you use to obtain a substring\n",
        "of a string. The syntax of the slice is:"
      ],
      "metadata": {
        "id": "ESF2Kv2FaHzS"
      }
    },
    {
      "cell_type": "code",
      "source": [
        "\"greater\"[:]\n",
        "\"greater\"[2:]\n",
        "\"greater\"[:2]\n",
        "\"greater\"[2:5]"
      ],
      "metadata": {
        "colab": {
          "base_uri": "https://localhost:8080/",
          "height": 36
        },
        "id": "Y0hgK986aS5z",
        "outputId": "a0c4bdac-fd0d-482d-e277-305a5015424c"
      },
      "execution_count": null,
      "outputs": [
        {
          "output_type": "execute_result",
          "data": {
            "text/plain": [
              "'eat'"
            ],
            "application/vnd.google.colaboratory.intrinsic+json": {
              "type": "string"
            }
          },
          "metadata": {},
          "execution_count": 12
        }
      ]
    },
    {
      "cell_type": "markdown",
      "source": [
        "## **Форматирование строк для вывода**"
      ],
      "metadata": {
        "id": "aVUmQE24au1u"
      }
    },
    {
      "cell_type": "markdown",
      "source": [
        "Многие приложения для обработки данных требуют вывода в табличном формате. В этом формате\n",
        "числа и другая информация выравниваются по столбцам, которые могут быть выровнены как по левому краю, так и\n",
        "по правому краю. Столбец данных выравнивается по левому краю, если его значения выровнены по вертикали, начиная\n",
        "с крайних левых символов. Столбец данных выравнивается по правому краю, если его значения выровнены по вертикали, начиная с крайних правых символов. Чтобы сохранить поля между\n",
        "столбцами данных, выравнивание по левому краю требует добавления пробелов справа от исходных данных,\n",
        "в то время как выравнивание по правому краю требует добавления пробелов слева от исходных данных. Столбец данных\n",
        "центрируется, если с обеих сторон данных в этом столбце одинаковое количество пробелов. Синтаксис будет выглядеть следующим образом:\n"
      ],
      "metadata": {
        "id": "BnbknfpsauuP"
      }
    },
    {
      "cell_type": "code",
      "source": [
        "<format string> % <variable>"
      ],
      "metadata": {
        "id": "c0urZEFwcFZT"
      },
      "execution_count": null,
      "outputs": []
    },
    {
      "cell_type": "markdown",
      "source": [
        "## **Объекты и вызовы методов**"
      ],
      "metadata": {
        "id": "TibiBOSScEJ_"
      }
    },
    {
      "cell_type": "markdown",
      "source": [
        "В дополнение к стандартным операторам и функциям, Python включает в себя огромное количество методов\n",
        ", которые работают с объектами. Метод похож на функцию в том, что он ожидает аргументы,\n",
        "выполняет задачу и возвращает значение. Однако метод всегда вызывается для связанного\n",
        "объекта. Синтаксис вызова метода таков:"
      ],
      "metadata": {
        "id": "KO3uSEHYcPyl"
      }
    },
    {
      "cell_type": "code",
      "source": [
        "<object>.<method name>(<list of arguments>)"
      ],
      "metadata": {
        "id": "J7Al_UIIcnfN"
      },
      "execution_count": null,
      "outputs": []
    },
    {
      "cell_type": "markdown",
      "source": [
        "Вот несколько примеров вызовов методов для строк:"
      ],
      "metadata": {
        "id": "WJC_YH6wcrKD"
      }
    },
    {
      "cell_type": "code",
      "source": [
        "\"greater\".isupper()"
      ],
      "metadata": {
        "colab": {
          "base_uri": "https://localhost:8080/"
        },
        "id": "fSKAfU2UdLsR",
        "outputId": "ee5a815b-af58-486b-dd0b-5635e4f8cbe9"
      },
      "execution_count": null,
      "outputs": [
        {
          "output_type": "execute_result",
          "data": {
            "text/plain": [
              "False"
            ]
          },
          "metadata": {},
          "execution_count": 15
        }
      ]
    },
    {
      "cell_type": "code",
      "source": [
        "\"greater\".upper()"
      ],
      "metadata": {
        "colab": {
          "base_uri": "https://localhost:8080/",
          "height": 36
        },
        "id": "IemslvjodLet",
        "outputId": "ac09fa65-8f57-4eb6-9be5-1d4c43b41cc9"
      },
      "execution_count": null,
      "outputs": [
        {
          "output_type": "execute_result",
          "data": {
            "text/plain": [
              "'GREATER'"
            ],
            "application/vnd.google.colaboratory.intrinsic+json": {
              "type": "string"
            }
          },
          "metadata": {},
          "execution_count": 16
        }
      ]
    },
    {
      "cell_type": "code",
      "source": [
        "\"greater\".startswith(\"great\")"
      ],
      "metadata": {
        "colab": {
          "base_uri": "https://localhost:8080/"
        },
        "id": "oogNPFE3crjw",
        "outputId": "87c21910-4543-4103-d41f-7589d943bb14"
      },
      "execution_count": null,
      "outputs": [
        {
          "output_type": "execute_result",
          "data": {
            "text/plain": [
              "True"
            ]
          },
          "metadata": {},
          "execution_count": 17
        }
      ]
    },
    {
      "cell_type": "markdown",
      "source": [
        "## **Встроенные коллекции Python и их операции**"
      ],
      "metadata": {
        "id": "0wxSV4xidToq"
      }
    },
    {
      "cell_type": "markdown",
      "source": [
        "Современные языки программирования включают в себя несколько типов коллекций, таких как списки, которые\n",
        "позволяют программисту организовывать несколько значений данных одновременно и манипулировать ими. В этом разделе\n",
        "рассматриваются встроенные коллекции в Python; в остальной части книги обсуждается, как добавлять в язык новые\n",
        "типы коллекций."
      ],
      "metadata": {
        "id": "HTcA11b1dVph"
      }
    },
    {
      "cell_type": "markdown",
      "source": [
        "### **Списки**"
      ],
      "metadata": {
        "id": "PcExAuGAdbKa"
      }
    },
    {
      "cell_type": "markdown",
      "source": [
        "Список - это последовательность из нуля или более объектов Python, обычно называемых элементами. Список имеет\n",
        "буквальное представление, в котором элементы, разделенные запятыми, заключаются в квадратные скобки.\n",
        "Вот несколько примеров:"
      ],
      "metadata": {
        "id": "wzWvEoWDdquq"
      }
    },
    {
      "cell_type": "code",
      "source": [
        "[] # An empty list\n",
        "[\"greater\"] # A list of one string\n",
        "[\"greater\", \"less\"] # A list of two strings\n",
        "[\"greater\", \"less\", 10] # A list of two strings and an int\n",
        "[\"greater\", [\"less\", 10]] # A list with a nested list"
      ],
      "metadata": {
        "colab": {
          "base_uri": "https://localhost:8080/"
        },
        "id": "F5IxyTQpdxYI",
        "outputId": "144be5b0-7472-45f3-ec4d-ad0ffdd57800"
      },
      "execution_count": null,
      "outputs": [
        {
          "output_type": "execute_result",
          "data": {
            "text/plain": [
              "['greater', ['less', 10]]"
            ]
          },
          "metadata": {},
          "execution_count": 18
        }
      ]
    },
    {
      "cell_type": "markdown",
      "source": [
        "Как и строки, списки могут быть разделены и объединены стандартными операторами. Однако\n",
        "в этом случае возвращаемыми результатами являются списки. В отличие от строк, списки изменяемы, что означает, что вы\n",
        "можете заменять, вставлять или удалять элементы, содержащиеся в них. Этот факт имеет два следствия.\n",
        "Во-первых, списки, возвращаемые операторами slice и concatenation, являются новыми списками, а не фрагментами\n",
        "исходного списка. Во-вторых, тип list включает в себя несколько методов, называемых мутаторами,\n",
        "целью которых является изменение структуры списка. Вы можете ввести dir(список) в оболочке Python, чтобы\n",
        "просмотреть их."
      ],
      "metadata": {
        "id": "pCD6PJY_d2bv"
      }
    },
    {
      "cell_type": "markdown",
      "source": [
        "The most commonly used list mutator methods are append, insert, pop, remove, and sort.\n",
        "Here are some examples of their use:"
      ],
      "metadata": {
        "id": "b33Yy86Ed5nD"
      }
    },
    {
      "cell_type": "code",
      "source": [
        "testList = [] # testList is []\n",
        "testList.append(34) # testList is [34]\n",
        "testList.append(22) # testList is [34, 22]\n",
        "testList.sort() # testList is [22, 34]\n",
        "testList.pop() # Returns 22; testList is [34]\n",
        "testList.insert(0, 22) # testList is [22, 34]\n",
        "testList.insert(1, 55) # testList is [22, 55, 34]\n",
        "testList.pop(1) # Returns 55; testList is [22, 34]\n",
        "testList.remove(22) # testList is [34]\n",
        "# testList.remove(55) # raises ValueError\n"
      ],
      "metadata": {
        "id": "2DohXeyjd7QM"
      },
      "execution_count": null,
      "outputs": []
    },
    {
      "cell_type": "markdown",
      "source": [
        "### **Кортежи**"
      ],
      "metadata": {
        "id": "Y06nhY6BeMBf"
      }
    },
    {
      "cell_type": "markdown",
      "source": [
        "Кортеж - это неизменяемая последовательность элементов. Литералы кортежа заключают элементы в круглые скобки.\n",
        "Кортеж по сути подобен списку без методов-мутаторов. Однако кортеж с одним элементом\n",
        "все равно должен содержать запятую, как показано ниже:"
      ],
      "metadata": {
        "id": "XRzjLfYjeO_Q"
      }
    },
    {
      "cell_type": "code",
      "source": [
        "(34)"
      ],
      "metadata": {
        "colab": {
          "base_uri": "https://localhost:8080/"
        },
        "id": "uW9COybPebBO",
        "outputId": "9854291a-605e-41ad-b74e-bb2c2c13f5e8"
      },
      "execution_count": null,
      "outputs": [
        {
          "output_type": "execute_result",
          "data": {
            "text/plain": [
              "34"
            ]
          },
          "metadata": {},
          "execution_count": 20
        }
      ]
    },
    {
      "cell_type": "code",
      "source": [
        "(34,)"
      ],
      "metadata": {
        "colab": {
          "base_uri": "https://localhost:8080/"
        },
        "id": "o8nS-xWIebr3",
        "outputId": "8fa57a1d-1f29-465d-c8f6-e45c525b88ae"
      },
      "execution_count": null,
      "outputs": [
        {
          "output_type": "execute_result",
          "data": {
            "text/plain": [
              "(34,)"
            ]
          },
          "metadata": {},
          "execution_count": 21
        }
      ]
    },
    {
      "cell_type": "markdown",
      "source": [
        "Стоит обратить внимание, что Python обрабатывает первое выражение (34) как целое число, заключенное в круглые скобки,\n",
        "тогда как второе выражение (34,) обрабатывается как новый кортеж из одного элемента. Для получения доступных методов кортежа запустите dir(tuple) в оболочке Python.\n",
        "\n"
      ],
      "metadata": {
        "id": "Ki69chlBeYnJ"
      }
    },
    {
      "cell_type": "markdown",
      "source": [
        "### **Циклы по последовательностям**"
      ],
      "metadata": {
        "id": "879XE2hHfKD2"
      }
    },
    {
      "cell_type": "markdown",
      "source": [
        "Цикл for используется для перебора элементов в последовательности, такой как строка, список или кортеж.\n",
        "Например, следующий сегмент кода выводит элементы в списке:"
      ],
      "metadata": {
        "id": "Fgf2CMpdfJ47"
      }
    },
    {
      "cell_type": "code",
      "source": [
        "testList = [67, 100, 22]\n",
        "for item in testList:\n",
        "    print(item)"
      ],
      "metadata": {
        "colab": {
          "base_uri": "https://localhost:8080/"
        },
        "id": "qLeNhASRfUgI",
        "outputId": "3c2ed868-3957-4e0e-e591-75491c77939e"
      },
      "execution_count": null,
      "outputs": [
        {
          "output_type": "stream",
          "name": "stdout",
          "text": [
            "67\n",
            "100\n",
            "22\n"
          ]
        }
      ]
    },
    {
      "cell_type": "markdown",
      "source": [
        "Это эквивалентно, но проще, чем цикл на основе индекса по списку:"
      ],
      "metadata": {
        "id": "iUz0OMFTfSs8"
      }
    },
    {
      "cell_type": "code",
      "source": [
        "testList = [67, 100, 22]\n",
        "for index in range(len(testList)):\n",
        "    print(testList[index])"
      ],
      "metadata": {
        "colab": {
          "base_uri": "https://localhost:8080/"
        },
        "id": "NiwffK7Cfnxm",
        "outputId": "d10f167e-e4c6-4433-8b97-6aefc21d8485"
      },
      "execution_count": null,
      "outputs": [
        {
          "output_type": "stream",
          "name": "stdout",
          "text": [
            "67\n",
            "100\n",
            "22\n"
          ]
        }
      ]
    },
    {
      "cell_type": "markdown",
      "source": [
        "## **Словари**"
      ],
      "metadata": {
        "id": "P5YaMLSLft1x"
      }
    },
    {
      "cell_type": "markdown",
      "source": [
        "Словарь содержит ноль или более записей. Каждая запись связывает уникальный ключ со значением.\n",
        "Ключами обычно являются строки или целые числа, тогда как значениями являются любые объекты Python.\n",
        "Литерал словаря заключает записи ключ-значение в набор фигурных скобок. Вот несколько\n",
        "примеров:"
      ],
      "metadata": {
        "id": "wzEooZwpfw-d"
      }
    },
    {
      "cell_type": "code",
      "source": [
        "{} # An empty dictionary\n",
        "{\"name\":\"Ken\"} # One entry\n",
        "{\"name\":\"Ken\", \"age\":67} # Two entries\n",
        "{\"hobbies\":[\"reading\", \"running\"]} # One entry, value is a list"
      ],
      "metadata": {
        "colab": {
          "base_uri": "https://localhost:8080/"
        },
        "id": "V4eRjagrf2c8",
        "outputId": "add35dd9-6f0d-4850-f73c-f38140595830"
      },
      "execution_count": null,
      "outputs": [
        {
          "output_type": "execute_result",
          "data": {
            "text/plain": [
              "{'hobbies': ['reading', 'running']}"
            ]
          },
          "metadata": {},
          "execution_count": 25
        }
      ]
    },
    {
      "cell_type": "markdown",
      "source": [
        "## **Создание новых функций**"
      ],
      "metadata": {
        "id": "IKc-oUy-hEpl"
      }
    },
    {
      "cell_type": "markdown",
      "source": [
        "The syntax of a Python function definition is:"
      ],
      "metadata": {
        "id": "VfpyHVAAhLXB"
      }
    },
    {
      "cell_type": "markdown",
      "source": [
        "Синтаксис определения функции Python таков:"
      ],
      "metadata": {
        "id": "Rwn-86WwhNT6"
      }
    },
    {
      "cell_type": "code",
      "source": [
        "def <function name>(<list of parameters>):\n",
        "    <sequence of statements>"
      ],
      "metadata": {
        "id": "zfHZUrVdhOPu"
      },
      "execution_count": null,
      "outputs": []
    },
    {
      "cell_type": "markdown",
      "source": [
        "Вот определение простой функции для вычисления и возврата квадрата числа:"
      ],
      "metadata": {
        "id": "5-67GbsqhT_7"
      }
    },
    {
      "cell_type": "code",
      "source": [
        "def square(n):\n",
        "    \"\"\"Returns the square of n.\"\"\"\n",
        "    result = n ** 2\n",
        "    return result"
      ],
      "metadata": {
        "id": "eifswJjzhXBE"
      },
      "execution_count": null,
      "outputs": []
    },
    {
      "cell_type": "markdown",
      "source": [
        "Можно определять функции в модуле в любом порядке, при условии, что ни одна функция фактически не выполняется до того, как ее определение будет скомпилировано. В следующем примере показан недопустимый\n",
        "вызов функции в начале модуля:"
      ],
      "metadata": {
        "id": "gtqRGDc1h2EN"
      }
    },
    {
      "cell_type": "code",
      "source": [
        "# first() # Raises a NameError (function undefined yet)\n",
        "\n",
        "def first():\n",
        "    print(\"Calling first.\")\n",
        "    second() # Not an error, because not actually\n",
        "            # called until after second is defined\n",
        "\n",
        "def second():\n",
        "    print(\"Calling second.\")\n",
        "\n",
        "first() # Here is where the call of first should go"
      ],
      "metadata": {
        "colab": {
          "base_uri": "https://localhost:8080/"
        },
        "id": "IbHSp9Kfh5K9",
        "outputId": "07978982-8266-4a99-f614-4bf5af77bae2"
      },
      "execution_count": null,
      "outputs": [
        {
          "output_type": "stream",
          "name": "stdout",
          "text": [
            "Calling first.\n",
            "Calling second.\n"
          ]
        }
      ]
    },
    {
      "cell_type": "markdown",
      "source": [
        "## **Рекурсивные функции**"
      ],
      "metadata": {
        "id": "8eXvZR13iQ8x"
      }
    },
    {
      "cell_type": "markdown",
      "source": [
        "Рекурсивная функция - это функция, которая вызывает саму себя. Чтобы функция\n",
        "не повторялась бесконечно, она должна содержать по крайней мере один оператор выбора. Этот оператор проверяет\n",
        "условие, называемое базовым случаем, чтобы определить, следует ли остановить или продолжить выполнение рекурсивного\n",
        "шага.\n",
        "\n",
        "Рассмотрим, как преобразовать итерационный алгоритм в рекурсивную функцию. Вот\n",
        "определение диапазона отображения функции, которая выводит числа от нижней границы до\n",
        "верхней границы:"
      ],
      "metadata": {
        "id": "zRHLiJ3XiTnz"
      }
    },
    {
      "cell_type": "code",
      "source": [
        "def displayRange(lower, upper):\n",
        "    \"\"\"Outputs the numbers from lower to upper.\"\"\"\n",
        "    while lower <= upper:\n",
        "        print(lower)\n",
        "        lower = lower + 1"
      ],
      "metadata": {
        "id": "Lmk9654giS6B"
      },
      "execution_count": null,
      "outputs": []
    },
    {
      "cell_type": "markdown",
      "source": [
        "Хотя синтаксис и дизайн двух функций различны, выполняется один и тот же алгоритмический процесс. Каждый вызов рекурсивной функции обращается к следующему номеру в\n",
        "последовательности, точно так же, как это делает цикл в итеративной версии функции."
      ],
      "metadata": {
        "id": "4z4DtXs2l3NB"
      }
    },
    {
      "cell_type": "markdown",
      "source": [
        "## **Определение вложенных функций**"
      ],
      "metadata": {
        "id": "5vms6Z3FmJGU"
      }
    },
    {
      "cell_type": "markdown",
      "source": [
        "Определения других функций могут быть вложены в последовательность операторов функции.\n",
        "Рассмотрим следующие два определения рекурсивной факториальной функции. В первом\n",
        "определении используется вложенная вспомогательная функция для выполнения рекурсии с требуемыми параметрами.\n",
        "Второе определение присваивает второму параметру значение по умолчанию для упрощения проектирования."
      ],
      "metadata": {
        "id": "Sta3qwWbmLjD"
      }
    },
    {
      "cell_type": "code",
      "source": [
        "# First definition\n",
        "def factorial(n):\n",
        "    \"\"\"Returns the factorial of n.\"\"\"\n",
        "    def recurse(n, product):\n",
        "        \"\"\"Helper function to compute factorial.\"\"\"\n",
        "        if n == 1: return product\n",
        "        else: return recurse(n - 1, n * product)\n",
        "    return recurse(n, 1)\n",
        "\n",
        "# Second definition\n",
        "def factorial(n, product = 1):\n",
        "    \"\"\"Returns the factorial of n.\"\"\"\n",
        "    if n == 1: return product\n",
        "    else: return factorial(n - 1, n * product)"
      ],
      "metadata": {
        "id": "Q-Fs15BDmP6w"
      },
      "execution_count": null,
      "outputs": []
    },
    {
      "cell_type": "markdown",
      "source": [
        "## **Функции более высокого порядка**"
      ],
      "metadata": {
        "id": "zzcn2CB6modz"
      }
    },
    {
      "cell_type": "markdown",
      "source": [
        "Функции Python являются первоклассными объектами данных. Это означает, что можно присваивать их переменным,\n",
        "сохранять их в структурах данных, передавать их в качестве аргументов другим функциям и возвращать их\n",
        "как значения других функций. Функция более высокого порядка - это функция, которая получает другую\n",
        "функцию в качестве аргумента и применяет ее каким-либо образом. Python включает две встроенные функции более высокого порядка, map и filter, которые полезны для обработки повторяющихся объектов."
      ],
      "metadata": {
        "id": "7YqCk9QHmqJu"
      }
    },
    {
      "cell_type": "markdown",
      "source": [
        "Предположим, вы хотите преобразовать список целых чисел в другой список строковых представлений\n",
        "этих целых чисел. Вы могли бы использовать цикл для просмотра каждого целого числа, преобразования его в строку и добавления\n",
        "в новый список следующим образом:"
      ],
      "metadata": {
        "id": "6kWEIXIZm3kY"
      }
    },
    {
      "cell_type": "code",
      "source": [
        "newList = []\n",
        "oldList = []\n",
        "for number in oldList: newList.append(str(number))"
      ],
      "metadata": {
        "id": "unWTR_WEnWDS"
      },
      "execution_count": null,
      "outputs": []
    },
    {
      "cell_type": "markdown",
      "source": [
        "## **Создание анонимных функций с лямбда**"
      ],
      "metadata": {
        "id": "mDjbBoxynybB"
      }
    },
    {
      "cell_type": "markdown",
      "source": [
        "Программисты могут избежать определения одноразовых вспомогательных функций, таких как is Positive, создав\n",
        "анонимную функцию для передачи в map или filter на лету.\n",
        "Для этой цели они используют лямбда-форму Python. Синтаксис лямбды таков:"
      ],
      "metadata": {
        "id": "vrj_pGuMn4mH"
      }
    },
    {
      "cell_type": "code",
      "source": [
        "lambda <argument list> : <expression>"
      ],
      "metadata": {
        "id": "51vEm1Zzn70d"
      },
      "execution_count": null,
      "outputs": []
    },
    {
      "cell_type": "markdown",
      "source": [
        "Обратите внимание, что выражение не может включать последовательность инструкций, как в других\n",
        "функциях Python. Код"
      ],
      "metadata": {
        "id": "_J-1r4zkn_xB"
      }
    },
    {
      "cell_type": "code",
      "source": [
        "newList = list(filter(lambda number: number > 0, oldList))"
      ],
      "metadata": {
        "id": "URYeU_kSoD7q"
      },
      "execution_count": null,
      "outputs": []
    },
    {
      "cell_type": "markdown",
      "source": [
        "## **Перехват исключений**"
      ],
      "metadata": {
        "id": "_8GeuOMdoHS7"
      }
    },
    {
      "cell_type": "markdown",
      "source": [
        "Когда виртуальная машина Python сталкивается с семантической ошибкой во\n",
        "время выполнения программы, она создает исключение и останавливает программу с сообщением об ошибке. Примерами\n",
        "семантических ошибок являются неопределенные имена переменных, попытки разделить на 0 и перечисление индексов\n",
        "вне диапазона. Сигнализация о таких ошибках является благом для программиста, который затем может\n",
        "исправить их, чтобы создать более качественную программу. Однако некоторые ошибки, такие как неправильные цифры во\n",
        "входном номере, являются ошибками пользователей. В этих случаях программа не должна допускать\n",
        "результирующие исключения останавливают выполнение, но должны перехватывать их и позволять пользователю корректно восстанавливаться\n",
        "."
      ],
      "metadata": {
        "id": "bTB-pTY7oI_6"
      }
    },
    {
      "cell_type": "markdown",
      "source": [
        "В Python есть оператор try-except, который позволяет программе перехватывать исключения\n",
        "и выполнять соответствующие операции восстановления. Вот синтаксис простейшей формы\n",
        "этого оператора:"
      ],
      "metadata": {
        "id": "9hmRrloHoPug"
      }
    },
    {
      "cell_type": "code",
      "source": [
        "try:\n",
        "    <statements>\n",
        "except <exception type>:\n",
        "    <statements>"
      ],
      "metadata": {
        "id": "5D6LaK8UoRze"
      },
      "execution_count": null,
      "outputs": []
    },
    {
      "cell_type": "markdown",
      "source": [
        "Вот пример:"
      ],
      "metadata": {
        "id": "wikSq3sKoWla"
      }
    },
    {
      "cell_type": "code",
      "source": [
        "def safeIntegerInput(prompt):\n",
        "    \"\"\"Prompts the user for an integer and returns the\n",
        "    integer if it is well-formed. Otherwise, prints an\n",
        "    error message and repeats this process.\"\"\"\n",
        "    inputString = input(prompt)\n",
        "    try:\n",
        "        number = int(inputString)\n",
        "        return number\n",
        "    except ValueError:\n",
        "        print(\"Error in number format:\", inputString)\n",
        "        return safeIntegerInput(prompt)\n",
        "\n",
        "\n",
        "if __name__ == \"__main__\":\n",
        "    age = safeIntegerInput(\"Enter your age: \")\n",
        "    print(\"Your age is\", age)"
      ],
      "metadata": {
        "colab": {
          "base_uri": "https://localhost:8080/"
        },
        "id": "shlSM6lroYvF",
        "outputId": "2e20795c-7358-4e66-d8db-8323f63b8a38"
      },
      "execution_count": null,
      "outputs": [
        {
          "output_type": "stream",
          "name": "stdout",
          "text": [
            "Enter your age: выйй\n",
            "Error in number format: выйй\n",
            "Enter your age: 21\n",
            "Your age is 21\n"
          ]
        }
      ]
    },
    {
      "cell_type": "markdown",
      "source": [
        "## **Файлы и операции с ними**"
      ],
      "metadata": {
        "id": "06fRk0PSoqzB"
      }
    },
    {
      "cell_type": "markdown",
      "source": [
        "Python предоставляет отличную поддержку для управления и обработки нескольких типов файлов. В этом\n",
        "разделе рассматриваются некоторые манипуляции с текстовыми файлами и объектными файлами."
      ],
      "metadata": {
        "id": "qABZtG2Vouut"
      }
    },
    {
      "cell_type": "markdown",
      "source": [
        "Можно выводить данные в текстовый файл, используя объект file. Функция open в Python, которая ожидает\n",
        "путь к файлу и строку режима в качестве аргументов, открывает соединение с файлом на диске и\n",
        "возвращает объект file. Строка режима - 'r' для входных файлов и 'w' для выходных файлов. Таким образом,\n",
        "следующий код открывает файловый объект в файле с именем myfile.txt для вывода:"
      ],
      "metadata": {
        "id": "fY2L1Beho0l6"
      }
    },
    {
      "cell_type": "code",
      "source": [
        " f = open(\"myfile.txt\", 'w')"
      ],
      "metadata": {
        "id": "aFXCfL6IpBto"
      },
      "execution_count": null,
      "outputs": []
    },
    {
      "cell_type": "markdown",
      "source": [
        "Если файл не существует, он создается с указанным путем. Если файл уже существует,\n",
        "Python открывает его. Когда данные записываются в файл и файл закрывается, все данные, ранее\n",
        "существовавшие в файле, удаляются."
      ],
      "metadata": {
        "id": "pLMjNExapG0S"
      }
    },
    {
      "cell_type": "markdown",
      "source": [
        "Строковые данные записываются (или выводятся) в файл с помощью метода write с объектом file. Метод\n",
        "write ожидает один строковый аргумент. Если вы хотите, чтобы выводимый текст заканчивался\n",
        "новой строкой, вы должны включить в строку экранирующий символ \\n. Следующая инструкция записывает\n",
        "в файл две строки текста:"
      ],
      "metadata": {
        "id": "K39T9XBVpGp3"
      }
    },
    {
      "cell_type": "code",
      "source": [
        "f.write(\"First line.\\nSecond line.\\n\")"
      ],
      "metadata": {
        "colab": {
          "base_uri": "https://localhost:8080/"
        },
        "id": "JH-0GefwpHQG",
        "outputId": "b47e3ffe-cff6-4154-ec07-3e939d3bf47f"
      },
      "execution_count": null,
      "outputs": [
        {
          "output_type": "execute_result",
          "data": {
            "text/plain": [
              "25"
            ]
          },
          "metadata": {},
          "execution_count": 38
        }
      ]
    },
    {
      "cell_type": "markdown",
      "source": [
        "Когда все выходные данные будут завершены, файл следует закрыть, используя метод close, следующим\n",
        "образом:"
      ],
      "metadata": {
        "id": "YoHWSfAUpSxN"
      }
    },
    {
      "cell_type": "code",
      "source": [
        "f.close()"
      ],
      "metadata": {
        "id": "aO3I390xpSa5"
      },
      "execution_count": null,
      "outputs": []
    },
    {
      "cell_type": "markdown",
      "source": [
        "Пример чтения файла:"
      ],
      "metadata": {
        "id": "n4SLiHg6pj-w"
      }
    },
    {
      "cell_type": "code",
      "source": [
        "f = open(\"myfile.txt\", 'r')\n",
        "text = f.read()\n",
        "text"
      ],
      "metadata": {
        "colab": {
          "base_uri": "https://localhost:8080/",
          "height": 36
        },
        "id": "JzOgYV0Fpgum",
        "outputId": "a4e5f69a-27bd-4f0e-d3ca-9016999e9902"
      },
      "execution_count": null,
      "outputs": [
        {
          "output_type": "execute_result",
          "data": {
            "text/plain": [
              "'First line.\\nSecond line.\\n'"
            ],
            "application/vnd.google.colaboratory.intrinsic+json": {
              "type": "string"
            }
          },
          "metadata": {},
          "execution_count": 41
        }
      ]
    },
    {
      "cell_type": "code",
      "source": [
        "f.close()"
      ],
      "metadata": {
        "id": "8s_vR3KIpydB"
      },
      "execution_count": null,
      "outputs": []
    },
    {
      "cell_type": "markdown",
      "source": [
        "## **Создание новых классов**"
      ],
      "metadata": {
        "id": "iR8mQ42Fp7U8"
      }
    },
    {
      "cell_type": "markdown",
      "source": [
        "Класс описывает данные и методы, относящиеся к набору объектов. Он предоставляет\n",
        "схему создания объектов и код, выполняемый при вызове методов для них.\n",
        "Все типы данных в Python являются классами.\n",
        "\n",
        "Синтаксис определения класса Python таков:\n"
      ],
      "metadata": {
        "id": "LAPh60Htp-oh"
      }
    },
    {
      "cell_type": "code",
      "source": [
        "def <class name>(<parent class name>):\n",
        "    <class variable assignments>\n",
        "    <instance method definitions>"
      ],
      "metadata": {
        "id": "JSX7Fhw-tSNr"
      },
      "execution_count": null,
      "outputs": []
    },
    {
      "cell_type": "markdown",
      "source": [
        "Имена классов по соглашению пишутся с заглавной буквы. Код для определения класса обычно содержится в\n",
        "модуле, имя файла которого является именем этого класса в нижнем регистре. Связанные классы могут отображаться в\n",
        "одном и том же модуле."
      ],
      "metadata": {
        "id": "AbqGZ_fHtWne"
      }
    },
    {
      "cell_type": "markdown",
      "source": [
        "Имя родительского класса необязательно, и в этом случае предполагается, что это object. Все\n",
        "классы Python принадлежат иерархии с object в корне. Несколько методов, таких как __str__\n",
        "и __eq__, определены в object и автоматически наследуются всеми подклассами. Как вы\n",
        "вскоре увидите, такие методы обеспечивают минимальное поведение по умолчанию для любых новых классов.\n",
        "\n",
        "Методы экземпляра выполняются для объектов класса. Они включают код для доступа к переменным экземпляра или их изменения. Переменная экземпляра относится к памяти, хранящейся в отдельном объекте.\n",
        "Переменные класса ссылаются на хранилище, общее для всех объектов класса.\n",
        "\n",
        "Чтобы проиллюстрировать эти идеи, в этом разделе теперь будет рассмотрен код для определения\n",
        "класса Counter. Объект counter, как следует из названия, отслеживает количество целых чисел. Значение счетчика\n",
        "изначально равно 0 и может быть сброшено на 0 в любое время. Вы можете увеличивать или уменьшать\n",
        "значение счетчика, получать его текущее целочисленное значение, получать его строковое представление или сравнивать два\n",
        "счетчика на равенство. Вот код для класса:"
      ],
      "metadata": {
        "id": "nMXQe7UVtasH"
      }
    },
    {
      "cell_type": "code",
      "source": [
        "class Counter(object):\n",
        "    \"\"\"Models a counter.\"\"\"\n",
        "\n",
        "    # Class variable\n",
        "    instances = 0\n",
        "\n",
        "    # Constructor\n",
        "    def __init__(self):\n",
        "        \"\"\"Sets up the counter.\"\"\"\n",
        "        Counter.instances += 1\n",
        "        self.reset()\n",
        "\n",
        "    # Mutator methods\n",
        "    def reset(self):\n",
        "        \"\"\"Sets the counter to 0.\"\"\"\n",
        "        self.instances = 0\n",
        "\n",
        "    def increment(self, amount = 1):\n",
        "        \"\"\"Adds amount to the counter.\"\"\"\n",
        "        self.instances += amount\n",
        "\n",
        "    def decrement(self, amount = 1):\n",
        "        \"\"\"Subtracts amount from the counter.\"\"\"\n",
        "        self.instances -= amount\n",
        "\n",
        "    # Accessor methods\n",
        "    def getValue(self):\n",
        "        \"\"\"Returns the counter's value.\"\"\"\n",
        "        return self.instances\n",
        "\n",
        "    def __str__(self):\n",
        "        \"\"\"Returns the string representation of the counter.\"\"\"\n",
        "        return str(self.instances)\n",
        "\n",
        "    def __eq__(self, other):\n",
        "        \"\"\"Returns True if self equals other\n",
        "        or False otherwise.\"\"\"\n",
        "        if self is other: return True\n",
        "        if type(self) != type(other): return False\n",
        "        return self.instances == other.instances"
      ],
      "metadata": {
        "id": "U5AF47gmtemp"
      },
      "execution_count": 52,
      "outputs": []
    },
    {
      "cell_type": "code",
      "source": [
        "cl = Counter()\n",
        "print(cl.instances)"
      ],
      "metadata": {
        "colab": {
          "base_uri": "https://localhost:8080/"
        },
        "id": "dQM6Gkb5uGmT",
        "outputId": "940ab3fa-5b5d-4055-b0f0-3a71bc80bab2"
      },
      "execution_count": 53,
      "outputs": [
        {
          "output_type": "stream",
          "name": "stdout",
          "text": [
            "0\n"
          ]
        }
      ]
    },
    {
      "cell_type": "markdown",
      "source": [
        "Здесь предаставлен пример работы класса и объектов."
      ],
      "metadata": {
        "id": "PgTXzSqWvtPO"
      }
    }
  ]
}

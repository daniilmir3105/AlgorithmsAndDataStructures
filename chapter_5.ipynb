{
  "nbformat": 4,
  "nbformat_minor": 0,
  "metadata": {
    "colab": {
      "provenance": []
    },
    "kernelspec": {
      "name": "python3",
      "display_name": "Python 3"
    },
    "language_info": {
      "name": "python"
    }
  },
  "cells": [
    {
      "cell_type": "markdown",
      "source": [
        "# **Интерфейсы, имплементация и полиморфизм**"
      ],
      "metadata": {
        "id": "6lAopbyXq4pY"
      }
    },
    {
      "cell_type": "markdown",
      "source": [
        "Универсальная последовательная шина (USB) обеспечивает стандартный интерфейс для подключения широкого спектра\n",
        "устройств к компьютерам. Как вы, вероятно, знаете, стандартный USB-кабель позволяет подключать\n",
        "компьютер к цифровым камерам, смартфонам, принтерам, сканерам, внешним дискам хранения данных и\n",
        "многим другим устройствам. Обычная флешка поставляется со встроенным разъемом USB.\n",
        "\n",
        "Интерфейсы так же распространены в программном обеспечении, как и в аппаратном обеспечении. Одним из отличительных признаков\n",
        "хорошо разработанного программного обеспечения является четкое разделение интерфейсов и реализаций. Когда\n",
        "программисты используют программный ресурс, им нужно интересоваться только его интерфейсом —\n",
        "набором доступных им методов, функций и названий типов данных. В идеале, подробностями\n",
        "реализации этого ресурса — лежащим в основе алгоритмическим кодом и структурами данных—\n",
        "лежат скрытые или инкапсулированные в пределах абстрактного барьера."
      ],
      "metadata": {
        "id": "yEms9RVeq4fP"
      }
    },
    {
      "cell_type": "markdown",
      "source": [
        "Барьер, отделяющий\n",
        "интерфейс от реализации:\n",
        "\n",
        "*   Упрощает процесс обучения пользователей ресурса\n",
        "\n",
        "*   Позволяет пользователям быстро соединять ресурсы по принципу \"подключи и работай\"\n",
        "*   Может предоставить пользователям возможность выбирать между альтернативными реализациями одного и того\n",
        "же ресурса\n",
        "\n",
        "*   Позволяет разработчикам вносить изменения в реализацию ресурса, не\n",
        "нарушая код его пользователей\n",
        "\n"
      ],
      "metadata": {
        "id": "QjWq5pnJrzuX"
      }
    },
    {
      "cell_type": "markdown",
      "source": [
        "## **Разработка интерфейса**"
      ],
      "metadata": {
        "id": "tS9Xz8UtsIhh"
      }
    },
    {
      "cell_type": "markdown",
      "source": [
        "Каждый раз, когда вы запускаете справочную функцию Python для получения информации о модуле, типе данных,\n",
        "методе или функции, вы получаете доступ к документации об интерфейсе этого ресурса. В\n",
        "случае типов данных (или классов) вы видите список заголовков методов, которые включают их\n",
        "имена, типы их аргументов, описание того, что делают методы, и значения\n",
        ", возвращаемые методами, если таковые имеются. Документация дает вам достаточно информации, чтобы знать, как\n",
        "использовать или вызывать метод и чего ожидать от его выполнения и возврата. Это оно. Интерфейсы\n",
        "они лаконичны и информативны, позволяя вам понять поведение ресурса, просто\n",
        "взглянув на его общедоступное внешнее “лицо”.\n",
        "\n",
        "В этом разделе будет разработан интерфейс для простого типа коллекции, называемого bag. Как\n",
        "упоминалось в раннем обзоре коллекций (глава 2, “Обзор коллекций”),\n",
        "пакет - это тип неупорядоченной коллекции. Интерфейс bag позволяет клиентам эффективно использовать пакеты\n",
        "и позволяет разработчикам создавать новые классы, реализующие этот интерфейс."
      ],
      "metadata": {
        "id": "Fe6jFUggsIYg"
      }
    },
    {
      "cell_type": "markdown",
      "source": [
        "### **Разработка интерфейса бага**"
      ],
      "metadata": {
        "id": "CHxPyfdpsc5V"
      }
    },
    {
      "cell_type": "markdown",
      "source": [
        "Методы в интерфейсе ресурса выражают поведение этого ресурса, виды действий\n",
        ", которые он выполняет, или то, что вы можете с ним сделать. В случае с таким новым типом объектов, как сумка,\n",
        "вы можете создать интерфейс, подумав о том, что сумки могут делать в реальной ситуации."
      ],
      "metadata": {
        "id": "3jlLqrAPsdSK"
      }
    },
    {
      "cell_type": "markdown",
      "source": [
        "Indeed, in the use of common names for operations on different types of collections, you\n",
        "see the first example of polymorphism (from the Greek term for many bodies) in action.\n",
        "Following are the function names, method names, and operators in the bag interface:\n",
        "\n",
        "```\n",
        " add\n",
        " clear\n",
        " count\n",
        " for …\n",
        " in\n",
        " isEmpty\n",
        " len\n",
        " remove\n",
        " str\n",
        " +\n",
        " ==\n",
        "```\n",
        "\n"
      ],
      "metadata": {
        "id": "tnWfEaq7sx7a"
      }
    },
    {
      "cell_type": "markdown",
      "source": [
        "## **Указание аргументов и возвращаемых значений**"
      ],
      "metadata": {
        "id": "avbWjQ_7wE3V"
      }
    },
    {
      "cell_type": "markdown",
      "source": [
        "Следующим усовершенствованием интерфейса bag является добавление аргументов к операциям в интерфейсе и обдумывание того, какие значения, если таковые имеются, они возвращают. Обратите внимание, что интерфейс никогда не раскрывает, как операция выполняет свою задачу; это работа его разработчиков.\n",
        "Еще раз, вы можете вернуться к сценарию использования пакетов в реальной жизни.\n",
        "\n",
        "Для каждой операции\n",
        "спрашивайте, какие объекты, если таковые имеются, ей нужны от вас для выполнения своей задачи, и какие объекты, если таковые имеются,\n",
        "возвращаются вам по завершении задачи. Эта информация дает вам информацию о ходе операции\n",
        "аргументы и возвращаемые значения, если таковые имеются. Быстрый способ разобраться в этих вопросах - представить\n",
        "себе написание короткой программы, использующей набор чисел. Следующий фрагмент кода иллюстрирует такую\n",
        "мечту, где переменные b и c относятся к багам:"
      ],
      "metadata": {
        "id": "BBZ2DhDGwFP5"
      }
    },
    {
      "cell_type": "code",
      "execution_count": 3,
      "metadata": {
        "colab": {
          "base_uri": "https://localhost:8080/"
        },
        "id": "_ldhvRVRqybW",
        "outputId": "0e588317-5255-4db5-aa62-6896185d9ef3"
      },
      "outputs": [
        {
          "output_type": "stream",
          "name": "stdout",
          "text": [
            "[0, 1, 2, 3, 4, 5, 6, 7, 8, 9]\n",
            "True\n",
            "1\n",
            "20\n",
            "0\n",
            "1\n",
            "2\n",
            "3\n",
            "4\n",
            "5\n",
            "6\n",
            "7\n",
            "8\n",
            "9\n",
            "0\n",
            "1\n",
            "2\n",
            "3\n",
            "4\n",
            "5\n",
            "6\n",
            "7\n",
            "8\n",
            "9\n",
            "True\n"
          ]
        }
      ],
      "source": [
        "b = [1, 2, 3]\n",
        "b.clear() # Make the bag empty\n",
        "for item in range(10): # Add 10 numbers to it\n",
        "    b.append(item)\n",
        "print(b) # Print the contents (a string)\n",
        "print(4 in b) # Is 4 in the bag?\n",
        "print(b.count(2)) # 1 instance of 2 in the bag\n",
        "c = b + b # Contents replicated in a new bag\n",
        "print(len(c)) # 20 numbers\n",
        "for item in c: # Print them all individually\n",
        "    print(item)\n",
        "for item in range(10): # Remove half of them\n",
        "    c.remove(item)\n",
        "print(c == b) # Should be the same contents now"
      ]
    },
    {
      "cell_type": "markdown",
      "source": [
        "Операции isEmpty, len и clear являются самыми простыми, потому что каждая из них не требует\n",
        "от нас никакой информации для выполнения своей работы. len возвращает целое число, тогда как str возвращает строку.\n",
        "\n",
        "Операции добавления и удаления должны знать добавляемый или удаляемый элемент, поэтому каждая\n",
        "ожидает один аргумент: элемент. Один из вопросов, который теперь возникает, заключается в том, что должен делать remove\n",
        ", когда его аргумента нет в пакете. Когда это происходит со встроенными коллекциями Python,\n",
        "Python обычно генерирует исключение. Вы можете пока проигнорировать эту проблему и вернуться к ней\n",
        "в следующем подразделе.\n",
        "\n",
        "Операторы in, + и == ожидают два операнда, и каждый оператор возвращает одно\n",
        "значение. Двумя операндами оператора in являются любой объект Python и пакет.\n",
        "\n",
        "Оператор in\n",
        "возвращает логическое значение. Оператор + ожидает два пакета в качестве операндов и возвращает\n",
        "третий пакет. Оператор == ожидает пакет и любой объект Python в качестве операндов и возвращает\n",
        "логическое значение.\n",
        "\n",
        "Цикл for над коллекцией - это то, что программисты называют “синтаксическим сахаром” для более\n",
        "сложного цикла, использующего объект iterator. В этой главе итераторы рассматриваются более подробно\n",
        "подробности позже. А пока просто предположим, что эта часть интерфейса bag полагается на метод\n",
        "с именем __iter__."
      ],
      "metadata": {
        "id": "AHnmnHXHyDGT"
      }
    },
    {
      "cell_type": "markdown",
      "source": [
        "Как упоминалось ранее в этой книге, некоторые функции Python и символы операторов являются\n",
        "сокращениями для определенных стандартных методов в реализующем классе. Таблица 5-1 добавляет эти\n",
        "методы к списку в предыдущем разделе “Проектирование интерфейса Bag” вместе с\n",
        "соответствующими аргументами. Обратите внимание, что b в столбце 1 относится к пакету, а self в столбце 2\n",
        "относится к объекту (пакету), на котором выполняется метод. Обратите также внимание, что вы можете опустить метод\n",
        "__contains__, если вы включаете метод __iter__."
      ],
      "metadata": {
        "id": "o6ObJGWtyt-B"
      }
    },
    {
      "cell_type": "markdown",
      "source": [
        "![Снимок экрана 2024-03-20 152003.png](data:image/png;base64,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)"
      ],
      "metadata": {
        "id": "WLdnz2hxzate"
      }
    },
    {
      "cell_type": "markdown",
      "source": [
        "## **Конструкторы и имплементирующие классы**"
      ],
      "metadata": {
        "id": "dLjiqFxC2glC"
      }
    },
    {
      "cell_type": "markdown",
      "source": [
        "В первой строке таблицы 5-1 показана операция, не названная и не включенная в предыдущий список. Эта\n",
        "операция является конструктором для создаваемого пакета определенного типа. Для пользователя\n",
        "bag этот конструктор является просто именем реализующего класса bag, за которым следуют его аргументы, если таковые имеются. Синтаксическая форма <имя класса> используется в таблице 5-1, чтобы указать, что это\n",
        "может быть имя любого реализующего класса bag. Метод в правом столбце всегда\n",
        "с именем __init__. Обратите внимание, что этот метод принимает необязательную исходную коллекцию в качестве аргумента, значение которого по умолчанию равно None, если пользователь его не предоставляет. Это позволяет пользователю создать\n",
        "либо пустой пакет, либо пакет с содержимым другой коллекции."
      ],
      "metadata": {
        "id": "9hUqtSW82nOI"
      }
    },
    {
      "cell_type": "markdown",
      "source": [
        "Например, предположим, что программисту доступны два реализующих класса, ArrayBag и LinkedBag\n",
        ". Следующий сегмент кода создает пустой связанный пакет и\n",
        "пакет массива, содержащий числа из заданного списка:"
      ],
      "metadata": {
        "id": "HcVhAryU221D"
      }
    },
    {
      "cell_type": "markdown",
      "source": [
        "## **Предварительные условия, постусловия, исключения и документация**"
      ],
      "metadata": {
        "id": "kDd1tQG43YlZ"
      }
    },
    {
      "cell_type": "markdown",
      "source": [
        "Последним шагом перед выражением интерфейса в коде является четкое и сжатое описание\n",
        "того, что делает каждый метод. Это описание включает в себя не только то, что, как вы ожидаете, произойдет в\n",
        "нормальных условиях при вызове метода, но и то, что произойдет, когда произойдет что-то\n",
        "ненормальное, например ошибка. Такие описания кратки и касаются только того, что\n",
        "делает метод, а не того, как он это делает. Они формируют основу для документирования закодированного\n",
        "интерфейса с помощью docstrings, как вы вскоре увидите.\n",
        "\n",
        "Как обсуждалось в главе 1 “Основы программирования на Python”, строка документа - это строка, заключенная в\n",
        "в тройных кавычках, которые будут отображаться при запуске справочной функции Python для ресурса. Строка\n",
        "документации для метода без возможных условий ошибки просто указывает, каковы параметры метода\n",
        ", каково его возвращаемое значение и какое действие выполняется. Иногда вы можете\n",
        "выразить эту информацию в одном предложении, например, “Возвращает сумму чисел в\n",
        "списке” или “Сортирует элементы списка в порядке возрастания”.\n",
        "Более подробная форма документации может включать предварительные и постусловия.\n",
        "\n",
        "Например, метод удаления пакета может вызвать ошибку ключа, если целевого элемента нет в пакете.\n",
        "Теперь вы увидите, что делает метод удаления пакета при нормальных или ненормальных обстоятельствах. Вот заголовок метода Python для этой операции, который включает подробную\n",
        "строку документации, описывающую аргумент метода, предварительные условия, постусловия и\n",
        "возможные исключения. Обратите внимание, что self - это имя объекта bag с точки\n",
        "зрения метода."
      ],
      "metadata": {
        "id": "MvdB1OVK3aVr"
      }
    },
    {
      "cell_type": "code",
      "source": [
        "def remove(self, item):\n",
        "    \"\"\"Precondition: item is in self.\n",
        "    Raises: KeyError if item is not in self.\n",
        "    Postcondition: item is removed from self.\"\"\""
      ],
      "metadata": {
        "id": "oVmtiZ9D3nyp"
      },
      "execution_count": 5,
      "outputs": []
    },
    {
      "cell_type": "markdown",
      "source": [
        "## **Программируем интерфейс на Питоне**"
      ],
      "metadata": {
        "id": "iVlzijNq3kKQ"
      }
    },
    {
      "cell_type": "markdown",
      "source": [
        "Некоторые языки, такие как Java, предоставляют синтаксис для кодирования интерфейса. Интерфейс Java\n",
        "не выполняет никаких действий сам по себе, но предоставляет шаблон методов, которому должны соответствовать реализующие классы. В Python такой функции нет, но вы можете эмулировать ее в целях\n",
        "документирования и руководства разработкой реализующих классов. Хотя вы\n",
        "никогда не будете использовать этот псевдоинтерфейс в реальном приложении, он может служить полезной схемой для\n",
        "определения операций и обеспечения согласованности между их реализациями."
      ],
      "metadata": {
        "id": "nvP_uWCl30S_"
      }
    },
    {
      "cell_type": "markdown",
      "source": [
        "Чтобы создать интерфейс, перечислите заголовки каждого метода с его документацией и завершите каждый метод одним оператором pass или return. Оператор pass используется в\n",
        "методах-мутаторах, которые не возвращают значения, тогда как каждый метод доступа возвращает простое\n",
        "значение по умолчанию, такое как False, 0 или None. Чтобы заголовки методов можно было проверить с\n",
        "помощью компилятора, поместите их в класс, суффикс которого равен “Interface”. Вот список интерфейса bag\n",
        ", как определено в классе BagInterface:"
      ],
      "metadata": {
        "id": "nO3kAmIh35wY"
      }
    },
    {
      "cell_type": "code",
      "source": [
        "class BagInterface(object):\n",
        "    \"\"\"Interface for all bag types.\"\"\"\n",
        "\n",
        "    # Constructor\n",
        "    def __init__(self, sourceCollection = None):\n",
        "        \"\"\"Sets the initial state of self, which includes the\n",
        "        contents of sourceCollection, if it’s present.\"\"\"\n",
        "        pass\n",
        "\n",
        "    # Accessor methods\n",
        "    def isEmpty(self):\n",
        "        \"\"\"Returns True if len(self) == 0,\n",
        "        or False otherwise.\"\"\"\n",
        "        return True\n",
        "\n",
        "    def __len__(self):\n",
        "        \"\"\"Returns the number of items in self.\"\"\"\n",
        "        return 0\n",
        "\n",
        "    def __str__(self):\n",
        "        \"\"\"Returns the string representation of self.\"\"\"\n",
        "        return \"\"\n",
        "\n",
        "    def __iter__(self):\n",
        "        \"\"\"Supports iteration over a view of self.\"\"\"\n",
        "        return None\n",
        "\n",
        "    def __add__(self, other):\n",
        "        \"\"\"Returns a new bag containing the contents\n",
        "        of self and other.\"\"\"\n",
        "        return None\n",
        "\n",
        "    def __eq__(self, other):\n",
        "        \"\"\"Returns True if self equals other,\n",
        "        or False otherwise.\"\"\"\n",
        "        return False\n",
        "\n",
        "    def count(self, item):\n",
        "        \"\"\"Returns the number of instances of item in self.\"\"\"\n",
        "        return 0\n",
        "\n",
        "    # Mutator methods\n",
        "    def clear(self):\n",
        "        \"\"\"Makes self become empty.\"\"\"\n",
        "        pass\n",
        "\n",
        "    def add(self, item):\n",
        "        \"\"\"Adds item to self.\"\"\"\n",
        "        pass\n",
        "\n",
        "    def remove(self, item):\n",
        "        \"\"\"Precondition: item is in self.\n",
        "        Raises: KeyError if item in not in self.\n",
        "        Postcondition: item is removed from self.\"\"\"\n",
        "        pass"
      ],
      "metadata": {
        "id": "Z2emxLvK4bPm"
      },
      "execution_count": 7,
      "outputs": []
    },
    {
      "cell_type": "markdown",
      "source": [
        "Теперь, когда есть удобная схема для всех сумок, вы готовы рассмотреть некоторые\n",
        "варианты реализации сумок. В следующих двух разделах вы разрабатываете коллекцию сумок на основе массива и коллекцию сумок на\n",
        "основе ссылок."
      ],
      "metadata": {
        "id": "Dt7Y2vqy3-jz"
      }
    },
    {
      "cell_type": "markdown",
      "source": [
        "## **Разработка реализации на основе массива**"
      ],
      "metadata": {
        "id": "JKoCFHjI5YX8"
      }
    },
    {
      "cell_type": "markdown",
      "source": [
        "В этом разделе вы разрабатываете реализацию интерфейса bag на основе массива, называемую ArrayBag.\n",
        "\n",
        "После того, как разработчик класса collection получил его интерфейс, проектирование и реализация самого класса состоит из двух этапов:\n",
        "\n",
        "\n",
        "\n",
        "1.   Выберите подходящую структуру данных, содержащую элементы коллекции, и определите любые другие данные, которые могут потребоваться для представления состояния коллекции.\n",
        "Эти данные присваиваются переменным экземпляра в методе __init__.\n",
        "\n",
        "2.   Заполните код для методов, указанных в интерфейсе."
      ],
      "metadata": {
        "id": "HZzg4vRy5skX"
      }
    },
    {
      "cell_type": "markdown",
      "source": [
        "## **Выбор и инициализация структуры данных**"
      ],
      "metadata": {
        "id": "kPA_vXOJ52mJ"
      }
    },
    {
      "cell_type": "markdown",
      "source": [
        "Код для этой части дизайна создать легко. Вы просто создаете копию\n",
        "файла интерфейса bag, baginterface.py, и переименовываете его в arraybag.py. Затем вы добавляете\n",
        "инструкцию import для массива, переименовываете класс в ArrayBag, добавляете переменную класса для\n",
        "емкости по умолчанию и выполняете метод __init__. Вот снимок этих изменений:"
      ],
      "metadata": {
        "id": "8CSm7qTJ6NUe"
      }
    },
    {
      "cell_type": "code",
      "source": [
        "\"\"\"\n",
        "File: arrays.py\n",
        "An Array is like a list, but the client can use\n",
        "only [], len, iter, and str.\n",
        "To instantiate, use\n",
        "<variable> = Array(<capacity>, <optional fill value>)\n",
        "The fill value is None by default.\n",
        "\"\"\"\n",
        "\n",
        "class Array(object):\n",
        "    \"\"\"Represents an array.\"\"\"\n",
        "\n",
        "    def __init__(self, capacity, fillValue = None):\n",
        "        \"\"\"Capacity is the static size of the array.\n",
        "        fillValue is placed at each position.\"\"\"\n",
        "        self.items = list()\n",
        "        for count in range(capacity):\n",
        "            self.items.append(fillValue)\n",
        "\n",
        "    def __len__(self):\n",
        "        \"\"\"-> The capacity of the array.\"\"\"\n",
        "        return len(self.items)\n",
        "\n",
        "    def __str__(self):\n",
        "        \"\"\"-> The string representation of the array.\"\"\"\n",
        "        return str(self.items)\n",
        "\n",
        "    def __iter__(self):\n",
        "        \"\"\"Supports traversal with a for loop.\"\"\"\n",
        "        return iter(self.items)\n",
        "\n",
        "    def __getitem__(self, index):\n",
        "        \"\"\"Subscript operator for access at index.\"\"\"\n",
        "        return self.items[index]\n",
        "\n",
        "    def __setitem__(self, index, newItem):\n",
        "        \"\"\"Subscript operator for replacement at index.\"\"\"\n",
        "        self.items[index] = newItem"
      ],
      "metadata": {
        "id": "dAH644ba6N7R"
      },
      "execution_count": null,
      "outputs": []
    },
    {
      "cell_type": "code",
      "source": [
        "class ArrayBag(object):\n",
        "    \"\"\"An array-based bag implementation.\"\"\"\n",
        "\n",
        "    # Class variable\n",
        "    DEFAULT_CAPACITY = 10\n",
        "\n",
        "    # Constructor\n",
        "    def __init__(self, sourceCollection = None):\n",
        "        \"\"\"Sets the initial state of self, which includes the\n",
        "        contents of sourceCollection, if it’s present.\"\"\"\n",
        "        self.items = Array(ArrayBag.DEFAULT_CAPACITY)\n",
        "        self.size = 0\n",
        "        if sourceCollection:\n",
        "            for item in sourceCollection:\n",
        "                self.add(item)\n",
        "\n",
        "    # Accessor methods\n",
        "    def isEmpty(self):\n",
        "        \"\"\"Returns True if len(self) == 0, or False otherwise.\"\"\"\n",
        "        return len(self) == 0\n",
        "\n",
        "    def __len__(self):\n",
        "        \"\"\"Returns the number of items in self.\"\"\"\n",
        "        return self.size\n",
        "\n",
        "    # Mutator methods\n",
        "    def clear(self):\n",
        "        \"\"\"Makes self become empty.\"\"\"\n",
        "        self.size = 0\n",
        "        self.items = Array(ArrayBag.DEFAULT_CAPACITY)\n",
        "\n",
        "    def add(self, item):\n",
        "        \"\"\"Adds item to self.\"\"\"\n",
        "        # Check array memory here and increase it if necessary\n",
        "        self.items[len(self)] = item\n",
        "        self.size += 1\n",
        "\n",
        "    def __iter__(self):\n",
        "        \"\"\"Supports iteration over a view of self.\"\"\"\n",
        "        cursor = 0\n",
        "        while cursor < len(self):\n",
        "            yield self.items[cursor]\n",
        "            cursor += 1\n",
        "\n",
        "    def __str__(self):\n",
        "        \"\"\"Returns the string representation of self.\"\"\"\n",
        "        return \"{\" + \", \".join(map(str, self)) + \"}\"\n",
        "\n",
        "    def __add__(self, other):\n",
        "        \"\"\"Returns a new bag containing the contents\n",
        "        of self and other.\"\"\"\n",
        "        result = ArrayBag(self)\n",
        "        for item in other:\n",
        "            result.add(item)\n",
        "        return result\n",
        "\n",
        "    def __eq__(self, other):\n",
        "        \"\"\"Returns True if self equals other,\n",
        "        or False otherwise.\"\"\"\n",
        "        if self is other: return True\n",
        "        if type(self) != type(other) or \\\n",
        "            len(self) != len(other):\n",
        "            return False\n",
        "        for item in self:\n",
        "            if self.count(item) != other.count(item):\n",
        "                return False\n",
        "        return True\n",
        "\n",
        "    def remove(self, item):\n",
        "        \"\"\"Precondition: item is in self.\n",
        "        Raises: KeyError if item in not in self.\n",
        "        postcondition: item is removed from self.\"\"\"\n",
        "        # 1. check precondition and raise an exception if necessary\n",
        "        if not item in self:\n",
        "            raise KeyError(str(item) + \" not in bag\")\n",
        "        # 2. Search for index of target item\n",
        "        targetIndex = 0\n",
        "        for targetItem in self:\n",
        "            if targetItem == item:\n",
        "                break\n",
        "            targetIndex += 1\n",
        "        # 3. Shift items to the right of target left by one position\n",
        "        for i in range(targetIndex, len(self) - 1):\n",
        "            self.items[i] = self.items[i + 1]\n",
        "        # 4. Decrement logical size\n",
        "        self.size -= 1\n",
        "        # 5. Check array memory here and decrease it if necessary"
      ],
      "metadata": {
        "id": "qtMjH3Cc6cq8"
      },
      "execution_count": 12,
      "outputs": []
    },
    {
      "cell_type": "markdown",
      "source": [
        "Теперь необходимо загрузить этот модуль и создать экземпляр ArrayBag. Но пока\n",
        "вы не выполните некоторые другие методы, вы не сможете просматривать или изменять его содержимое."
      ],
      "metadata": {
        "id": "Nwfnpbu26tF5"
      }
    },
    {
      "cell_type": "markdown",
      "source": [
        "## **Инициализация структуры данных**"
      ],
      "metadata": {
        "id": "MMoAXwRN-CHh"
      }
    },
    {
      "cell_type": "code",
      "source": [
        "class Node(object):\n",
        "    \"\"\"Represents a singly linked node.\"\"\"\n",
        "\n",
        "    def __init__(self, data, next = None):\n",
        "        \"\"\"Instantiates a Node with a default next of None.\"\"\"\n",
        "        self.data = data\n",
        "        self.next = next"
      ],
      "metadata": {
        "id": "gT0avPis-ddw"
      },
      "execution_count": 13,
      "outputs": []
    },
    {
      "cell_type": "markdown",
      "source": [
        "Как и в классе ArrayBag, роль метода __init__ в LinkedBag заключается в создании\n",
        "переменных экземпляра и присвоении им начальных значений. В этом случае вместо массива и логического\n",
        "размера двумя фрагментами данных являются связанная структура и логический размер. Для поддержания согласованности\n",
        "вы можете использовать те же имена переменных, что и раньше. Однако self.items теперь является внешним\n",
        "указателем вместо массива. Этот указатель изначально имеет значение None, состояние пустой связанной\n",
        "структуры. Когда структура не пуста, self.items ссылается на первый узел в связанной\n",
        "структуре.\n",
        "\n",
        "Код для копирования элементов из исходной коллекции в новый пакет такой же, как и раньше\n",
        "(потому что вы, конечно, используете цикл for с вызовом метода).\n",
        "Модуль linked bag теперь импортирует односвязный тип узла для представления узлов. Переменная\n",
        "класса для емкости по умолчанию опущена, поскольку она не имеет значения в связанной реализации. Вот код для этих изменений:"
      ],
      "metadata": {
        "id": "2SeUe2cC-0xB"
      }
    },
    {
      "cell_type": "code",
      "source": [
        "class LinkedBag(object):\n",
        "    \"\"\"A link-based bag implementation.\"\"\"\n",
        "    # Constructor\n",
        "    def __init__(self, sourceCollection = None):\n",
        "        \"\"\"Sets the initial state of self, which includes the\n",
        "        contents of sourceCollection, if it’s present.\"\"\"\n",
        "        self.items = None\n",
        "        self.size = 0\n",
        "        if sourceCollection:\n",
        "            for item in sourceCollection:\n",
        "                self.add(item)\n",
        "\n",
        "    def __iter__(self):\n",
        "        \"\"\"Supports iteration over a view of self.\"\"\"\n",
        "        cursor = self.items\n",
        "        while cursor != None:\n",
        "            yield cursor.data\n",
        "            cursor = cursor.next\n",
        "\n",
        "def remove(self, item):\n",
        "    \"\"\"Precondition: item is in self.\n",
        "    Raises: KeyError if item is not in self.\n",
        "    Postcondition: item is removed from self.\"\"\"\n",
        "\n",
        "    # Check precondition and raise an exception if necessary\n",
        "    if not item in self:\n",
        "        raise KeyError(str(item) + \" not in bag\")\n",
        "\n",
        "    # Search for the node containing the target item\n",
        "    # probe will point to the target node, and trailer\n",
        "    # will point to the node before it, if it exists\n",
        "    probe = self.items\n",
        "    trailer = None\n",
        "    for targetItem in self:\n",
        "        if targetItem == item:\n",
        "            break\n",
        "        trailer = probe\n",
        "        probe = probe.next\n",
        "\n",
        "    # Unhook the node to be deleted, either the first one or\n",
        "    # one thereafter\n",
        "    if probe == self.items:\n",
        "        self.items = self.items.next\n",
        "    else:\n",
        "        trailer.next = probe.next\n",
        "\n",
        "    # Decrement logical size\n",
        "    self.size -= 1"
      ],
      "metadata": {
        "id": "snLnp8hL-4kt"
      },
      "execution_count": 15,
      "outputs": []
    },
    {
      "cell_type": "markdown",
      "source": [
        "## **Тестирование двух реализаций пакета**"
      ],
      "metadata": {
        "id": "AdabAKLvD5u4"
      }
    },
    {
      "cell_type": "markdown",
      "source": [
        "Важной частью разработки программного ресурса является тестирование. В\n",
        "описании разработки программы в этой главе указано, что вы можете запускать код по ходу работы, чтобы опробовать возможности каждой части. Такого рода тестирование подходит для черновой проработки ресурса и доработки\n",
        "его реализации. Но как только код будет завершен, вы должны выполнить тщательный тест, чтобы\n",
        "убедиться, что ресурс соответствует его требованиям.\n",
        "Модульное тестирование с помощью таких инструментов, как pyunit, может обеспечить такое"
      ],
      "metadata": {
        "id": "hondIgKDEBBC"
      }
    },
    {
      "cell_type": "markdown",
      "source": [
        "Чтобы проиллюстрировать использование функции тестирования для ваших классов bag, вот код для автономного приложения, которое вы можете запустить с любым классом bag. Функция main ожидает тип в качестве\n",
        "аргумента и запускает тесты для объектов этого типа."
      ],
      "metadata": {
        "id": "X4SKjww9EC_H"
      }
    },
    {
      "cell_type": "code",
      "source": [
        "def test(bagType):\n",
        "    \"\"\"Expects a bag type as an argument and runs some tests\n",
        "    on objects of that type.\"\"\"\n",
        "    print(\"Testing\", bagType)\n",
        "    lyst = [2013, 61, 1973]\n",
        "    print(\"The list of items added is:\", lyst)\n",
        "    b1 = []\n",
        "    print(\"Length, expect 3:\", len(b1))\n",
        "    print(\"Expect the bag’s string:\", b1)\n",
        "    print(\"2013 in bag, expect True:\", 2013 in b1)\n",
        "    print(\"2012 in bag, expect False:\", 2012 in b1)\n",
        "    print(\"Expect the items on separate lines:\")\n",
        "    for item in b1:\n",
        "        print(item)\n",
        "\n",
        "    b1.clear()\n",
        "    print(\"Clearing the bag, expect {}:\", b1)\n",
        "    b1.append(25)\n",
        "    b1.remove(25)\n",
        "    print(\"Adding and then removing 25, expect {}:\", b1)\n",
        "    b1 = []\n",
        "    b2 = b1\n",
        "    print(\"Cloning the bag, expect True for ==:\", b1 == b2)\n",
        "    print(\"Expect False for is:\", b1 is b2)\n",
        "    print(\"+ the two bags, expect two of each item:\", b1 + b2)\n",
        "    # for item in lyst:\n",
        "    #     b1.remove(item)\n",
        "\n",
        "    print(\"Remove all items, expect {}:\", b1)\n",
        "    print(\"Removing nonexistent item, expect crash with KeyError:\")\n",
        "    # b2.remove(99)\n",
        "test(ArrayBag)\n",
        "# test(LinkedBag)"
      ],
      "metadata": {
        "colab": {
          "base_uri": "https://localhost:8080/"
        },
        "id": "U4yk4odeFQda",
        "outputId": "67c06cf7-2a50-485d-80fa-f6ec591cf59f"
      },
      "execution_count": 21,
      "outputs": [
        {
          "output_type": "stream",
          "name": "stdout",
          "text": [
            "Testing <class '__main__.ArrayBag'>\n",
            "The list of items added is: [2013, 61, 1973]\n",
            "Length, expect 3: 0\n",
            "Expect the bag’s string: []\n",
            "2013 in bag, expect True: False\n",
            "2012 in bag, expect False: False\n",
            "Expect the items on separate lines:\n",
            "Clearing the bag, expect {}: []\n",
            "Adding and then removing 25, expect {}: []\n",
            "Cloning the bag, expect True for ==: True\n",
            "Expect False for is: True\n",
            "+ the two bags, expect two of each item: []\n",
            "Remove all items, expect {}: []\n",
            "Removing nonexistent item, expect crash with KeyError:\n"
          ]
        }
      ]
    },
    {
      "cell_type": "markdown",
      "source": [
        "## **Построение диаграммы ресурса Bag с помощью UML**"
      ],
      "metadata": {
        "id": "Lcd-HanIGHZN"
      }
    },
    {
      "cell_type": "markdown",
      "source": [
        "По мере добавления новых ресурсов в свой программный набор инструментов их будет легче каталогизировать с помощью набора\n",
        "наглядных пособий, называемых диаграммами классов. Эти диаграммы взяты из визуального языка, называемого\n",
        "Унифицированный язык моделирования (UML). Диаграммы классов показывают взаимосвязи между классами\n",
        "на различных уровнях детализации. Основным отношением, касающимся вас в настоящей главе\n",
        ", было отношение класса, реализующего интерфейс. Фактически, теперь у вас есть два\n",
        "класса, реализующих один и тот же интерфейс, как показано на диаграмме классов на рисунке 5-1."
      ],
      "metadata": {
        "id": "CJmis5-LGKbx"
      }
    },
    {
      "cell_type": "markdown",
      "source": [
        "![Снимок экрана 2024-03-20 164203.png](data:image/png;base64,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)"
      ],
      "metadata": {
        "id": "fZkGwJ_MGQw1"
      }
    },
    {
      "cell_type": "markdown",
      "source": [
        "Двумя другими важными отношениями между классами являются агрегация и композиция. Каждый\n",
        "Объект LinkedBag объединяет ноль или более узлов, тогда как каждый объект ArrayBag состоит из одного объекта Array. Рисунок 5-2 добавляет эти связи к ресурсам, изображенным\n",
        "на рисунке 5.1. Обратите внимание, что символ * на рисунке 5-2 указывает на ноль или более экземпляров класса\n",
        "Node в агрегации."
      ],
      "metadata": {
        "id": "xdiFsFrjGYuW"
      }
    },
    {
      "cell_type": "markdown",
      "source": [
        "![Снимок экрана 2024-03-20 164713.png](data:image/png;base64,iVBORw0KGgoAAAANSUhEUgAAAfoAAACsCAYAAACTtW4XAAAAAXNSR0IArs4c6QAAAARnQU1BAACxjwv8YQUAAAAJcEhZcwAAEnQAABJ0Ad5mH3gAAETmSURBVHhe7d0FXBbJGwfwHx0SCgoCKrZii4p5ttj1t09Pzzrjzo7Ts/s8zzjP7u7EblFEVEAsVAxARSSkREJi/zPz7ougpALie8/Xz8q78W7MzO4zszvv+6pJDAghhBCiktTlv4QQQghRQRToCSGEEBVGgZ4QQghRYRToCSGEEBVGgZ4QQghRYRToCSGEEBWW4cfr4j58QHx8vDxGCCGEfBu6enpQU1OTx0hmZRjor5w9jVvXrspjhBBCyLcxdMJk5DMwkMdIZmU60FuXLAVjExN5KiGEEJI77rreEn8p0H+ZTAf6gaPGIT8FekIIIbnswgkHeNy8QYH+C1FnPEIIIUSFUaAnhBBCVBgFekIIIUSFUaAnhBBCVBgFekIIIUSFUaAnhBBCVBgFekIIIUSFUaAnhBBCVBgFekIIIUSFUaAnhBBCVBgFekIIIUSFUaAnhBBCVBj9qA35LsR+iMONR8/lMZJb8unqoEbZ4vIYId8G/ajN16FAT74LLwPfoliv8fIYyS0VrC3xYNM8eYyQb4MC/dehQE++C8pAr6Wpjj8H28tTSU4at/o0BXqSJ1Cg/zoU6Ml3QRnof+tUG38PbSVPJTmp6uCV0FDXpkBPvjkK9F+HOuMRQgghKowCPSGEEKLCKNATQgghKowCPVFJT7y8ceLYhaTh1ImLuHPbU577dSqWaSKGnPbhQxz27nLA9Wtu8hRCCMk6CvREJV0454TZ05fiyKHTYti98yh+6jUC82cvl5fIHcsWb8Dli9flsaxZOH8ldm4/jPfvo+QphBCSdRToicoqW64E1m9eJIZtu/7BOvaXB87Xfm/kJRTi4uKR1odP4uMT5FcZS0xMREJCyuUf3H+MN/6B8pgC3xbfZlr4evgy/H1durVBc/sf5DmK/eHzU5Pa9pXSO0ZCiGqjQE/+MywtzRUv1NTEH97Sbt+qHxrV/R/q2LbHujU7xXTu1Ut/9O7+G6raNEfr5n2wbvUOTP9jkTz3o9evA9CzyzBs33IAtW3boXpFe6xdtV3MW/zXWri73sOqf7diz86jYtrJ4xdh36QXqlVogQ6t+8Pj9gMxPeRtGDq1HYBD+0+iRuVWYls3rt/GhrW7xPp8fV5h0M/j0cCuI2pXb4uxI2ci8t178V4e/P+ctwJ21dqy/W2BSePnJ1VQPB944cduv4rtNajdCYcOnBLTCSH/HRToicoKCAjGts0HxMCD+IC+4zBi9AAR8HnL9/dx8zBq7CA4uzpg575/sZoFZO/nL8R7+bzCFma4ff8Mlq+agy0b97EWdpCYl1w8aynfu/sIN2944KrLYezYuwKrV26Hu9s9DB7aG5WqlMdPP3dF+44tcNfDE9Mm/4Xps8bgzsPz+LFPJ4z6dTpiYmKRwFrjvF/B0SNnsXXnMowcMxDVbCuiZ++O+PGnzli2eD2sixcR+3rRaT9evvDHkcNnxD6sXL4FN108cPLcdrEPz576YuO6XXj/PhpDB05Cw8Z14OF5jh3HXPz952o89Hwq3kcI+W+gQE9UViwLoC9f+Inh9as30NPTES3qoMC3Yv7GbYvRtHl9vH0bivCwd6yhr4Z3EZEIZBUE3tKeOmMUtHW0UaZsCfTu+z/xnrTMnDsOuro6qFLVBqVKWyPgTRCMjAygra0FQ8N8yGegL4J4py6tUK9BTXFToVvPdtDX08Vtt/vyWoAFiyajSrUKKGRmCh22bUNDAzH8NmoARo8bhOioGPi/DoSGhrrYV347/vDBU6JiYGZeEAVMjDF7/gRUqFQOVx1dxPigIT+KY6vK1suP99wZR3lrhJD/Agr0RGUVs7bCFBas+cAD8f4j66Cvr4utm/dDXV0dF8874Yc6ndG/zxjs3H5IfhcQGhou/hrnNxR/ucKFC8mvUmdikl9+BWhparIALI8k89L3NY4dPQf7xr2SBt6zPiLinbxEyvUk5/fKH53aDEDHtgOwiLXKIyMVt+1jYz+Iikthi4/7Z1OhNH5oaCda/b6+fmjZpFfSwHvwx8Z8kJckhPwXUKAn/xm8xc1bvbwX+5XLLjiw9wQcTm0Rw+J/ZkBTS1Msx2/Z8xZwcFCIGOfCwz8G49Tw5TNSwNQYXbu1xYWr+5KG5avnoE69GvISqXsfGYWRw6dh7p+/47zjHtG5kN9l4PgdA/18eggLixDjHH9scPa0o2jNlylTIsX2Nm1fgt59O8tLEkL+CyjQE5UVFRUtnkfzgT9H553aLl1wRtt2zcQ8DU0NaGlpid7qvLMdD6j8WbmxsSF+aFRbfDSO91b39w/EhnW75bVmjTqrAPAWO99Gy9aNcfLERfEsnuN3FPr9OJptI06MpyU+IUHsh56+rhh3unoTzk5uYp38zgRf79qV28Ux8U59M6cuEY8fGjWpi+fPfHHuzBXxvqdPfDCw7zg8evRMjBNC/hso0BOVZGCYTzx3HzF0ihjGjJgpOsytXDsPNe2qolnzBqhuWwktGvVEs4Y9EMmCfLsOzTFh9Bzxfv6cm3+8rV7N9ujacbB49q6m/nmrXZNVFiwszOQxhYIFTaCrpyNe8yC8fu0ubN9yEE2b1Uffn7ui/09jUMe2HebPWYEtO5eJ5dXZuvl6kt8ZKGCSH/lYa51XPKbMGIkBP41Fo3pdsHvHEQwb0RdbNu4VH9+bPOU3GOc3Ep8eaNm0F2xrVBId+AoVMsGylbOxZNE6sb1e3YZjxJgBYj8IIf8d9Ot15LuQU79ex1vBvFWvJd+256cDD7ZXHW+gavWK0GAtZh1dHaz4Z7NoJc//a5JY7mvwj77xjoL8lntmbvkr8ef5vBXPH0Fwyn1Vio6OEePK+Up8OX63gm+P3wHILPr1OpJX0K/XfR1q0ZP/NH19vaQgzykD546tBzFp/DzcZy1mhyNnRSv6f11bi3lfi98F4L3wsxLkOf48PnkQ//T9enq6nwV5ji/H73BkJcgTQlQHnfmEpGLh4ikoVbq4CPi33e9j+57l4pY/IYR8byjQE5KK/AWMMW7iEPy7ei7mzJ+AsuVKynMIIeT7QoGeEEIIUWEU6AkhhBAVRr3uyXdB2eueq1xC/nEakqPueQeggrUl9bon3xz1uv861KIn3wX+tbJlrMzFwL/B9XsagsNjEBmdmOq8vDzwtC5uXlDOAULI94pa9ITksKbjFqJlzUr4vVdbeQohJCsuUIv+q1CLnpAc9OiFPy55PMLa45fFl90QQkhuo0BPSA5ac+yS+Ov9Jhhnbn38OVpCCMktFOgJySFRMbHYesZJHvsY9AkhJDdRoCckh+y5dANh76PlMeDEjTvi0wOEEJKbKNATkkPWHLss/vIfxuESEiWsO+4oXhNCSG6hQE9IDnDz8oHrY2/81Lwu+K/b1q9YGnblS2DjqSvi9+UJISS3UKAnJAe4P/HF9RVTsW3yLzg6ZxSWDu8FlxXTMH9gV9x4+FxeihBCch4FekJywOC2jVDbppR43bp2FdQqX1L8XOzPrRqgfqUyYjohhOQGCvSE5LAxq3ZhLfW4J4R8IxToCclhq45exHGXO/IYIYTkLgr0hBBCiAqjQE8IIYSoMAr0hOSw0V3s0bmBrTxGCCG5iwI9ITls4S/dMaB1Q3mMEEJyFwV6QgghRIVRoCckh3WZsQJzdzjIY4QQkrso0BOSw467eNC34RFCvhkK9ITkMG1NTWhpashjhBCSuyjQE5LD3p1Yg0OzRshjhBCSuyjQE5LDCnQYjq4zV8hjhBCSu9QkRn6dqitnT+PWtasYOGoc8puYyFMJyV4bTjhiwe4T4vXlJb+jqJmpeL1o7yms+eR74id0b42hHZqI1w99X6PdlGXitZJNMQscnz9GHgNaTFiE5/5B8pjC2b/Go5SlmXj9z8GzWH74vHitNOp/LTCSDdyz14Gwn/i3eK3E38vXodR28lI8eukvjykcnzcaNtaWMG4/DCUtzBARFS3PURjGjmE8OxbuZeBbNB67ULxWKlrIBJeXTpLHgM7Tl+Pu81fymMKhWb+haqli4vXGk1cwf9dx8VppYOsf8Efv9uJ1QEg46o2cJ14rmRcwgvO/U+UxoMfsVXD18pHHFPZMHSp+lIfbfs4ZM7ceEa+VTv85FmWKFJbHCMl+F044wOPmDQydMBn5DAzkqSSzqEVP8oSw91EiGPNBXe1jsdTT1kJ+A/0Ugy6bpqShrv7ZfEN9XXmugpG+3mfL8Pcp8fV9Oj+jbRh9sg2+zU+XUW4j/NhqVmlo/tl8Xa2P2+DH/Ol8o3x68lwFQ720t8HpaGl+Nl9PR1uey7ahrvbZfJ42yaV2HJoaH/sXJN+GMr9i4+LluYSQvIha9CRP+HvfKUxYuw/XWeuyTgXFz7uSvO11cCheBYWicskiKSoUhGQ3atF/HWrRE0K+iGXBArCzKUlBnpA8jgI9yRN6N6sL5+VTUKmElTyFEEJIdqBAT/IEC9P8qFuxNAz0Uj77JnnX9QdPxSOXt+GR8hRCSF5EgZ4Q8kXOut4X/Sr8Q8LkKYSQvIgCPckT3Lx8sGT/abwJCZenEEIIyQ4U6EmecMnjIcat2QufN8HyFEIIIdmBAj0hhBCiwijQE0K+SL2KpTGuW0sUNDaUpxBC8iIK9ISQL9KiZiX8PbQnCpsYy1MIIXkRBXqSJ9QsWwJjutjDwpSCBiGEZCcK9CRPaFytPJYM7wVr84LyFJLXhUdGwTcgGHHx9F33hORlFOgJIV9k2cGzKP7jBDx++UaeQgjJiyjQkzwhMjoGr4JC8IF+CY0QQrIVBXqSJ/DfnC/acxzcn/jKUwghhGQHCvSEEEKICqNATwj5IvkN9FHMzATampryFEJIXkSBnhDyRUZ1sYfv7sUoW7SwPIUQkhepSYz8OlVXzp7GrWtXMXDUOOQ3MZGnZs7cHQ74a88p8E2oqanJU79//HgqFreCy8pp8pS8Y+yq3dhw8sp3l+Yf4uNFRzw9HW1oqH8/9U9lOm8Y3x/dG9vJU7Pml8WbsefSTXmM5DRlnu2eOhRt61SVp+YN/EedyvadpJLXTH48pxeORb2KZeSpmXfhhAM8bt7A0AmTkc/AQJ5KMitHA/3UTQcxb+dxWJsbo4yVqTz1+3fe/TkqWlvi/qZ58pSP6tnVhjMrkN/KsGVbsebYZVQrXRgFjfTlqSSn8LLA7Zj8C3o3ryteZ9VPC9Zhx/nraFCpGHS16TZ4TlPm2eFZI9Cpga14nVe8Dg6FVY+x4nVz25LirypQprnj0kloWKWceJ0VFOi/Tq4E+rvrf0XZoqrzRSiVB62AtoZOikA/f+5cGBvnx9rVqzFi9Cj4+vhi7vzPKwI5TRnoX+2dgILGFOhzmoPzI3SfvTdbAn2YwxQK9Llg98W76P/X4Twd6Id3tMOSYa3lqd+/lUduYNya0xTovxF6Rp9N+g8cCH9/f0RFReHhA08MGTZUnkMIIYR8OxTos4mRkRFuuLhg4aJFuO3ujnz58slzCCGEkG+HAn020dPTE0G+S7euWLr8HxH4cwp9exwhOYvOMaJK8lygT0hIwPv30YiPT5CnKCQmJorp/G9WffgQh9jYD/JYzlBXV4dtDcXzvmrVq0MzBz5bzH88ZMaWwzDvMhIrj1wQPVlzSlRUNOLSuNjxeZ/mT2r4cjw/v4Yy3/mx8m2+j4xKMeRkGqgKXvZ5XuQGnh+f5lFmykpeEcHK2uDFm1G051gccXKXp35feF5/yOHrHfm+5LlAf9vtPuyqtcHCeSvkKQpv/APF9NDQcHlK5m1YuwvT/1gkj32f7jx7gVrDZmP2dgeEsYvRb//uQLPxf8HnTbC8RPZq3bwPzpy6LI+l9L/2g3DjesYXwa4df4G76z157Mso850H/KuON2BXvW2KoXqllti8YS8F/HT07TUS9Wp1REREpDwl58SxSvWneVStQguMGzVbVNjysvNuD1BxwBTx8dTAsHfoPONf9J63FiG5kG7Z5bXfG9Sq2gYjf50uTyEkD9+637/vBO7dfSSP/XfFsxbxrK1HRJD39H2NGX07IuTICgxr3wSXPR6h8sCpWONwKVcD3aKl01CpSnl5LHfp6enCw/OcGFzvnsKceROwZNE63LvzUF6CJPf0iTeePfVFoUImOHvaUZ6a87btXi7yyP3+Gew+sAp3bj/Ats375bl5yzvWAh66dCtaTPwbfm9D5akKuy66wKb/H3Bwvi1PyduOHDqD0mWK49rVW3j7ybGQ/648Gei1tbXwc/9umDltcZq3/SLfvcealdvxS/+JmDVtCXy8X8pzgPDwd+LiP2TARKxesY2tI+Ut6IsXrmEUq/EOGzyZtVod82xr8O6zl7AbPhsztx2FjbUFbqychpn9OqGAYT6sGt0X5xZNgKmRAYb9sw0tJiwSvw2eG3hrPjQkTNzaX/TnahZMfPDHxD8x/JfJuHTBWV4qJX7RWfzXWrEs5+zkirEjZ2LooElwOHI2xSOZE8cuiLyZNH4+Xrx4LU9V4N8hoqWlKQYe9Nt3aoECBYyTluPlYv2aXSLvRwybiovnncR0jufz4YOnxTan/P6nqEiu+nerPFc18eNtbv8D2rZrJtI5uWNHzsHt1l38s2QjtmzaJ9Lj0IFTOHXiokh77uYND0wYM0ek51/zV4lzKygoROT7u3cfW7o3XG5jx7ZD8higqaEh8khHRxuVWaWwpl1VvJTziOfDyeMX8dvQqSKf+R03/nhNyYNVCsaOnCXm8+3z8zwo8K08N3tdcPdkrfipWHtccfcqtUtBEDvmjtOWi49BhrLylVfxc+jIodMYNXYgihazxCmWxsn9vXCNOP8mjp2Lux6eOLT/JG673xfn5a4dh8Xt/r27HESe/DrkDxxkjS2+Tn6uJs9bbsfWgyJvyPchz7boh/7WVzzf280K4Kf4c99fh07BHVZY+w3oBhPT/Ojd4ze8eukvLiJjfpshLhbde3VgF6YI7Nr+cR28cE8evwCNmtSFfatG+HPeClELzkt4K37OdgfUHDYL956/wrQ+7eG6egaql7GWl1BoZlsB9zayi3C7xrhw+yFr3U8Trf6cdoBdAPxevREXgS0b92H0b9NR/4daqF3HFmNGzGCtN095SQV+kf6592hx0S9V2lq0LEcOn4badW3Rtn0zrFy+Bdu3HBTLHj18Rjxmadm6EexqV8OcGcvEdKXERAm+vn5i4Bet5Us3Qputt1GTOmL+7BlL2QXotig/PH8nT/gTt+QLEr+I/Tl3hdhmNdtKGD96Npt2VMxTRbwixoN5h072aNmmiQjqPN+ULl10xu/j5sHX5yWKFy+KJ17eWPHPJmxavxc2Fcrg4YMn4oLfsFEdDPn1J/iw5fjypux845WByxevy2sCNq3bjbBkj9XevAkUeeT9/IWouF29cgPderYT83geL2HBpUev9ujXv6sI+soKF9+H/n3GoEzZEmjfsQWW/r0O61bv+KJHdhlZe+wSmrMK8qvgEHlK6pTBn3/XAW/dH8ujrXuev5HsmtmgYW20atP4s4odP1d5A8e8cCEYs8rxubNXMWH0HPF4rJi1FdaydN63xwEDBvVAl+5tRZ4cYRXFfPn0sWjBqqSKHa/s8Ype/vw51+GYZK88++0curo6mDF7LEb+Ok1csJNzZQWat+BPntvBCqGeCDLez19i984j6NyltQjyZy7tFrcrmzavj4eeT8X7eCVgzartWLBoEpveQEwz5K1jVqA7d2klxjODr8eHtZ55Kzq78d9l58E6IioGFYtbYtvvg2Fbtrg893OG+npYM6YfuvxQAwP/3owrd73kObln7MQhaNqsvnjteNkFd+94omr1CmI8gKXTjKmLRbAZyoIFxy8oU2eOQqf/KdLczLwga2EvFJW2nazlMGbCL0nzeBN+2uS/FK+ZmJhYDOo3TrxOTEjE25Aw1G9Qk1X+FHcEqlSrIPLc0tIc1Vkw37PzKJ6zYFOLVRp2bj+E36f8KgIIxzuprWf7oqr47Vt1DXVWoaouOovyi/lxh3MYMlyRD1zFyuWw+J8ZLJnVRGs+IT4BG7cthpGRATwfeGHmnHGiYsR1ZRf/haxVz9fVtn1znDtzRaQlv/C7XHdneTpaLMfNn71cVMB4kIyIeAczM1NR0eNMTPJj3l+TWMWwuhhv1qKBCPAcr0Ty8WGsosbx29AdWv8sXme30673xV9lIM+MgNAIdGCtewsTY/Ed/1oaGvKc7BEb9/HORlbx1nzrtk3EHdFWrGK3dtUOPH/2AiVLFZOXYA0odg4qyz9Xo1YV/Pn3HyL/Q9+GY97CSShvU1rM4310+LnTuWtrWLDziVfs+HsvXbiG0qwiVrac6nxzn6rLsy16rm79GmjGAvIC1gpLjj+PLVeulAjyStVtK4pbj7wFUYhdVHiQ53gBrlLVRrwOYUGBt2i2bNovbkXygddynz31EcE7K6Jj4+D62Dvbh7usBR8ZHSu2Ub6oBYoXztw3CpZjy1qylta3oLwwcDxP+B0JpRlT/ob/6wBYFVH88Am/RfuIVbz27zmelAe8osWXiWaVHG9WgeOtSSVl3inp6+vi3OU9YrhwdR/OXtyFt2/DREud40F/zYpt6NNjBOyb9MKjh4pKHscvejbJ9vXTdasafuHnF31e0ZrGO6OyMu7AWvjJy3rFSmXFOaLEKwM8yHM8HwIDg8WtXB5sZ01fKqZz/ILPO0fyDnb8ws8rWPx2sdLyVXNFHp133AOnG0fE3Ru+Hn4XiFe6eCVkIKuw8U6f/LaxkjfLo+Tlid8BMjDIe99JERAWAXcv31TP4a8Z7jz7+AgyK3g+8MeQz5/6YiqrGPP+EBqskvdpq74Sq9glV7FSuaT8r/dDTRzYe0LcfWvZ9EdcvqC4Y8Pn8/zmFTuO35Hr1LmleE2+D3k60HMTJw8Xz4IcL7nIU1hrX08XMbGKYKjEW2f6rHVrZGyIGBYwkuOtFE5Drn0PHNxTtBr5MJW1LPceWiOmZxYv+DbFLBDqsCrbh/cn18Jv31J0qFsNB6+6iV7AGXUE2nDCEZUHTcWNR8/FfuW25D9CkzxocEN/7Ytps8aIyloIC8jK+b37/i8pDyZP/Q0HHdZDS0sLRoYGKfIv+bP71PC7Abwy+PyZr2hZ9v9pLIqwSs+seeNx/PRWVK1eUV4SMGZlIzom8+v+noWGhIsA3MK+obi7wYc2rGXO74Q9uP/xro+aWspLgFqyvOQVMP6cl9/K3bJjGeaz1p4Sb82VKFkMTlduZHjh55WNLt3aIDgoRPT8nzBmLl74+mH0uMHYd3gNW39PeUnAkFUyPv0obGJiznw8r4yVmfibssSmT5OlD+8QG3NqHSKOr071HP6a4eFmRd+IrOJ5wNOOV6JEflsVFn0zjjucT1HO+d2Y5NTVFUfPK38D2LnDTZ42AoePbxR3B5TasUDvdOUmAgOCcdPFQ9zRId+PPB/o+fP3iZOHYeni9fIUoHGTuqIXL3+GyPHbuQf3n0STpvVQjV3Y+edIeYuBC2M1b2VvY/5MqVz5Unj50l+0GvjAn/PzTiqfBqhvqbCJMY7OHYVtkwYjNi5edATqm0pHoJeBb9Hq98UYvGQLjPPp48zCcWhUNevfI52TqlWvIB6L8JYZ7w/BO2jxjlm+Pq+S8oC3tGdOWwJNTQ3xGIY/w1Xav+eY/Cp1/MLDb0dXZS1K/qyRB5OfB3QX2wt+G4pnTxS3hLl6rLV/NFl/jIzW/T07cfwCrIsXwfhJQzF8RD8xjBg9ALY1Kn3WyksL72vBgwUPHgVYmVSeU0q8lcf7vPCPULZs3Vie+jneV2Db5gMoXqKouFtw744n/te1teikp62tzQLHx4osz38enJSd8/jz/aiolBX37LJgUDf8OairKHeZUamEFW6tniE6xGrlsd/g53dveJoq85oPk6eNFHfKMvMRV343jfd56d23s7hG8jzj10Yla2srlLMphdnTl6JOXVtxXSbfjzwf6LmOrLVQqdLHAMZbbON/Hypu/fEOVZ3bDUSpUtb4H2s18OeA02ePFdN571LesaeQ+cdfzps+e4zowMV7iPOORrzH71jWqsyLfmpRDw82zUO7OlWx/fx1VBo4FcevKzqWbTx5RYyfcb2Pga1/wP2Nc2Ffs5KYl134bfe6NdqnGL7ki4d4JYr3t+DP/Phzvj9Yi2H71oPiExO8Ux7v2DNh0jCx7MixA0UfC563vw2ZktS/Qolf9Js06CaGRvW6wL7pj+KxwIgxA0Vg449w+vYeLW5VDx04SbQ6Dx84JToE8r4EVxxviO3ynvc3WMtEVR0+eArtOjT/rALbqm1TnGSVgLS+DCm5Dp3tsWHdblEO+rE0ffMmSFSk+LN8jj+7v+bkioaN68DAMOXt9eFDJos8aly/qyg3/LHa38umixZl565txOOEmWz4sfuv0NPXE3nOn/PzvhxFi1qix/+Git7+K/7ZLG5B5wR+J+r3Xm3hsXYWaqbRD4anngZr9fIOse5rZqJa6Y/Pu/MK/mkG15t3RH4nxx9f1mKV6sxU7PjdUP5cn5+PvDMs/+6FwhZm7Hx1htdjxS/PdehoLzpwdvwf3bb/3uS5X6/jrXH+HJ33uk2O35YNYBeakiygK2vgr1ltlbfsrawKo3JVmxQXNf7FEe5u98V6zMwKilv9FqzgcvwjWM7XXMVr3rM7fwFj8TqzUvv1upy29YwTRq/cJb4sh194EhIlFClYAOvH9Ucru8ryUtn363X8s9epfasd7xzl4/0K5uYF2QVaV7QCeDDlLXWOp7uurq6o8fP+EmbmhZL6UvDbtTzv+G1Fns/Xr7mJj0/WqFUZBQt+LFv8Yz5Xr9wUQaFBQzuxHp6P/FMYfmz9yZmyNEj+Xn5358plF/HeuvVriufS7m73YFenuqgE8pYLf7bMW5K8uPBHCqcv7JTfnXV58dfr+K1ani9WRSxS9GPh+PHzwFCcVYr4HQ+eJqamBcQ8fvfrXURkimftD+4/FvnN05/frucBm/fC5h28+KWjRaOe4jEJb4lzfNvKjnVKPIjwynny89PF2Q0hIeGoxipm/LzkH9nk5zZ/FMPXyz+uxx/11K1XAw1qdxJ5lHy/vkZqv17HO3P+tfckpm85kqKPScXiVtj2+6B0O8Rmpy/59Tr+OCQwIIidmymvmRyv4PJzjVeCecDm+c47SXL8Osvzht+t4fj5fuXyDVaZjxWt9nwG+UTli98tE3diWN4PGfg7LjvtT1pHZtGv131b9DO1X+BbBHrOLygUvyzZgpM32YWqZQMsHd4LxgYpgzn9TG3aeAuR99OYs2CiuKiN/m0Gaz1aYMqMUfISWfdf/Zla/r0I/GOLyxZvwMlz2z979vul+Of+N63fjS07l4ne+ZvW7xF3EI6f2frZ3Ykvld7P1D7w8UO/P9fD49lLTOrVBtN/6ghtuRKbG/Lqz9TyRtW/SzeJijW/m5pVFOi/re/i1j1RsCpUACcWjMGDjXOxaeLAz4I8Sd+osYPEHYH6dh3RuF4XFC9RRDwqIFnHb6n//ecaTJk+MtuCPKf8jgPeG59/9TH/KO3yVXOyLchnhLfgXVZOgyerxM8d0CVXg3xe9lOPEeITMf0H9ZCnkO8JBfrvUAV2MSJZx28fb9+9HDfcj8OFDZOm/AZDQ2odfAne5+L8lb34oVFteUr24D3058yfgJu3T+Cmx0msXr9AdKzMTfxb/fhn5MlH/KOsew6sSnrMQ74vFOjJf05utQ7J16F8IiR7UKAnhBBCVFiudMbr3MAGZYuoTme8hXuuoqK1Za53xssMZWe8QW1qwNSInuHnNIfrj/DQNyhbOuON+l/d76Yz3vds76V78AkIS7Uz3rem7IzH/d7zB/FXFax2uImIqFjqjPeN5EqgV0V5PdCT3JUdgZ7krrwe6FURBfpvI0cDfXD4O7yN+PhTlqpER0sr099Dn5sCQsIR9j5KHiO5hf/OAP+BoS/xhuVZOOVZrrMqWAAGerryWN7AP8//9HWAPKZ6ipmZQi+Ln8HnKNB/nRwN9IQQQsjXokD/dagzHiGEEKLCKNATQgghKowCPSGEEKLCKNATQgghKowCPSGEEKLCKNATQgghKowCPSGEEKLCKNATQgghKowCPSGEEKLCKNATQgghKowCPSGEEKLCKNATQgghKizTP2pT0Nwc+QvQj9oQQgjJXU8fPRR/6UdtvkyGgf7q+bO45XQFfDE1NTV5KiGEEJI7lPFn6PhJ0KdAn2UZBnpCCCGEfL/oGT0hhBCiwijQE0IIISqMAj0hhBCiwijQE0IIISqMAj0hhBCiwijQE0IIISqMAj0hhBCiwijQE0IIISqMAj0hhBCiwijQE0IIISqMAj0hhBCiwijQE0IIISqMAj0hhBCiwijQE0IIISqMAj0hhBCiwijQE0IIISqMAj0hhBCiwijQE0IIISqMAj0hhBCiwijQE0IIISqMAj0hhBCiwijQE0IIISpMYyYjv05dYghOXrmArZ6PcPHJ40+GJ3iuaYlCAdew+OY9XA7VQROr/PIb85IEPLxzDsvdPT8/Bt/3KGxtgULpVXniQuF85zo2ut7CztseOP3cDy/j86FkQUPoqcnLfK2El3CYMxFLdt+Bmm19lDX6wjpYYhguLh6P/RG1UL90Pnnit5AA38OzMe2cFtrULoKwC0swcd87tG5QWp6vgjJI+8TAM1g04RCiatdFKf3sKjjfs8Tvp1wk+OLIrCk4r90UdsW05IkqKKMyHHYBS8ftx7ta9VAq3zcuw19zrcul62S653wuXqszjiZSDHxfPYezj3eqw/2IOESGvhKvr7+JkN+U10gICkx9/6+/CEKIJC+WmoQg7D+5D9Nc7uHKS388CwnGo1de2Od4CGOdfBCR3nuzIDHoMg4e9kOQzz4cuvyWXQK/VAxeul2Cq2+UPP6tSHj3zAWOHq/Za3WoaepAT0dTMUtVqatBU0cPOnIciD09DvWazcaND4pxKdoHrpfc8DJGMf5flDJNvqNyIUXgucsl3PGLkyeoqAzKsLqaJnT0daCZJ+qpWbjWxZzBBLtmmOuSdCApjjOnpHvO59I+cFloNqrBvGR9/NGiFaYmDS3Rt1g+FC5RG6MbNsHIKlbysnmNhLiEBPa/Nqrb2ifbfzY0roJy6aRCpI8bdvnFQFLLh7r1u2PfgJ8xp6IJNFmL9cVDN5yPzJ5IH+HsBM9SbTCkWRHcu+qMd/J0VWHc6DcsHNNMHlNVxmg4YhFGNSukGE2Mw4cPrNxlU2VQJXySJv+NcvE9yaAMGzfCr4tGo2m6t0DzogTEfYhDwscDSXmc30Tu7UPGt+6ld3C97wnPWDWYlazHgrk1SpkWRAkxmMJCTx3R74LwLJIlopYRbEz05TfGwsf7AY49egwnv2CEsCAb5++Bze7PEGlaBEbBD3HG2w+PonVQtoAe1KX3uO/liSt+bxCsaYqi0hucffQMHgFR0DM1Qsyru9h7LwDaloVhxspYdJgPTt27i7NsHU8jYqFvlB8maVYzE+Dl5YZrYSzQV2+GPiVNYKqbD0UKWaCcqSHSvgMlITTkNR6/i0GcYQWMaWSDolq6KKwZgjNeAXgvqaFIiSqwM/zaQv8eV9YtxJ3SwzChYTj2b3qKkr1bopS2PDtVkXjqeBRHHM7h1gvAonQRGPKGkRSJO4e24Unx3uhWU/EY5UPgbZzasw8nrz1CWD5rlDBj6S3mcGw9F/dj7+ELcPOOhnExa5Y2ygRJb15qIvDk4kEcOOWOYF1L5Ht2BIeDbDGsY0XEvnTFlccfUEL5aOdDEDxO7MX+E054FGYA65JmYEUpyftnjjh64Cgu3PJFfMGCiHTajZ0emrCtWACvXR3h9aEwCktPcZm9P9CkLIoYsDenuc4o+Ny8gqfxpkjwdMCe/RfxIEgTZiXYPkY+xvn9e3DM8SGiTMuihMmn1etEhHtdh8srbRQtbCDSLTHYE1ddXkOnWGHwzSLhNTwu3WfluiDe37/C9s0M+m9u4qrTJZy78wFWxXURHqqJwgZPcXSHN0r3aQy1S7uw97QbgvRKokxhPVaNTkMG6cQSClcOH4DD+VvwjS8I03dO2LPjDjRrVIS5hlgAzx2P4MDRc3DzjYdpwUhc27UDdzVroFTcbZEn5oUlPLt0Ak6BJihfxIC952PZuumTCPNSRWGcPFky2maq+5yI0EfXPksTk8SncE5eLpTbPsbKnE80DIsVh6mOYk6UD0vTJ/Ew0/LG6Z17ccYtEHoly8A8vednaaVflA9uXXmCeHNt+JxMIy8inuDSwX044x4MXct8eHbkIIJtB6FDRXmHPpPGOakU+RRXjhzG8Qtu8I0yQrESplCsKavlMxYvxTlQEGrPzuDA4ct4GlcIJYvlR/JsinziCIfDx3DR1RfRRkVRXJmQQlrntnLdqZdhC9N3uOv4GB8KWyG/vLE0t5OZNE5GeY3IdHnM5LWOFTw4X3WC45m7iC1SHDrhodC0LIh3dxTXEaukA8kof8yh5X0Ku/echlugHkqWLfzx0S1772WWT0fOu8InOj+KWbP3snlSuBsOpnnOK9Oa70NiJvP0Eg7uOYILrt6Izm8Na5bWqaXlp7IU6AtYVkR7lvDJrzP8Quhz/wxm33wEt9iC+KmcObvwvcXR0/sw3dULHsGhePHGB5ce3cVJn2C8k7RQxLoMdJ6cxHy3J3CPL4zuZQpBUwrB0fMnsdnrBcJNqqCZhifmnnPBhVdR0FZ/hjWX7+BGkBoqVS0L01eOGHfMEadevsGjgNe47fsEp59FwKpEKZTgqfuZWDx8dBsuEYCOxPbtylmscnNjFQcvPEk0QXUL4zSetavBwKQ4WlSohm42RWAqlomHl6cLDvpHQVI3ReMaFVAx1W1mQewtbF1wFgV7j0ebmom4u3k3XlftjabWadzSTPDDycm9MXLHKxhbGSDg9DIsPquLRu2rsn1MWfgj3VZicJ+5cFErisJqT3Fk0d+4bNAEbSqbsHx8D9e/emHAxtcws86PiJtbsWiNBwo1a4HyxtHpzEtZAoTEYFye8xOGrX0GQzPAc98GODwMRLBRA/za0QbBh8ej96YEDOtRk5VWd6wa0AfzXVhFqbA6nh36C0suGaBxu8oowAJC4Okp+PHXvQgrURlF429j06Q/sONZAdjUrIXaZdVwbHwvbA4xwZ35E7DlQTxKNGyFqroeaa9Teo39o3tizs7TOH83FmZWWvDcORerzz+E0849uBdfCCaRl/HvEjcU7WqP0ikKgxqiL85G73/eokV3O5jw/TswFt3Gn4FB2+6wM1VH/MMNGDrkAor0q4uHU3thS0IH2AXuwNoTd+HzJgTv3r7Es3BzNKgcgVPbHfHg1glc8NGBpd5DbJ/vAKllZ1QvkEqapptOLMkDz2Ba9+HYF14SlYom4PbGyZi67TkKVKiBWnXKo5BaIM7+0QO/7QlDicpFEX97I6ZM3o7nBWxQw84Opk6/o/fGEBTwWIDfN3kivmRDtK4UK8rWb1u8YWCmiSeHl2Klox4adagGdqgZbzM6rX2ugIjTKz5Jk0KoGLwWgzfL5SJ5uS5ihHCXLfh7w31YNGmGssYSXu8dg94sva4evwAfHQvoPtyKPx0A+862Ij0+k076Gb3Zi7E9F+C44/FU8yIx+BLm9fkFG54ZopDkiYPrj+Bh4FsYNRiceqBP75xk+5bgdwJTfxyBna+MYGUUhhubF2HjAws0aVYORlktnzpvcWR8d8w74IiLt95CVycIl1YvwdF3VdGqbhEWnBLw+sQf6PPbTvgZWcEozAVbFm3Ag8JN0bScUfrnvSFfdzpluPx9zOq1GQmdu6BGfpYn6WxHep1+GqeUqLhGZKU8ZvJa19LwBlatPoF7Pm8Q8u4tXj0Nh3mD8rg/40d2nJ3FezOTPwuPXsHJ897QsdDHo63zcVxqiY62BaD+/hb+7tkfm/wLoVj+CNzcshBrb5uhqb0NDCNYoN+WxjlvrExrtg+2cRnkKatf3/oLfX7eBP9C1jCOuIltf67BHbNmaG5j/ElMToWUkXg/adWOf6QmK5dJzdeuljpvWisPW6Ql3nF8AcnTeZvUjM1vcfSOeMv7p6ekjmy82eYT0oX3idKHUHdpzLplUpPVe6SdbxPYEnGSm+NG8R77E55SNH9Tgr+0bhffznJp7N1I6cPrK9JPq9h72DJNVv4jtd91RFpwyV3yeO8jLdnGl1sljXTxlp6/fSHtcFgrNWXL9L7yUorl6/pUYoR08MhyeV3sONatkdqtVq57tTT+bgg7isxIkF57nZH6ivf+I3U5/VAKSpRnfYVY9wVSy8oDpf0hbCQhSNrXv7LUfK5r6sfCvL/8h9Swaj9p1wt5r8MuSFPb/yRteMjyg6Xjlp4VpG5rfNiMeOnlyYXS3O0PpCixYIIUtKufVNX+L+kuz7qYS9LkOo2kWc4xYq6UEChdP3xa8nqfwbxUxLrOk1rYdJD+eSAvH/NE2tSrsmTTfy8bSZD8N/eUKv9vjZgV/+KUtGj2DslTsVNs1buk/pVaSn/fYTsV5ykta1tZ6rXOm5USLl7yXddDqtZ9veTLD1ccX1nJtkYjqfdydylcLJPBOuN9pHX/Kyc1nXBWCpCTLHzfQKlS1Z+lHd5yKsdel2Y1qi1NuhAjfZql8b7rpB6V+0t7g/lYpHRqVD2pVvUa0uC9IsOkwO19peq9tkh+ccnTniXBiRFSjQbTpetyksT7rJG6la0j/brfWxKT4l9I67tUlPrtCBLzP5XuMbHUebiknVSVpYu3fEzxvuulXpV7SBtEQvGkXCp1rMTGPy4gbejO09aXpaoiT2yq1JSa9vxXuh2mWISXrR8q95I2P1OkfsLLHVL/yrWk8affsbGMt5n+Pn+aJinLxWflOsFP2jvAVmow4SIbiZd81nSRbGoPkw56KxI0/sU6qXuFn6RdqSdfuvuSfl7ESq5zm0qV2y+VPOW8i/HaKPWpXFYatFdZ4lJK95yU3kuOk+tLNfrtkF4mHdoeaXD1uqy8RbJtZ618Ks8Bu0F7pReKZJXe35wjtSzfQVrxiE14f1maUr+a1H/HS/m6liD57Rko1aozUbrENpfuuZ3i+vF5GU7w3yz1tukirfNha85gO1kr719QHrNyrYs+IY2q+oM0M+mYk783M/lTVqo/dL+kKHrx0ou1XaUqfXZI/JIQc/F3qUHDGR/TKPC6dOSUF1trBmmQfB8yylP27ssT60pNp19XrIcfn/Nh6UxaF+RPZFgRSC4hPhZh0dFJQ1SCPCMFCRHv3oF3j1AzMkc5XTVoGRaENb8tlBgK79CsdjNTg2mJZljdoyMmNa4Om6AnuM6fi2sVQcsK5jDRLwj7skVgyLYb4P8SL1JdvSasLKxhY6yPUhXaYnv/ITjStxM6m/D7jLG4ffc+HibE4bn3fTjcv6sYHjzG/ajkD1dj8fDOCYy98BAvE9VgZFELUxuVQ8GvbMyzVIWvkzP8StdETSM2ql4AtVnL6I3zFTyLVyyR0gc8dHJBuG0b2BcV92YB46aY47ANA8t/egdAA0VaT8SUPhWgFxMIz4sHsNfZH4lhbxHC807DFIUKhODWKUdFZxH1QqjTqSXK8Kcvyea9iP5k3mfi4XXpKvzK2qNtObm1o1MctWwtWcp/nkAaRVth/LTesNGLReADfivKGf4JYXj7lu1UQgDeBBuhlI0F23uxNMxLFIWe/yu8TkoPCdEWnTF1WHXwJOPSXaegDrOyNigoJ5lOPn3oGBZDKQv5+Yh6PhjovGPLf97ZSsPSDjUtH8L9TixLfvb3YTF07V4aT9zvslIRC4/bj2Fdpy7MM3M2qReDbZ1iiluCGvow0E9EWFAwS8HPpX9MCay8B8OodHlYyMekYVYcRXX94eenWFvCG38EG5VC+aQFzFG8mB7evHqdtD0p2gKdpg9FNWM+pihbodXaoX1JRVlSt7RHsyrvcPvWIzaW8TYzzoe0pFKu1S1h36YGIm9eVYwzGsVqoHYxRRnT0M8HfXZNCQpOLfUysS9p5UX8Yzhe9UMZ+/YoqyzOJWqhuvKgP5PBOcnKzDWXCFRv3QpFkg6tJVrVjMRNpweKCVkun5qwrlkblvIpr1+1LZpYPcYVx9dsc064EW6L1q2KyOeQOixbtkaN9zfh9OADO9Z0zvssyHA7YlLmyzuXtfKYXAbXuvRkKn80ULRGHSiKngb0DfRZOAsCL3oaBc2QP/Qmzji+ZFcDnpx10LFVGSQlZ6bTIO085ds0NcuPkFuncOWl2AoK1u0E+0xmWhYCvRqKVemMvT8PwgEx9MWo4vIepaAGE3NzFGZrTgj2wqGnL3DjwT248OCsWQg2BbNUt2B7aIrWNW1gJd4mITIiAmE8/sY9x9/b16HzpnXoceEJeH//xKj3CE4t0KvpobZdB6zsPRjrG5dGYbbbGvrF0IMFE34EibyPQUw0u5BfwrIrysEFjmHyyqT3cLl2CBOvPUdAohZKlG+Ope3qolq6z6szKdEf15wfI853P8Z26Ywunbpi9D5vxHtdg9Or1EqohKCAEBhbFQF/epWh2Bc4v/RXdGrUFqPXOyNUS18+KRnNyhg8bwyKO49Hmx/aYej0jbjsw6N6ynltG34y7zMJeP0qADrFSiSdKOmLxYtzyzCiXSN0GLke10O1kU9ZlLRsYFsxGrfOuSk+0ZAYhhuX3BBvUwVlkh5WaaK8fVuUSVH80llnpkmQpFQKkGZ52FXXwH23x4j1d8N9zepo1rQKdD1vwyf6MTweGKBm3eIf0zWL0u6sl94xaaF8jYqIuXEe7uF8nF08blyCW3x5VJYTSqtCDVSIvokLbopPwySGueCyazzKVS2d9NxP08YercsqV8rLVhBineeiWeUqqMaHqs2wwOUDIsJC2fyMt/nl+ZB6uda3soJJSKA8lhqWZ/Krz2V9X0RexL+GX4AOipZUBrCMZHBOJgYiIMQIlkVTHBmsLE0QEhAgj2dGGuWT0y6JEkXVEPDKD1JgAEKNLSEebyvpW8GiwFsEBrBrSnrnfRZkuJ00pF3es1oeP5HetS49X5o/8nFoVv4Fc8aUwPXxLdG47S+YteESuy4o5qUlvTRIkixP2VZQacg8jC7ujIn2P6Dj4BnYdNEHmc21LAV6DS0d1oLOJw+sZpJGKmoXtkVvaz2oxQfi8PnDmOz0BMG6ZmjbqAnapfZ8N136MBM9njg1aGlqip1W1y+Bfk3tMblZsqFBBZRMb/WJiSwkKalBW1Od/c+oa0JbQwc2ZWuiT41a8lAZNQzZXCkKrtcdMPdOIN6r6bOaWWcsa1oBJZKCztdJDHHGtQeF0GLoBAwdNgxD2DB03FA0N3uIq1eC2KX0cxosDRLjMvMxn0hcm9cfU69aYdiuyzi7exkmtC2N5PUTg+r98e9ZJxxb9hPKBO7BmA59sPIerzGmP+8zbJ1qapmr+EQ6zcfAP67C6rdduHBhF5ZMbINSyn4O6uZo3cceUTt/Qfv2vfBju9aYfLceZvzRQTzrVFCDpnbKDEh3nV9NB9VqV0aQuxt8b91GQAVbVKhkC5ugO3B/fht331VHnUrp9pz8IukfkzrM2/ZBi+idGNqmPfr0aId2E++h3uw/0F6uTKubt0Fv+2jsGtwGnXr1ZK2M33Gv/ixM6lAw6cRX09RK0dlHg40btZyHM1cccUkert5yw7lZjdjcjLf5NfmQWrmWEuIQr/FlVagv3xc1xb8sFJ/0z0kNdt1KRLzcyFWQkBAfD032vuzB91jxl12ooZEQz9rDyUgJiE/QZPupyKcsndtpycR2sipr5TG5j9e64btTv9al7WvzxwDV+q/ESaeTWNy3DAL2jELn3itwP4vJ+blkecoZVEe/VWdw5dRS9C4bgH2jO6Dfv/dYdTZjX5YbGYh6dQs7fKNhWLQOZrZujwWdfsSO3j0xrpwJlJdDdfkskuJiRMstISoMr1PdY7ZcsszSNzNDcbbXiR8+QN+iHFqUs8EPhhG4+sQbd8JiUg2MSAjBZZeTGL59C2Z4himCfVwQTj15A35q6hSyQhVtHVSsUBcDatdTDHa2qGMIvH5wFnM8AhGllg929Tpgjq0F2ORs897lKjx06qBD71awb2mvGFr/iP/VN8S9q04QDacUNGBtXRhhTx/jTVKtJRFvPW/C89NbmLFuOHFeQrtJ49GylOILGRLER0zESyGRVX6gboTi9Xtg3Kpd+KPWM5w64yVuK6U3LyW+T1aIefoIz5NmJiI2JsWZI4uF27HzkNr/jrGtSkLsVWIc4hLlnYp1wT9zXVD73/M4vmEOZqw6hotH56JtWh0ThQzWmQ0M7Gqj7LMb2O3shZK21aCjWw3VSj7Bjd038aJSHdTQkxdMTi63X7YXGR1TLG4snQOXOv/izKn1mDlrFY46HsHsdtbiLpVYwmUp5rnUwT8XTmLN7Jn497gjDs1th7STkuejJWJevcY7owIoUEAe9LShzYaMt5mJfEgzTVIv10GPniLUsrg8nhVfUSY0i6GYVQyePXz2sawnxiLV4ixkcE5qWqNY4TA89XrzsaGRGITHT0NhYW0tT8gqCR9iYj6mY6wnHj0HihQvCg3rYrAIewqvjzvDGq2P8SzEgu2notKU6XM7nTKcme18nYzKYzLJrnX2JUVuf3KtS+dAvjp/EnkbkiVncdTrMQErdk9FrWcncdbr8ytl+tLOU4FtJJGFbMPi9dF9wirsmGKHZyfP4kkmNpMDgT4RoUFBCGAHHuHnjhXXrmLl5VOYfHgvxp66gF3eoawGqA4zQwOWjUC8vytmnDiEIfvPwTHFM/HUaZhUQCdxt8APm487YJnzRUy/cAtOL7zhlaCL/KkdkboONKOD8Oz9Ozg77sWAwwcxfM8BbHzNzlyNguhgV0l+NPApCeHv3uG9ePkers570X71cjRXDmu2YpX/x0KedbFwv3oL8dXqoGaKRy16qNmoFrTcrsIlUp6URBMlW7ZCWa8D2OIUzFIb+PDCAXOGjMb6G59UC9QMYKj7Fo88fBCTEAGfq+swfsEphPECw5I64dV+/NbyZ6zxkL/oKPYN/AIAcytzSOnM+zypNFG6bRtU9NmLFYd9Wf4mItxtHZYe8GEXjk/zVA0GRroIeXgHPjEJiPC5ivVjF+B0qGKfeJHU1noLx8WjMGbmSmzdvAmb95z7vBKTQmrr/DPZOr+eullt1DRzxuHzhqhaowDU1QuiejUDOB6+jqK1ayf1FUiBfxlGbBSieCZlWUbpxPZJWxshl/7GmFGzsHrzFmzetAfnHyR79qeuDa2QS1gychTmrNyCbZs2Yd85T7xNMykVZavckz1YdeKVaKklhN7GxmEt0W+1l1gi/W1mvM9pp8nn5Tox1AVb9nuipH1LxSJZkol9SYtmGbRuWxG+e//FUV+WConhcF+7GId80jrXMzgnNUvBvlU5eO3fhGvi2SK7RrpswgHPUmjRqqxYQ9bFw3PHQuy4zy8Q0fDauQoOoXZoY2/BNtcS9uUe49BGJ7xVJCRubN4Pz1L2aFlWM93z/rNzO50ynNF2vl7G5TFJsmtdbCrXOqjpQk8nFlGpH8hX5E8C/PYNR9t+q3FHvvzGvvFDIMxhmalOO8mlnacs03BgeCsMWOUhHlPz2PGGZ1phS/Fx84xkdU8yQR0mRYqhNM/nxA8IjgjDq7BQ+LwNgIf3fWw4cwo7gwBLmzroZqYD9cQoPHkdCoOS1fCDUbKme1rUjGDfpC0GlsgP9QhfOHjcg/sHYzSo1Q7zallCV14sBdYab9CoC+bYlUYpnQ946f8Kj97FQ79AKfzcuiN+sZJ73GQgUZI+GVj8z+iikZ4Pd+F0MwIV69aF6HuSjGG9RrCNv4mrtz6/zaFZfhD+nFEdrqPt0aJ1SzTrsBDBnRZhamtTeQmZdnX0n9AWb5e3R+0qdug4zQ2V+3VC0aggBLLai0aRlvilZz4c7NcITdq0R6tG/XDMigXYjmbQSmdeaoVGo8wAzJ/dEL5z2qFJo4ZoNf4uStWxZpW5T/NUG9UHjkeb4OXoVKMq6radDvfK/dCxaBSCAlkBl0xhU6scCuQzhaWlEaTw57i+axp6Nu2GZa5pfQNWauvs+3Gd2UGzJGrbGiPGsApsRWuFVW6qVYL2hyKoVbdwqmmiVbkBauI4/mjXHp3H7sPrVK4xacsgnRgTm1ooa2IAU0sLGEnheO68GzO6NUOPJa6iMyxYpbhW2QLIZ2oJCyNWaX3ujD1Tu6FF16VwSyMpRdmaUw9PprVB0+bN0LB+X+zS+BETeyu+ojb9bWa8z5+mSUCy8ydFuW7bFi2a/grnitPw1y8V5CWyIuN9SZsGygxYiBmNfDGvbUM0a9gCE++WRu10Wqnpn5OaKDfoL0yrfgvjWjRFh7bNYD/cGRWmLsKgCl8aEDVRtl4RXBraVJxv3VZEoP3CuehRhJVEzfIYuGgGqrmOQSt2rezQtBlGXKuIKX//Ahu2ufTO+0/LcbplOIPtZIeMymOSZNc6u1SuddCqhPp2wIlJ7dCpwzjs90txIF+RPxqwajkE3fMdwACWD+3btUCzvkdhMXosOmQmAqeQTp5qFIH9kJ7Id+BnNP2hDTo1b4z+Ry0xcmzHTAV6FqiyW5R08vgKqcmqrdKqV1FSaGS45Bv8Rnrg91za5rBaarpyrbTgufz5gYRYKSgsTAqVP9KQNYlS9PtQySckQnqXlfezbb4NC5Z8I6KlD/Kk71VCVKD0xOO29Dgg/Y9YxAQ/le4/9BMf90hNQvgrydPNTbrvEyJ/dOOj9OalJi7MV7rn5in5yx9pSlNMsPTs3kPJL8VOJUj+W3tLVTv8K3nJRUQhXDo5spbUaKpT+vuQ6jq/rfgwb+mO6x3JOzStD0tmII1jSvDfJv1UqaO0ImVCSeEnRkp16k+VrkX5S9t/rCx1Xu4lf0xRFnZCGl2zgTTdKf3cVJQtd+nBi7Ck92e4TeUqM8iHjNJEsW0PyYuVa/5h3K/yVWUiTgrzvSu5e/rLH9nKWPrnZIIUFfBEuuPhJQW8/4ojS/axrLh3L6X77g+kV6ldBBOipEAvD+mOV4CU2uYye25nWIYz2E52SK08pibda118mOTt4Srd9Q5N46PLX5M/CVLEqweSu+t9FpMyc6X8RKbzNFzye+Auud3zkbKyGTX+nxzzs0kCHt7YgzFuwUjUNUEFswIw1khEZORbeL2NwAfDypjdpSlqp9r0Jv914afHos1UP7SfMg5d7EqggOY7vHI/huWzNyJuyDFs+ZnfJSAIP4Px9lPh1+EPjO1uh+L5NRH5yh3H/5mDTR9+wZHtnfF4fEtM8+uAyeO7wa54fmhEvsLtY/9g3sY4DDq2Df2y+hw1w23+jGx5NEvSl/gGW3s3w4nGJ7F7CJ0PKiGH8zQHAj2TGIWHXndw3NsfvpHRiJXUoatrhBKFS6BVpfKooJ/VWxrkvyMSXg7rsf7QVXi+CEUMtGFkXhq2rfthaG87FKKrWpLIx8ewYd1BXHvwEiExgLaRGUrXaI2+w3qjlhlLqMjHOL5uPQ45PcBLxQIwL10DLX8ehh/tCn3RxSTDbZJcEAGXjctwr9yvGNjANCeev5Jcl7N5mjOBnhBCCCF5AlUGCSGEEBVGgZ4QQghRYRToCSGEEBVGgZ4QQghRWcD/AWWe7MCicx14AAAAAElFTkSuQmCC)"
      ],
      "metadata": {
        "id": "FRqUsBO3Gaa8"
      }
    },
    {
      "cell_type": "markdown",
      "source": [
        "Неофициально можно рассматривать композицию как отношение \"целое-часть\", в то время как агрегация - это отношение \"один-ко-многим\". Следующая глава знакомит с другим важным отношением - наследованием."
      ],
      "metadata": {
        "id": "31sYZWwdHhgL"
      }
    }
  ]
}

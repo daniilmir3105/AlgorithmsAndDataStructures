{
  "nbformat": 4,
  "nbformat_minor": 0,
  "metadata": {
    "colab": {
      "provenance": []
    },
    "kernelspec": {
      "name": "python3",
      "display_name": "Python 3"
    },
    "language_info": {
      "name": "python"
    }
  },
  "cells": [
    {
      "cell_type": "markdown",
      "source": [
        "\n",
        "#  **Поиск, сортировка и комплексный Анализ**"
      ],
      "metadata": {
        "id": "_iI58XtEE_mv"
      }
    },
    {
      "cell_type": "markdown",
      "source": [
        "Алгоритмы являются одним из основных строительных блоков компьютерных программ. (Другой,\n",
        "структуры данных, будет рассмотрен в главе 4 “Массивы и связанные структуры”.)\n",
        "Алгоритм описывает вычислительный процесс, который останавливается при решении задачи.\n",
        "Существует множество критериев для оценки качества алгоритма. Наиболее важным критерием является корректность, а именно то, что алгоритм фактически решает проблему\n",
        ", для решения которой он предназначен. Читаемость и простота обслуживания также являются важными качествами. В этой\n",
        "главе рассматривается еще один важный критерий качества алгоритмов — время выполнения\n",
        "представление."
      ],
      "metadata": {
        "id": "j1DClJ7_Fe4H"
      }
    },
    {
      "cell_type": "markdown",
      "source": [
        "## **Измерение времени выполнения алгоритма**"
      ],
      "metadata": {
        "id": "vcq99zPfGVxu"
      }
    },
    {
      "cell_type": "markdown",
      "source": [
        "Один из способов измерить временные затраты алгоритма - использовать часы компьютера для получения\n",
        "фактического времени выполнения. Этот процесс, называемый сравнительным анализом или профилированием, начинается с определения времени для нескольких различных наборов данных одинакового размера, а затем вычисляется среднее время. Затем аналогичные данные собираются для все больших и больших наборов данных. После нескольких таких тестов\n",
        "доступно достаточно данных, чтобы предсказать, как поведет себя алгоритм для набора данных любого размера."
      ],
      "metadata": {
        "id": "A9-mSqAPHEsV"
      }
    },
    {
      "cell_type": "markdown",
      "source": [
        "Рассмотрим простой, хотя и нереалистичный пример. Следующая программа реализует алгоритм\n",
        ", который считает от 1 до заданного числа. Таким образом, размер задачи равен числу. Вы начинаете с\n",
        "числа 10 000 000, вычисляете время работы алгоритма и выводите время выполнения в окно терминала\n",
        ". Затем вы удваиваете размер этого числа и повторяете этот процесс. После пяти таких\n",
        "увеличений появляется набор результатов, из которых вы можете сделать обобщение. Вот код для программы\n",
        "тестирования:"
      ],
      "metadata": {
        "id": "YwBmHEwAHFbc"
      }
    },
    {
      "cell_type": "code",
      "source": [
        "\"\"\"\n",
        "File: timing1.py\n",
        "Prints the running times for problem sizes that double,\n",
        "using a single loop.\n",
        "\"\"\"\n",
        "import time\n",
        "\n",
        "problemSize = 10000000\n",
        "print(\"%12s%16s\" % (\"Problem Size\", \"Seconds\"))\n",
        "for count in range(5):\n",
        "    start = time.time()\n",
        "    # The start of the algorithm\n",
        "    work = 1\n",
        "    for x in range(problemSize):\n",
        "        work += 1\n",
        "        work -= 1\n",
        "    # The end of the algorithm\n",
        "    elapsed = time.time() - start\n",
        "    print(\"%12d%16.3f\" % (problemSize, elapsed))\n",
        "    problemSize *= 2"
      ],
      "metadata": {
        "colab": {
          "base_uri": "https://localhost:8080/"
        },
        "id": "UlAxyWprFgNg",
        "outputId": "61e667bc-8bca-4f72-93a2-745ee6ad6d55"
      },
      "execution_count": 1,
      "outputs": [
        {
          "output_type": "stream",
          "name": "stdout",
          "text": [
            "Problem Size         Seconds\n",
            "    10000000           1.892\n",
            "    20000000           4.624\n",
            "    40000000           7.225\n",
            "    80000000          15.897\n",
            "   160000000          28.140\n"
          ]
        }
      ]
    },
    {
      "cell_type": "markdown",
      "source": [
        "Программа тестирования использует функцию time() в модуле time для отслеживания времени выполнения.\n",
        "Эта функция возвращает количество секунд, прошедших между текущим временем\n",
        "на часах компьютера и 1 января 1970 года (также называемое Эпохой). Таким образом, разница\n",
        "между результатами двух вызовов time.time() представляет собой прошедшее время в секундах. Обратите\n",
        "также внимание, что программа выполняет постоянный объем работы в виде двух расширенных инструкций присваивания при каждом прохождении цикла. Хотя эта работа не завершается\n",
        "во многом это отнимает достаточно времени на каждой итерации, так что общее время выполнения значительно, но не оказывает никакого другого влияния на результаты. На рисунке 3-1 показаны выходные данные программы."
      ],
      "metadata": {
        "id": "NdYKXTK_XAKe"
      }
    },
    {
      "cell_type": "markdown",
      "source": [
        "## **Инструкции по подсчету**"
      ],
      "metadata": {
        "id": "rnA7M0cGXa30"
      }
    },
    {
      "cell_type": "markdown",
      "source": [
        "Другой метод, используемый для оценки эффективности алгоритма, заключается в подсчете инструкций, выполняемых с различными размерами задач. Эти подсчеты обеспечивают хороший показатель\n",
        "объема абстрактной работы, выполняемой алгоритмом, независимо от того, на какой платформе алгоритм\n",
        "запущен. Однако имейте в виду, что когда вы подсчитываете инструкции, вы подсчитываете\n",
        "инструкции в коде высокого уровня, в котором написан алгоритм, а не инструкции в\n",
        "исполняемой программе на машинном языке."
      ],
      "metadata": {
        "id": "EBFMtpBRXiab"
      }
    },
    {
      "cell_type": "markdown",
      "source": [
        "При анализе алгоритма таким образом вы проводите различие между двумя классами\n",
        "инструкций:"
      ],
      "metadata": {
        "id": "snBy4dAuYtju"
      }
    },
    {
      "cell_type": "markdown",
      "source": [
        "*   Инструкции, которые выполняются одинаковое количество раз независимо от размера проблемы\n",
        "*   Инструкции, количество выполнений которых зависит от размера задачи\n",
        "\n"
      ],
      "metadata": {
        "id": "MdjCxI_EYuKM"
      }
    },
    {
      "cell_type": "markdown",
      "source": [
        "На данный момент вы игнорируете инструкции в первом классе, потому что они не играют существенной\n",
        "роли в такого рода анализе. Инструкции во втором классе обычно находятся в циклах или\n",
        "рекурсивных функциях. В случае циклов вы также обнуляете инструкции, выполняемые в любых\n",
        "вложенных циклах, или, проще говоря, просто количество итераций, выполняемых вложенным циклом.\n",
        "Например, попробуйте подключить предыдущую программу для отслеживания и отображения количества итераций\n",
        ", выполняемых внутренним циклом с различными наборами данных:"
      ],
      "metadata": {
        "id": "jqnjm82jY927"
      }
    },
    {
      "cell_type": "code",
      "source": [
        "\"\"\"\n",
        "File: counting.py\n",
        "Prints the number of iterations for problem sizes\n",
        "that double, using a nested loop.\n",
        "\"\"\"\n",
        "\n",
        "problemSize = 1000\n",
        "print(\"%12s%15s\" % (\"Problem Size\", \"Iterations\"))\n",
        "for count in range(5):\n",
        "    number = 0\n",
        "    # The start of the algorithm\n",
        "    work = 1\n",
        "    for j in range(problemSize):\n",
        "        for k in range(problemSize):\n",
        "            number += 1\n",
        "            work += 1\n",
        "            work -= 1\n",
        "    # The end of the algorithm\n",
        "    print(\"%12d%15d\" % (problemSize, number))\n",
        "    problemSize *= 2"
      ],
      "metadata": {
        "colab": {
          "base_uri": "https://localhost:8080/"
        },
        "id": "JtwVZe3IXBg_",
        "outputId": "3db263e1-b639-47a8-9bbd-76ef0ea5625d"
      },
      "execution_count": 3,
      "outputs": [
        {
          "output_type": "stream",
          "name": "stdout",
          "text": [
            "Problem Size     Iterations\n",
            "        1000        1000000\n",
            "        2000        4000000\n",
            "        4000       16000000\n",
            "        8000       64000000\n",
            "       16000      256000000\n"
          ]
        }
      ]
    },
    {
      "cell_type": "markdown",
      "source": [
        "Вот аналогичная программа, которая отслеживает количество вызовов рекурсивной функции Фибоначчи\n",
        "для нескольких размеров задачи. Обратите внимание, что функция теперь ожидает второй аргумент, который является\n",
        "объектом счетчика. Каждый раз, когда функция вызывается на верхнем уровне, создается и передается ей новый объект счетчика (как\n",
        "определено в главе 1 “Основы программирования на Python”). При этом вызове\n",
        "и каждом рекурсивном вызове объект счетчика функции увеличивается."
      ],
      "metadata": {
        "id": "HG1FvVw7ZcT4"
      }
    },
    {
      "cell_type": "code",
      "source": [
        "class Counter(object):\n",
        "    \"\"\"Models a counter.\"\"\"\n",
        "\n",
        "    # Class variable\n",
        "    instances = 0\n",
        "    _value = instances\n",
        "\n",
        "    # Constructor\n",
        "    def __init__(self):\n",
        "        \"\"\"Sets up the counter.\"\"\"\n",
        "        Counter.instances += 1\n",
        "        self.reset()\n",
        "\n",
        "    # Mutator methods\n",
        "    def reset(self):\n",
        "        \"\"\"Sets the counter to 0.\"\"\"\n",
        "        self.value = 0\n",
        "\n",
        "    def increment(self, amount = 1):\n",
        "        \"\"\"Adds amount to the counter.\"\"\"\n",
        "        self.value += amount\n",
        "\n",
        "    def decrement(self, amount = 1):\n",
        "        \"\"\"Subtracts amount from the counter.\"\"\"\n",
        "        self.value -= amount\n",
        "\n",
        "    # Accessor methods\n",
        "    def getValue(self):\n",
        "        \"\"\"Returns the counter's value.\"\"\"\n",
        "        return self.value\n",
        "\n",
        "    def __str__(self):\n",
        "        \"\"\"Returns the string representation of the counter.\"\"\"\n",
        "        return str(self._value)\n",
        "\n",
        "    def __eq__(self, other):\n",
        "        \"\"\"Returns True if self equals other\n",
        "        or False otherwise.\"\"\"\n",
        "        if self is other: return True\n",
        "        if type(self) != type(other): return False\n",
        "        return self.value == other.value"
      ],
      "metadata": {
        "id": "n2ieUns8a1CP"
      },
      "execution_count": 6,
      "outputs": []
    },
    {
      "cell_type": "code",
      "source": [
        "\"\"\"\n",
        "File: countfib.py\n",
        "Prints the number of calls of a recursive Fibonacci\n",
        "function with problem sizes that double.\n",
        "\"\"\"\n",
        "\n",
        "# from counter import Counter\n",
        "\n",
        "def fib(n, counter):\n",
        "    \"\"\"Count the number of calls of the Fibonacci function.\"\"\"\n",
        "\n",
        "    counter.increment()\n",
        "    if n < 3:\n",
        "        return 1\n",
        "    else:\n",
        "        return fib(n - 1, counter) + fib(n - 2, counter)\n",
        "\n",
        "problemSize = 2\n",
        "print(\"%12s%15s\" % (\"Problem Size\", \"Calls\"))\n",
        "for count in range(5):\n",
        "    counter = Counter()\n",
        "    # The start of the algorithm\n",
        "    fib(problemSize, counter)\n",
        "    # The end of the algorithm\n",
        "    print(\"%12d%15s\" % (problemSize, counter.instances))\n",
        "    problemSize *= 2"
      ],
      "metadata": {
        "colab": {
          "base_uri": "https://localhost:8080/"
        },
        "id": "qMmNxZOmZcgj",
        "outputId": "50e66a78-64c1-4154-a7a5-ed5817e0671f"
      },
      "execution_count": 12,
      "outputs": [
        {
          "output_type": "stream",
          "name": "stdout",
          "text": [
            "Problem Size          Calls\n",
            "           2              6\n",
            "           4              7\n",
            "           8              8\n",
            "          16              9\n",
            "          32             10\n"
          ]
        }
      ]
    },
    {
      "cell_type": "markdown",
      "source": [
        "## **Измерение объема памяти, используемой алгоритмом**"
      ],
      "metadata": {
        "id": "ZSOvVsw0b5kP"
      }
    },
    {
      "cell_type": "markdown",
      "source": [
        "Полный анализ ресурсов, используемых алгоритмом, включает\n",
        "в себя требуемый объем памяти. Еще раз сосредоточьтесь на темпах потенциального роста. Некоторым алгоритмам требуется одинаковый\n",
        "объем памяти для решения любой задачи. Другим алгоритмам требуется больше памяти по\n",
        "мере увеличения размера задачи. В последующих главах рассматриваются некоторые из этих алгоритмов."
      ],
      "metadata": {
        "id": "YcLtfdmmb9Og"
      }
    },
    {
      "cell_type": "markdown",
      "source": [
        "## **Анализ сложности**"
      ],
      "metadata": {
        "id": "PlDJqdamcArq"
      }
    },
    {
      "cell_type": "markdown",
      "source": [
        "В этом разделе вы разрабатываете метод определения эффективности алгоритмов, который\n",
        "позволяет вам оценивать их независимо от зависящих от платформы таймингов или\n",
        "количества непрактичных инструкций. Этот метод, называемый анализом сложности, предполагает чтение алгоритма\n",
        "и использование карандаша и бумаги для решения некоторых простых алгебраических задач."
      ],
      "metadata": {
        "id": "LpMsMCt7jUdZ"
      }
    },
    {
      "cell_type": "markdown",
      "source": [
        "## **Порядки сложности**"
      ],
      "metadata": {
        "id": "7YIDhX5sj474"
      }
    },
    {
      "cell_type": "markdown",
      "source": [
        "Рассмотрим два цикла подсчета, рассмотренных ранее. Первый цикл выполняется n раз\n",
        "для задачи размера n. Второй цикл содержит вложенный цикл, который повторяется n2 раза.\n",
        "Объем работы, выполняемой этими двумя алгоритмами, аналогичен при малых значениях n, но\n",
        "сильно отличается при больших значениях n. Рисунок 3-5 и таблица 3-1 иллюстрируют это расхождение.\n",
        "Обратите внимание, что “работа” в данном случае относится к числу итераций наиболее глубоко\n",
        "вложенного цикла."
      ],
      "metadata": {
        "id": "4BFy5BwGkF2g"
      }
    },
    {
      "cell_type": "markdown",
      "source": [
        "![Снимок экрана 2024-03-12 195020.png](data:image/png;base64,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)"
      ],
      "metadata": {
        "id": "5UkLZS5hkgS2"
      }
    },
    {
      "cell_type": "markdown",
      "source": [
        "![Снимок экрана 2024-03-12 195131.png](data:image/png;base64,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)"
      ],
      "metadata": {
        "id": "Pcyiuxk7kglm"
      }
    },
    {
      "cell_type": "markdown",
      "source": [
        "Производительность этих алгоритмов отличается на порядок сложности. Производительность\n",
        "первого алгоритма линейна в том смысле, что его работа растет прямо пропорционально размеру\n",
        "задачи (размер задачи 10, количество работ 10; 20 и 20; и так далее). Поведение второго\n",
        "алгоритма является квадратичным в том смысле, что его работа растет как функция квадрата размера задачи\n",
        "(размер задачи равен 10, работа равна 100). Как вы можете видеть из графика и таблицы, алгоритмы\n",
        "с линейным поведением выполняют меньше работы, чем алгоритмы с квадратичным поведением для большинства\n",
        "размеры задачи n. На самом деле, по мере увеличения размера задачи производительность алгоритма\n",
        "с более высоким порядком сложности ухудшается быстрее."
      ],
      "metadata": {
        "id": "cMEliormlGhM"
      }
    },
    {
      "cell_type": "markdown",
      "source": [
        "При анализе алгоритмов обычно используются несколько других порядков сложности.\n",
        "Алгоритм обладает постоянной производительностью, если для решения задачи любого размера требуется одинаковое количество операций\n",
        ". Индексация списка является хорошим примером алгоритма с постоянным временем выполнения. Очевидно, что это\n",
        "лучший вид производительности, который можно получить."
      ],
      "metadata": {
        "id": "4OiIS1ailbWd"
      }
    },
    {
      "cell_type": "markdown",
      "source": [
        "Другой порядок сложности, который лучше линейного, но хуже постоянного, называется\n",
        "логарифмическим. Объем работы логарифмического алгоритма пропорционален\n",
        "log2 размера задачи. Таким образом, когда размер задачи удваивается, объем работы\n",
        "увеличивается только на 1 (то есть просто добавьте 1).\n",
        "\n",
        "Работа алгоритма за полиномиальное время увеличивается со скоростью nk\n",
        ", где k - константа\n",
        ", большая 1. Примерами являются n2, n3 и n10.\n",
        "\n",
        "Хотя n3 в некотором смысле хуже, чем n2, они оба имеют полиномиальный порядок и\n",
        "являются лучшими, чем следующий более высокий порядок сложности. Порядок сложности\n",
        ", который хуже полиномиального, называется экспоненциальным. Примерная скорость роста этого порядка равна n 2.\n",
        "Экспоненциальные алгоритмы непрактичны для выполнения при больших размерах задач. Наиболее распространенные уровни сложности, используемые при анализе алгоритмов, обобщены на рисунке 3-6\n",
        "и в таблице 3-2."
      ],
      "metadata": {
        "id": "hpBVLwhql2oU"
      }
    },
    {
      "cell_type": "markdown",
      "source": [
        "![Снимок экрана 2024-03-12 195701.png](data:image/png;base64,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)"
      ],
      "metadata": {
        "id": "y2iH7_BQmB7M"
      }
    },
    {
      "cell_type": "markdown",
      "source": [
        "![Снимок экрана 2024-03-12 195748.png](data:image/png;base64,iVBORw0KGgoAAAANSUhEUgAAAq4AAADTCAYAAABA3JEwAAAAAXNSR0IArs4c6QAAAARnQU1BAACxjwv8YQUAAAAJcEhZcwAAEnQAABJ0Ad5mH3gAAHPkSURBVHhe7d0HXBPnGwfwXxKUKagIMlVAwV1w7y3uUbe1f6t1VK2jtY7W1eFu66qj7lH3qnsLLgT3ngxF2UumQCDJ+38vOZQpaAEJPt9+Ysmb9+Y77rm7NxcJ40AIIYQQQkgRJxX/TwghhBBCSJFGgSshhBBCCNEKFLgSQgghhBCtQIErIYQQQgjRChS4EkIIIYQQrUCBKyGEEEII0QoUuBJCCCGEEK1AgSshhBBCCNEKFLgSQgghhBCtQIErIYQQQgjRChS4EkIIIYQQrUCBKyGEEEII0QoSxol/v7dFf/yByIhI8R3RNialTRAbEyu+I5+S0qVLIyYmRnxHtImBoQESXyeK7wgp2sqZlaM4gWQweuy3qFChgvju/f2nwLVty1Z48eKF+I5oG0cnR3g/9RbfkU9JterV8PjRY/Ed0SaWlpYICQkR3xFStNWtVw83b9wQ3xEC7Nm/H3Xq1hHfvb//FLi+fv0aKqVSfEe0jkQCfHjxE21GZa+9qOyINqH6SjIxMDSETCYT372//xS4EkIIIYQQUljoy1mEEEIIIUQrUOBKCCGEEEK0AgWuhBBCCCFEK1DgSgghhBBCtAIFroQQQgghRCtQ4EoIIYQQQrQCBa7kPSkRdOg3fDN0KEZM3oYnCjG5KFGF4tjsERg2dATmHg2FSkzOQOmPf2cO53lG4s+z0dnn+QCq0KOYO3wohg2fjWOh+TVXQgghhAgocCXvSQH/aydx7tx5XPKORQmJmFyUpPrjxil3XDjngZfJBrySJ+L2roVYMHcB1roF8tBbyOOLqyeEPFcQkKKXbw0h9fl1nHE/jwseLyE3oOZFCCGE5Cc6spL3lIzg4Cj1FcqSFtaw+PAfvyg4OtZw/X4e5i5cgOFNDHmsHYjL29Zj/boNOOur+aU3VVwIQmIZIDOHlWX+bYSOTUeMnz8f8xaMQCO+aEIIIYTkH9kvnPg3IblTPMOZ9TtxLUICq5ZDMLilNbIP+xLg574bW7fuxYlLDxBe0gZVbIyhI34qUMU+wZk927F3/wl4PAiHrLQCt/9Zgr+PvYJDi5ow5adV8rDbOLlzB/YePIozHvcQmFIO9g6m0OWhc/i1f7Hv5BXcDTeAk3Uy7h7bgW1eCjS2TcLN+4GIV5SBw2cy3Nu5HYfO3EFQshQm5c2RGhYLg5JPsG/vTURLq6Hr6IZIPL0bu/edwO04c1RzMoOuKgzX9u3F6St3EWloj5I+R7Bn5x4cueQLlVUN2JWKwp3j+7Br92FcfiFDpWoVUEqmwiufG3gQEA9FGQfUdTRDCfWWpu2LfTjt9QhhUitUts24LwghhBCSO/rJV/J+ks9gStNv8G+UDhrMPIdtw6yzXrZP8cP+ySMw69BzyMUkyMqh5S+7sOZ/DuqALe7aUowasxLXIiUwKq2H5Bge7PH0kmUroWKDr7Bq5RCUv/83Rg5fhCuRmqukGoZw/mE3doyrjIs/NMXo/a9g1GoYBib9i/VXo2HSazU8urqh1bA9iCjVFUv+dcaOTnNwPVWcnJOWH4AV0xIwdcJRxOtYoJJlHF4EJELdEKTWGLDxJOY08sDEhmNwOFaG8vbWSHj+Aq/FlqJj0xDNTZ7i4sMYzbADHp5WG78fByY64tKU5hi5JwJGXZfDc0VX6Ge3L6TGaPTjLmwYWY0H4IQQQgjJKxoqQN6L+hZ7HI/gJAawsCqXTQVS4PHaSfiVB2rKCt0x58BZHmQ6Q08ZiUvL1+BiIs+SchtrpgtBqy7qTzkEr1sX8Vev8nxeUpRx/QUHVw+BnSQMZzbvxoNYHVQdtBQHLpzFsr62kOE1Hpw9j4DUWAQHx/FgkyH+/Hqse2CMBj36YWDrKkgIDoFmFIAVrPRroscXDVFWGIurY49OE6Zg0sTuKB8aiiRhdVkqTFv+gKWrJqCRMc+kCsODu0FIiQpGWKIQqSqRaFAf3y5Zg7l97NRXlxWBt+FbfiB+Xb0So+sZ8JRU+N66ixhFPEJCYvkayWBuJVyJzrQvDp7H8aW9UEESh6srluFkjLAChBBCCMkrClzJe1EEBiFMGOAqKw9r62wGCSRewj9b7yERhmg6ejr6uTigbo92cNLhMeGrB7jzTAFV+C3c8lfwQNIRrTo6Ql+qD2Mj4aa6ComJrzXf8JeWR4+l53Hn8V3smVIPsmA/hL7WfEtfYmAIQ2UggsM172UWrphz6CS2LVuAid1sERQcpp6H1NwatpYN8XkjC/WVUYmJC3qMHo2R/esgScyj1+pHrJ3zNbq0a46a5YTmIIGRiQlUwUFQPxSgZBNM2rgQI3u2Q8uaQnDNl2f3P/zx9xQM6NgWzpX0+RSArklpGCAIweqdI4W5jTV0Mu8L54pw7PwVRnw1FGPGdoGDRLP+hBBCCMkbClzJe1EGByNCiAKlFjxwzTpKM+XxFdyM5AEZD0obNDTNVMF40MqnlZYyRzl9Hu4p/XH5sBu8TqzCquNBUPFgtU2nxuLtcwWCPddh2pDuaN2gGboP/AbzeR4lDxNLWVqhDAvmgauwIgZoMu5X9K2cdtNdiZCgUE0+K0uYSFWICg6FcPFUfQVWvcqpCAmJ5IGrFOWsraGnniwMocJ6S4xgaVUGyqAgCCMUpGUqwNZE2AoFgoLCNQGxZUVUVMfZcXw+wlVfGcytraCjCEFQKJ9IYgxLSxMostsXJWtj4KxZ+H5kN9RUz5cQQggheUVHTvIelIgIDlHfYpeWsYSlkSY1PfYqCjHq6K4MTM01V2RTnj9HoBBj6laEXUUeOZq0Qd+uVpCyaHgu/Qb/G/0XrqY6octPKzCzQxleKVWIOPEjBg2ehz03k1Ct3xTM+3sx/lddiDplKG9jA4QHIVRYER07uNRNN2RBFcGDxyR1MGkh3q4PTrsCW14MXJUhCA4RBr1KNQGnMFlkCMKShOjWAlZWQFhQmHpMqtTCWgx2FTwgjlAHxMZ8GmN1LBv49gqrtQ2kkUHiPMrDylqW7b6AMgUpQhohhBBC3hsFruQ9KBAU+PY2vCagy0hmbg5TIUbjAWRoMI9WVdG4eNwD0UwCk2Yd0MJYhajTs/HL3hCYtZ+KlevXYcPuYzh3+RiWjaiH0kKNVIXixD9HEKDQQc3R67F+9mj0rCZHaISwZB64WlsDQcFQjxTQsYJN+hVRBCNYfY9fCCateVCqRGiIEHBKUaa8JfTVeYIQpJ5Ynwe3ZnyOPCkkSDM/4fFYfPYhYrArPPJL/bQsZTifrxApCwGxlXoadQAsTCRcYbXSDC94O4xCJ+u+4GvxYtNgNKjdCH0WekIY7ksIIYSQvKPAlbwHuXiLnQd6D5aiq2NlODmkvZzQbvY16FRzRfvKJXiGh9g2fRpmT/oaPx8OAzNugFHfdYOZNBUP3M4jMFWF8ItrMWf2PMz+aTyG9e+LIePnYddN4Rmx/D/he1E80As+vwGLfhmHfn1m4owQuEpLw9xcDynBIRDuwkvLWcIy/VfzU4MRJIxlkJrC0lo9CABSqToaRszNnVg0bzlOPg1CSDSfWGYGKzHoTRWHQEjLWMHSIO1ZtTKY8SBV/UgrHhAHaaJSMSDmc4wMFq+wmqvH+6bywFU9j7KWsOKLzrgvZmDhz6Mxauk1JDBzNGtfF8LXugghhBCSdxS4krxThCI4RPyNV6aCUqlM92Iws7QCSjpj1KKZ6FLZEK+u78GWfx8gtUoXTN3wN4ZV00SYVjzgNZTwWcijEfLiOfyf+cHn4S14HF6HWROEYQNW6DZ2JOqbyfDq1h6s23Ed+q790cyMV1eWilSFAiE8cBXW5M3tf5EyJBjhKfwPaXlYWQof6KPZl1+jfjkdyH1PYeM/NxEVzQNOIQaVmsPSRsijRFhwGDSTWcMaaVdkpSgvDiVAcjBCNJEyrKzFUbjCstSxrDDeV4LQoHDNPISrtMJEGfbFLqzb4o5Qi/b4btU6jKuTPtomhBBCSF7Qc1xJwVAlIvJlIGJk5rC1Lf3meaXKF+vwpes83Hb6Dgf++RJl42MQGxOH6KBT+PO7Nbhb7ktscZuNxsIEKbEIehkBiVklWJmki04/gCo5GkFB8TCwsoGpfiGfr6n3RRDi9S1hW95IEwgTQggh5L1R4EoKlSpsL8a4TsXZOD1Y1qiD6jalIE1+hReP7sEn0gjNZm3HuiGOFNwRQgghJAsKXEkhUyH24RFs/uc4bvgEIyZJBZlBWVhVdkbLXgPRs6EV/ZoUIYQQQrJFgSshhBBCCNEK9OUsQgghhBCiFShwJYQQQgghWoECV/LeYt3mY8So37D/ofBAfk4VimOzR2DY0BGYezQUwhOiioQUbxz94wcMm3lI/cxX8l8pEXToN3wzdChGTN6GJ+KT0dJThR7F3OFDMWz4bBxT/xBE0ZSlDucixfsIFk0cip8PRhSd+v2BUoK8sHXOOHzZvSM6uHbHl+MWYN+d6ELYLgW8t0/FSF5/Ri2+gAQxNd/kSz8UC/d5w/Dtb/vwKG9Vg1Mh7NJKTOzfCe1ad8HwBacRJPzeSDrFqf4UCmUgjvwqlCXvS7K8RuC3gwG8Nyrm3rs+qxB6dLa6f/5m9lFk3/3mVL/lCL6yDXO/HYx+ndqhQ+e++GbGBniFZtPJZysF3of/wOShM3FY/UNBBYsCV/J+lD7YuXILzrnfRljJkpq01Oe4ccodF855ICDZoOhUKlUQLu85gItHz+FmsphG/gMF/K+dxLlz53HJOxYlJGJyOqnPr+OM+3lc8HgJuUER7V6yq8O5YIEe2HfgAo6fuwntrUoqRHstweBu/8Ov64/iyr2n8PO+jytH1uDHgV9gvkdMAQdV/OB2+QTcz13AHX5AVP+wxwdLxO1dC7Fg7gKsdQvUBDGp/m/6oZcf2A8pfXZg9RZ3nLsVhhJ5qxpQhe3DzG9X4ZnTN/ixf3ncW/8Htt8Tnuj8VvGoP4VI4Y9rJ4Wy5H1JltdF+CcaaH69sNjIj/qciufXTqv758svk2GYzQTZ1+8E3PzrS3QbOBObjl3Crcd+8Ht0A27b5mDY4D9wPU8ncAzBHntx8PwxnL9R8DW8iB5ZSFElv7kTe+/KYdS4D3o6iF2HPOjNw/ktrYrQMwFKVIZDRRlYvC+evMzrmSPJWdoviml+CtcimyOHjk1HjJ8/H/MWjEAjQzGxiMm2DudCp0plVJAxxPs+QYCWViVl4L+YNn45brySoWLXX7H7ygPcubAGX9XUB5KeYOuc9XiYMd7KX8oIhIQJR0EZyltZ/7fAQxGIy9vWY/26DTjrK15707GG6/fzMHfhAgxv8iGVT45bO/fgrtwIjfp+jjxWDUiNmmD00g34c2o3VDfhqyY1hJFRxomLQ/0pVMIPvrwSehp91PtmGZavWvn29fcKTGhbWpOvuMiX+pz2y5ZSlLO0Rtbzruzrt+LxBsxecQOxzBA1h63Bmbt3cGxWC5hI+Kmm71EcuSnnse1x/Ni6JfoPHYJO9euj05TDCM5wlqsDh8oVIWPx8HvyUv3jQAVJ9gsn/l0IlAj22o9/T1/FvUhD2JV4iqO7dmL/iduIN68KRzN6EFLRlgiPZTOx/aEu2k+ei75Omp9UVfifwcZtVxAuqYJOY/ujbmnhfCgBfu67sXXrXpy49ADhJW1QxcY43fNZVYh9cgZ7t+/BweOX8DBchtKKW9i6eBWOv6qM5jVN33FWlcd6JNVDzPUdOPowHlYtvoarAz0d9j9RPMOZ9TtxLUICq5ZDMLhl5uBDhVc+N/AgIB6KMg6o65CKm/v24cyVe4g0skeJp0ewZ+c+nLwVB/NqTiiXrrkn+J7Dni1beRl64sHzWBhUcED59Fds5WG4c3wXduw5gGOnPXAvMAWm9g4w5fNQhV/DgT2ncOVuOAydrJF85xh2bfWCwtkFNll676x1WBl8Bf/uO42r9yJgaFcC3kd2Yfe+E7gdZ45qTmbqx7NJdWNwY8cRPIq3QrOhHaB9VSkBl+aNxbJrcZBVHoq/N45DvTIlUbK0A+qU8cHe40/xOiYepu0HoLFpKK68KbdqcDDVgSriJg7tOQmvu6HQc6wCM+Fy6TvKJI0wLGHvhs3Yf94PUmsp7m07iHtxOqjVeyK6md19Z7nJw27j5M4d2HvwKM543ENgSjnYO5hCV+EH93+249CZOwhKlsKkvDlSw2JhZKnAs4eBiFeUgUNdR5RTX9JN64f24bTXI4RJrVDZNn0/lE7iJayYsRUPdV3xw9x+cBS6N2Vwun2RQx0uaQxLOzNEH5+JMb9egOmQ+ZjZtSL00t2R0P76U7gUz05jw46riJTYoMOUX/F1q6qoUqWK+HKAhZEK/u47cdD9Bu4+S4FVVRsYSpQI8tzLjwvXcPe5ApZlg3B6r6Z+6ZnF4+LGddh3/ink/BjhYJq+Y3jHsSov5S/KsQ/LbR6y96jP72pzCn+cXb8NV8MlqNz5W/SrVzrjMTS7+s3F3b+Ei35RkJfrhtnLhqKmkR6MVY9xYN8txMAA1bsNRSvJWaxafQumX8zCKJur2HFOgpZftobtm3oshV7Mdew88hDxVs0xpINDwT6LXXgcVuFJZMe+rcUcKlZiTg1bs1bV7NR/C68qTX9i5+PFbKRoSr7EZjS2Z5U/G8uOxYppXLLbFNa4Ei/Hmt+yo4k8Qe7L9o1vzaqLZat+2ddjX//jy1LVU8Sya0v6swYOPL1yLVa3ZmUxnyOr39KVjd7kxxTqfDnJaz2Ss1tz2zJHPt+RexPENPLBkk6zyXWEfV2FDVwfyJRi8lvJzH1yfVaZl4Pzt0dYYuJRNr6WUC6VWdNWzVktoY6oy8metfjxPNMUk5z57RnP2jqmfaZ5VWszi52PUWdg7PVttnpAPV6OGfPU7rmcPZDzpZ7+gdXn865c6ys2b35/Vt+O/+08kZ1OEqdPL5s6nHh0LHMW5unQiLVtVl29/upl2DVl08+JlUl+i81v68AcHIez/dpYlWIOs/GfCWXnyPqs9M3QvhTP/2Z9hbZYsSYbe5g34LRyq1SXTT6drM6T7M7bON+vQhs/8pon5FImgvhrS1jf2vZvPnOq21DT5vl+/fly8jvL7fXtVWxQXb6/083boWIN1vuvBywpYD0bUDl9Om/3DX5kZ05OYY2EOlZrbM79kF1tNmjNI15Ts0q+NI01s7NjdcceZXFi2pt98a46rAhl5+Z9zurX6sR+3P1IrNeZaHv9KWRpdcOhcn+2MTBrTyOIPv49ayLUSYd2bOHNZCZ/spYNqsXruENTNvFICEtMm4d9XdakXpU3daByrT5s1V2xBuR2rMqPPiyXecTmtT7n1uaS3dmP9YU2XouNOyJMkFG29Ts7ykjmNqW5ejmVa33DDkTyac9NZU0cv2Tbw5PZ7XltWbVuy5l3poO0/OY85mrPt3vYXlbQVTzni1oFQRmBoFDNgAmWaormk/7C8gmNUYqfmapC7+NeEN1DKcpSHnrgWpgK+nVboLGxmMglhIQghgEyc2tYyhR4vHYSfj30HMoK3THnwFnsGOcMPWUkLi1fg4uJfD63/8asFVcRpdsAkw5fxbVLK/B5eV4VpWXQ/pfDWDXE/t23EfNcj6Qw0NeDcOFDLqeRZf+VKi4EIXG8oCUGsLAql/WKuCoeISGxYLz0zK2sgYgghPLyFsY/pZi2wMTlKzGucSleHiqE3b+DYF5MikfrMOXnw/CHIwYsPQa3E4vxeQUZUvz2Y/upKGGmCDu9BXsexEKn2hdYfPg8Tq/oA1teQV7fP4sLL1MRGxyMeL5aLO4CNqx5gFINu6PvoFZwzGYQZdY6rOSrGQp1bWKpMG35A5aumoBGxkJlCsODu0Ga215Sfejr8jQmhzZWJfm9K7gllJ1ORTRsWjFj+5IILUSggELJePMSy01WHlY2mpwJIaGIUfEkMytY6eRWJkr+hxeWTF2FW7E6qNhlGlau/xNDHFLxStiZUgtYW0tzLjdZGM5s3o0HfNqqg5biwIWzWNbXlq/zazw4ex4BOjXR44uGKCusto49Ok2YgkkTu8M2PASx6n6Ir2PmfujgeRxf2gsVJHG4umIZTsaoNyudFDy6dBXhKn3Uad4EpcTUN/sixzqcCK8F/8O4HclwnfUbvqoFBL2MznqrVMvrT+FSIZYfU4S6gdTbWNatARrUrad+NWw8HodiNblKt/8Gg2rr8mrrh/1rV+D3SUtxJU4PNUcuxi9dzRGfNg9lPEpU6Ytvx/dGTd6uWdxNbNnqATkvpdyOVbmXf+59WK7zkOWlPuehzcUHI0R9IDaDlWWGFq6WXf3OQhUBz8WjMHlPAJSSUqg7ehw6mQKJwjHe2AqWpVQICQ5HCUvhWC9OI5Ia6GvuMsjlBT6Ou3ADVwXfsfygAeih5Y/r8dvXXdG2RU2UE9ZCYgRjk8JdHfJ+Yh8+QIBSBxWq10hX8RUICgrjTZBXJt7AbFIu4Z+t95AIQzQdPR39XBxQt0c7OOnwNvHqAe48S0HEzVvw5w1ex6kVOjjq8z7dBEZCkKFKxOvEDANnspfneqTi80vi3YUE+jyAJf+NIjAI6t3OAxpr66wdo/BluGB1BinMbawhCQrmHSV/q9cKUzfMwZCu7dCsppm605GUMoGxNBEem7fiHu/UjZr8D183MYOBaQM0+8yYl5gcgS+Dee2SonzPJXC7/wi39k9BPVkIfEMS1fUNEn0YGikRKNY/yCzQfv4hHN+5DPMmdUPFLKso/Gpb5jqsQLA4vV6rH7F2ztfo0q45amoqE4xMTDSdJK+bScn8oCDRg54WVqWEl4GIUheNNSpUyngTTxkejlfCAV5qivLmMiiC0srZAjZWQl6+j4LFNl7eCtY6uZWJBAnnd+DQ81TeJ3TDTwtHoEO73vh+eGuUEQ5s+hawMmM5l1uJ8uix9DzuPL6LPVPqQRbsh9DX6pz8nMkQpcwb4vNGFuovsEhMXNBj9GiM7F8f8pC0fsga1pn7IeeKcOz8FUZ8NRRjxnaBg0QzvzdUsXj0gB+seWBfrUa63i23OswCcfPKcyTFP8auSX3RtVNn9PrNTXMilJ6W15/CxY8pgWnfok9BwqsovIrSvKJVBiidtv90nPDFqC4oL2WIOrkCm+8noWzraVg0sQFv22/nUaLuRB6ozsX3E+dicncrXnYMsS/8EZGQ27GKn8jlQx8mz2UepcvnoT7noc29abdSfsL59h7+G9nV7/RU0TexYXRvDBfGu0rLodG41VjxTQ3oCvsyKBwQ2r4kEkGhKShnnXUMreo1r+NCFdfnAayYVlDUfXKhSQ1CiPCoBL5TrK01m6YMC1U/qkhixM8q1GMjSVHl6+3Pq7A+KlWpmG78ihIh/ACk5M20lJUV9J9ewU2hQHUc0aBh5nGqCqiUUn7gKQd9fgBTPr+MI26eOLlyBY4HqXh7a4uOjdMNGspJnusR76Bi46HiZ47GJlkbMnk/yuBgRAi9q/qKWTb7UxHCOzWeQWIMS0sTfn7B86uLyRpW6mJSIjxMeBwQDwgtrVBG8QRXbgpfJuCB1bmZcG3QAI0bNMMPR6J5yfEqJNVEnopgT6yfOhQ9WzRAiy4DMWbucfXjhiSlhLJmvP5FqDt9g6Zj8XM/h3f8ZHBqNnU4FcEhwjpJ1Z2xZjXDEKqpTLC0KqOpw6oYxMbxNTc2gUk2MXvRpoJcLlfvU0hLQjfDlWjefm/f0zy+yaA6alfTRUpwiLotSc34AVMst5BAsY3zchOa17vLRAGfu4/UV7v0XZqhoZEwDxXixCtgwp0ZKx2h38ip3Hig7LkO04Z0R2teH7oP/Abzjwe9WX4ZqQpRwaFIVM+LL09dkML8QjV5rCyz74dK1sbAWbPw/chuqJn5IkmqL3xe8LNp/Uqoki6wT82tDpdwxNgjPvD1f/7m9XB9n6xXtLS6/hQ2JT9R0tSNkk1m4PS1a/ASX54nZ6JpugZeut0w9K2qKS+JcRtMXviFOH44bR4SlHZwFL9IKoOpqTjus6QuZE9yO1blofzz0Iel5DaPPNRnobq+u81J1f1zuPDemL83zlS/uezqd5rExzsxsdeXmH8qAKryjTF67QFsnNhEczGI95Q1J53Aw6MT4Khri+F7n8BtVoMsgSuLjUW8iq8vP9nPuoT8lXXrCpAymAccwj0U4YxAfeATCiwMwomozELozNTZSBEVFRULldQYZU3TFZQqAsGhibyRylCeH/il/OxYuKUo3PY3Ndf00CnPnyNQ6IV0K8Kuog6M2/ZDZ2t+3ht9GX+NHISxf12Bwqkrpq78Ga5l3lZJVdglrJowAF1at0H3oQtxRj2T96hHfN2e+8eAyWxhT9+G+I+UiOABjXAlSVrGEpbqYCQjVSQ/4xdOuYVbzNZAMO94NcUkdsaqKISEJr+pKzL+/pVQWfiJRaPRi7H0r7/SvZbgpx6VIA0/gWn9v8KC3TeRXK0fJi1chT8HV1N3jDILG9hIwnn9E9ZKB3Z16oodbU54Pclch5XBPHBVryXMra3U81VFhojbYQErK00dVkU8h38MX3Nbe9hnMwShaJOiND9ZVB/vFXx/BWvakZrCB4cO3+HhuwTGTTuipYmCB6khYrmJbUkot7DX6nIzt7aBJLcy0WGIesX3M5+nnrGReIBTICg4nKdp5mudY7mpEHHiRwwaPA97biahWr8pmPf3YvyvunruKG9jw//NeAVYs46a4UPCOlrwypddPwRlClKEtOyoIhHFJ5Aal0VZYX5qPPjJrQ6r8+VOu+tPIVPyY0qIuqdBmQqVYW1uBjPxVa6MobqeaagQ47UHJ/2EEuKBU8IDHkSK4wiEeajrl1Bn0sopBS9fhvBS5W3dzh6G0bkdqyT50IfZIjzXOpR7fc69zakQmRb8Cu3r7U56I2v9FvB9eGMFRv5vBo4+l8OkziisObwVP7S1yeapBO/C2+0zf8QwGWztC/iLWVyhBq7CZXfhzEO4VWRpJlQU3kmm3WZOKzBSZL1OTOEN1AClDNN114pg3sDUJcgboRV0zc1hKnzMG16ocIBURePicQ9EMwlMmnVAC6MonPltFvYHm6Hdj39jzfpN2HHsAi4cX45h6b8FqQrD/mnfYrWfE0ZO6wfze+uxaNs93vW8Rz2SP8bjZwpITZ1QNZsxP+R9CLfe3t66yq6tKvgJxduhBOBloglU9CysoCkmXlfShhIIQaKOOczL8g9YKlC+Pjp374auLUvD+9A+nPIKRGqpkgg9sRVHAxTQqck71E2zMerzapCHClcrNB20FXjgqZ6nDixtNIFnzlKy1mG+TsHq+3j6/ABhpj7AKUKCNLf2ZObiiRGvSk8e45lCClPH6lnGdmkDvXqNUUd4oo7iIY7uuQXNw/9f48GG3/DPQ35Y1a2GL0d1galUiRD1FWhhNxlBeKpTSsBlXPETjuZCG7dAZG5lwneZvq4uD1sZYn28NYFA7D24eWqumhpbWcFElUO5qUJx4p8jCFDooObo9Vg/ezR6VpMjVN3gNQd6HT6XUL6OQgBSprwlLzlOKEexHzLnebL0Qzz3i02D0aB2I/RZ6An1kMP0Ul7jtbpqlMLb7k3oV3Kpw0K2PND2+lOoFOmGHL1jHysDDmDGpK3wVdmhYX1LSPkx48TKLXikPkikDScDSuppvueginDDMY9oMIkpGjT/DAa5HauM81D+ufZhOnmoQ7nVZ8s8tDlhyJNmaIRwDLTMZqdlrd98MU834NuvF+NKpAzWHX7B1q1T0bJ8ugx5JseTx8+gkJrCsZqluh8tSIUauApf4onme1YzwF9ISVV3kkKBlbW0hIE6FymqSqivFCiQqhCahyiVN0Lh/jGvsJbW+tCp5or2lXlGfoDcNn0aZk/6Gj8fDgMzboBR33WDmfI+zp3nDVoVjktrZmPe3N8wfcLXGNRnML6buxO31APxOKkRGn+7DGuXTEFX4eGIqVIYGBmpG0Re61HKXU/cjAaM6jVBnTyMQCDvkvaMQF60D5aiq2NlODmkvZzQbvY1XhWC1EMJpGUtYaWXwPMLv8Ykg5mVEGxwqSEI0WSAlSUvJZ1qaN+hMkogGVcXf4Pvfp2DyUMnYo2bJ68HpVHBVAqm1NQHZfAFbPrjV0zo3Rc/n9Y8q7A0P/DovdczhHWy1uEEfoDTVCZYidG4+vagsJpl+AFAXZlScO/ydcTACHWburxjKELRJbXogW++rMYPiql4um4IuvT4Al92aYv+870Qo2OFdtP/xLcumi2TiF/WSr22Bt8O7Y9O3X7CGSGS5+Vmaamfe5nwEq1atyaM+GwUd5bhy07d0L7VF/j7nngFjNcHWY7lpoKKCf9XIvj8Biz6ZRz69ZmJM+p7raVhbq6+1wqpVDh0qRBzcycWzVuOk88D0/VDepn6oRlY+PNojFp6DQnMHM3a1816rNEpgZLCZitS8bZ7y0MdzhPtrz+FKq1u8Hb6YEknVH/TzwgvR7T95QrkyQ+xbuKvOBWmA8ch87Fq7pcQvqeV8nA7Vp/gAV3acDI+j9srxuCH2b9gwpBZOB4BlGo0CqPaGOZ+rJLmRx+WmKc6lFt9zr3NpfLAVXMMNOXLUQe/mWSt33xXP7qBe8KXNoXpz/6Gz2un29eVq+PrHZGajLlJuQvP6+qDLRoXwsG2EAPXzAP8+R/KUH5mJZweCWcVNppCJUWWkZEBJKp4xAlfdRQpQ4IRri7C8rwR8hIs6YxRi2aiS2VDvLq+B1v+fYDUKl0wdcPfGFaNV2hmjSr8M+FqjDw6GC+eP8dzX288vHUJR9fNwMRlV3mIJDCETZ3WcJGcxcxh83Cz0teY/KUDb/55rUdy3D97AUFKIzRo1ZjPjfwnCr6P1bfUOaaCUqlM92IwsyyP0KBw9RVxqYU1LPH2qonmKplQTOnqirrgSuKzMYswvWtlGCY8wvFNG3DY1xjNRy3D9uUDUEkmhWWPsRjewAyyV7ewd80O3NB3Rb/mwhMNGA8+eSfM56n+VcI383wXnSx1WLh6r1lNc1jaqNcSYbx+aVZTvOUmvwe3C0FQlmqIlo2zGSOhFYzQcMo6LBrRCNb6SQi664Urj2JRulZnTFi3HysGVxMDKl3U6zMAzmX4KaI8EPcfKVB/YCfYC2eM6n1cMtcy4Rlh2mUSpnSxg4EkBRHeDxFethW6NDDl7V64dWsF5FRuUit0GzsS9c1keHVrD9btuA591/5oZsYPVSyVz1/IpI9mX36N+uV0IPc9hY3/3MSruJB39EO7sG6LO0It2uO7VeswLrsDq6wUjPQlUCXEITbtwJ7uyl/OdTgPikX9KTxv2jTHVOn7GU1fU87SEF7zvsNf1+NRssYwzP6+IUwq98P/2pSBhEXizOotuPuSn5AK85BZw7l6Atw2bsGJh4ko3/gb/P77YM042NyOVXkq/1z6MJaXeeRWn/PQ5tIdA8tbWaqXk1mW+s37utCgMB6yarAM+1l4GcLcIvsvcmUmv3cWF4OUMGrYCoVSxcXHYhGSq4eLOjGnHJ/hmYnyNYt4/pT5vIxO98xEBfNf049Vq1iZ9Vz6kEVHhrKXvk/Y/Zte7NS8z1kN4bl2My6L+RUs1G0+6+NSm3WdvIc9zvbhiO8Qf5b92MCeVXYZy46mPQ+UFFFK9jr8OfP2DWFx4jNAM5KzmABf5hMYKz4H+EOlvl8dFsWfncKa2Nmx+mOPsOJQleL2DONt0I41mnSWZX3ao4YiPoQ9f/kq2+edauStTJKjA5iPTwiLf/eDmbOSx7BAHx8WFJPz3JVJr3j/8YJFJr6jJNX9kDd7Fhr/7rqT+pAt6VT5nc8N/VDFrf5oA/VzR4VnvNYYzY685v1LmD97EZGYfZvP9lj1vnLrw3KXe33+b/1gQdVvXsOZ2+SGrEqlOmz8kcKp4YU6VIBotwpV7KEvUeKl37M3Z2k5khqgXCVHVLYtne7WmAR6pU34PBR4sHoEhoyfgfl/LMLiBb/gly13kFKuGb7+XwN1/kTPBRjy7Q4kd5yJX4bWBAJfIlo8C8+dCpGn9uBUuAQ2XQagtYmYTIooKQzMKqGKgwVKZfuNgJIwsXFAZescfvEoz3Terw4LVBE4veckwiU26DSgDYpDVZLpluR7lCHi6DT06NQZ3XvNwXnhLn46MiMLVLIt847b2nkrE93SNqhc2UI9Vva9lDSBdeXKsHrH00CkemVg61ABpvrvOIyp+6EqsCtv9O66o1MBle30IVG+gN+zPNWMvCmG9UcbJASnDSezhqUO71/MK6JCOX3e02Qj22PV+8qtD8td7vX5v/WDBVK/OVXEKew9GQ6JTWf0b1M4NZwCV5JnBnXrwcXcHlUsSkAppr0fKcr3+QNbl0xA3xaVUCI2CC8DQpFQshJaDZ+HbYfX4itHoUkqEXjjKp4nxePxjsnozw+uXXvMxrks36jISSpehCShjHkjfDWsUdbxbOST9d51OOUFQhPLwrzREAxtVDxqkl7LwRjdyQWVy+shNT4er2WGKFXQ36Yo8gxQp74LzO0dYVHiw3q3bBXD+lP0KfAqUQpLGxvY1nSEegQQKZj6zaW+CEVSWXM0HDoMDQupikuEy67i34TkQgWVSgr1OHJtoOLry1eWzs7IWx9Wh1W8Lmm+QEGKrQLsL6j+kI+uQI+HhRsbUOBKCCGEEEK0Ap0CEkIIIYQQrUCBKyGEEEII0QoUuBJCCCGEEK1AgSshhBBCCNEK/+nLWQkJCVCJP0VGtJDwE3D01bxPE5W99qKyI9qE6ivJxNDIEDLZhz+D7z8Frj26dMWLly/Fd0TbODg4wM/PT3xHPiWOVarA28dHfEe0Sfny5ggLCxffEVK0ffbZZ7h79674jhDgn21bUZvXiw9Fj8MihBBCCCFagca4EkIIIYQQrUCBKyGEEEII0QoUuBJCCCGEEK1AgSshhBBCCNEKFLgSQgghhBCtUPiBqzwMd46sxi9jR2LWvmdQisnpJfkcwYIR3dG2cRO06z4SC4/6QS5+ppEEn8PzMKpbazRv3Aafj1yAY74Zc5CCEX9uMUYNHYphmV/Df8bBl9mVJilO5GG3cXT1LEwYOQP/Psu29ebeNpN8cHTuSPRs1QTNW/fA6PlH4ZcsfkYKTL6UXRb5U9659/nkU5MSdAHrpn+Dge1b8DrxFSb9cQCP48QP1VSIuLAUo7u2RIt+y8WkCFxcwutai2YYuPy+Ju1dVOE4OXcUFp6K5HMrYIW5rGKukANXOTyXTsDsf9zg5XEe158nZHkusSrqNH4Z+jOuWnyB2av/xq8DzeA1cxh+c4tJy4GoU7Mw4uerKD9oDlau/g39y13GL8N+gXtaFlJgSto4o1Xbdmib7tWqshz3rwUhVU940jQptuSX8df437DtrCcun7uO5wlZWm/ubVMVhdOzvsavV8tj4Ny/sXL2AJhenoWRv7iBmm8Byo+yyyJ/yjv3Pp98alShxzB94Fjsjq2Lr39fh7+mdkXpK7PxvxF/40HaSY/iPrbM24hXbRZi8+IvxKRNWLAxGq1+34I/v6isTssg+RQmN2iLOVdSNO9ZEgJuXcSdgEI4cy6IZWXenk+F8BzXQqcMZBv7V2Udf7/LUsUkDQXzWdGTufRbx54pxCSew2dVb+bcZw17LqQpfNiqnrXZwLV+PLco1Yet7lWL9V/z/G0aKSSJzGN6C9Zo3FEWI6aQ4k0ZuIF94eTK/rybsfXmpW0qvFey3rX6s/V+b1tqqvcq1rdWX7ZW3cBJQfovZZdFvpR3Hvp88omJZ+enNmX1Bm9lL9JX05hL7OfWtdmgjf6a+pZ0nH3n3Jz9fDlZ/bEg+fh4Vq/ZTOb5NimjpGNswmfN2S9pGRT+bG2vamzAugCm1KQUnIJYVubt+UQUrTGuqjBc9vBFtQ6dUPHNr4HpwK5ze1R57AGvVyqe5RIu+1SDa+dKeJvFDh1dHfHk0mVE0zX4whV9BrtOKtG2d2uYiEnk05R721QhzOMSfKu7olOltz/3p2PfGe2rPMbly6/EFFLYPqRfzZfyzkOfTz4xcRfw7+lUtP6yFyroiGkCk8b4X2973Dt0DH6RT3DZ/QHCU5MRctsdZ6/7I/qJB9wfhCE1OQR33M/gxsskcUINVbQwzUNEKJIRfMsdp89cw4s3WVSIuHUAaxctxuoDtxGVodrFwdt9J9YtXoSVOy7hRaKYnKO0/Ivx925PBGa5wPqOZclDcfPAWiz9cyk2HrmLKIWYDjkCbrjhun8ilNGP4b7vALyePnrH9hRvRStwTX0G3wBj2DmUy7BisvIOsDMIgO8zBc/iiwBje9iXy5ADFg52MAjwA89CCo0SAYd24VLpbujT2EBMI5+q3NtmKp77BqCUnQNMM2SxgL29AQJ8n4kJpLB9SL+aL+Wdhz6ffFpSfO7gUZITXJz1xJQ0Mti41EZZvzu49/w6Du68AP/keDw5vQO7Tj9E2LWD2H3eH8nxj3Fm+06ceZggTqehCs04zY4dp/EoXogalXj571gMnnYQz/ln1xYNwfiNfprv3ygDcXRKb3wx6xC8oyNwc/236DtiI7xzujMv5v/y1+N4lpgAnx0T0HfkFvi8qcbvWFbcTaz8qgfGbbqPuJRY3F0zHN1HbId6OLoqGu6LxuP3Pfsws/cX+HnLOXg/u5bD9hR/6fuKj48XTkycAUoZZxorKS0FI4N4xEQzniUGcQbGyJxFUqoU9OP59HSCXngUT7F/z1049OyFWiXFNPLJyr1tqhAdHQdDY2NkzCJBKSMDxPPpycfxIf1qvpR3Hvp88mlh4eF4ZWCGcqWyhic65uYomxqJKLMv8Me6MahvZIY2P67H+uldUHXwn1jzbQMYmbXFlA0b8VMnM3EqDZ1q/8swzeZNM9DJXLMMScXBWHNoC+ZPn4FfBzvhwYUr6jHYiZdW4feTZhj7zzb8MXsB1v8zFTXv/4217hmD4jTq/Ket8f22zZg/YxYW/7MQ7WLO4qLv2xOwnJaljI2CvNZ32LR7OWZN+xlLNk2E042tOPAwbVoFnu3ZiJe9NuP4kb/wVachOW5PcVfEtlIFJZNCJs28WjKeJnzG/1QqwfjnWbPwNJWSz4EUlsQr23EwwAU9ezrwEiKfvDy0TR7LQCK813zyhoynMeFD8nF8SL+aL+Wdhz6ffFJUCgWUUl7+4vsMdGTQgRKKVPF9vpDBtm4jVNDV/G1gpM/PpyIQqUjB48tXEe3cFd3sNWMWpFauaFs7AXeuP1a/z0iTP75OZ7jaimtv0gazD2/FsKppYx5yWhZ/Z+uKidMHwklfjrD7btiz/TJClDGIihIuuQoYkqx7Y+aoz1BKTPlUZe4tPi6JIYx4oSUmZeomWRIS5fr8DJyvsJERDOSJyJolCXJ9/lmmE3dSQFRRcNtxEq+b9kZnq6JVjcjHkXvblMKQd9Qpr5MyBUK8Q06UQ8+Qhpt8LB/Sr+ZLeeehzyefFmnp0iiVFIu4bEaJKKN5usQYZUoX8IFefcLEEBEWAbnnHLStVRvOwuuztph/JQVxsdndHRLyv4KJtQ2MxJQ8eXNyJseL00swtktL9PhuA67F6cIw/RhfHrJXbd8ZlTOkfZqKVsShYwvb8q8QHJRpNHNiEELiysPWVoefldjCPDoYQZkGIScGBSPOgk9PhVoolEGHsftCCbTp0z7j+DXyycq9bcp4Gy6PV8FByNjCExEUEgeLCrbie1LYPqRfzZfyzkOfTz4tJZyqwl7lhydZBpKqEO/9FKEWjnA0KZyDjkynBIw7LoDbZQ9cEl9et+7CfU5rMUdGMh0dKFM/7HJwwqW5GDbdAzbjdsDNbQcWT+kMB930AboEOiWoPQiKWOBaCfWcy+D+ZS/Ei0mCWE9PPCrngro2Mp6lAZxL34OXV/onEcfCy/MhyrnUgzXdsy4ECjzZsxe3zDqjT/P3OrckxVjubVMHFes7o8w9T1zJkMUTXg/KwbmejZhACtuH9Kv5Ut556PPJp0VarjXaOofD7dgdZDgnUgXj5LGbMG3l+h++UyEGgnkagiJDxYpWSA54iWhDY5QyFl8lpZCVzC6AFPJbIMaXB9dpd/d5sB314AoeRGRz+TgDOW4ePQt0m4qJHe1hKCSpUpGqym1F32d7io9CD1xVKYlIiE9CioKBpSQhISER8jd3iXRRd8DnMHNbhiXnwnh4xEOkUDcsWX4R1r37wlmorLp10a+XOdz/WoILYeocCHVbhJUXrNGrrwvoO0KFINELO//1Q+XufeCiHqtDPg0qpCQmICFRDgVTITVJ8/fb5pt729StNwA9zd2wfPF5aLKEwv3PFbhk0xt9XKj1Fpz/XnZIuYYVQ/vjm5W3hHf5VN556PPJp0Vqg94TBqDE3p8w68AzzS+oqaJwZelELHvcCN8Or89rzQeS6EFfV47ExExDU7KlA/sOHeHksxsrjwZCuP6rjL6NDaM74Ku/vTVZMtDkd/Teh80eml/HSnl5GLNHT8SGa7GaLDmSwMhYH68e34V/shJx/pewbuJ8nIxW4Z2x63ttTzEiPs+1kCiY34qezKliJeaQ9nLoxBbdT/+U4WT2dOcE1qFWDdagaVNWv1pt1vH7Pcwn/fN1k56yXePbMZfq9ViLpnVZrVqubNJuHz4lKXhKFnlgFKtXtT9b709PB/+kKHzZqh6V37Zd/nLq+Cd7kL755qFtJj/dyb5vW5vVrtuUtahTnbm0n8j2elPrLVD5UXZJp9gPzg6s0WQ3MYHLl/LOQ59PPjFy9vzILNa/YS3m0rgNa1OnFqvnOoZtuBHz9uH92Tx8P/nYOFa32SzmlVPdUYazI2MbsBp127Ae3SayPS+eZflRgMjtg1nNzkvYE3XbSGbe+6awrrVrsaZt27Am1WqyNsNWsevROf2EgJjf2YW16ejKmn3WiA3604NFCtmz+QGC9MtShp5g09vVZNWq12DVq7dio1ZsYD+2qMG+3hnJPwxhmwdUZ31Xiz++kCbz9gTmtF7Fi0T4R4xhixRFbCB8/CIAcwc42hgj6w0jBeICvKHJ4gRrE7qlREjRkIe2qYhDoLcfImAGBycbGFPzLSLeVXaJcJ/yOfY32o6VvcqJaYL8Ke/c+3zy6ZEjytcbEQb2cLQyzJ9bxMpY+D/wRbyJA5wqlc7TXVpVUgSeeQcipSxfD1sT5DbSVJM/CCpLRziav8c3DOVReOYTAT37qrDK62QfsD3arsgGroQQQoqQpPOYMegM2m+di5bqQXiEEFL4KHAlhBCSuzhvXPE1RP061nQ1lBDy0VDgSgghhBBCtAI9gZMQQgghhGgFClwJIYQQQohWoMCVEEIIIYRoBQpcCSGEEEKIVqDAlRBCCCGEaAUKXAkhhBBCiFagwJUQQgghhGgFClwJIYQQQohWoMCVEEIIIYRoBQpcCSGEEEKIVqDAlRBCCCGEaAUKXAkhhBBCiFagwJUQQgghhGgFClwJIYQQQohWoMCVEEIIIYRohcIPXOVhuHNkNX4ZOxKz9j2DUkxOL8nnCBaM6I62jZugXfeRWHjUD3LxM40k+Byeh1HdWqN54zb4fOQCHPPNmIPPBEfnjkTPVk3QvHUPjJ5/FH7J4mfkP5GH3cbR1bMwYeQM/Pss2xLMvXyIVsqXss9D28y9DyDvK/eyy+qj9cX5UkeoH9JmKUEXsG76NxjYvgUv368w6Y8DeBwnfqimQsSFpRjdtSVa9FsuJkXg4hJeb1o0w8Dl9zVp76IKx8m5o7DwVCSfWwErzGUVd6xQJbPLC/qzXn36MNfPqrCOv99lqeInaZSRp9iUpi6s54yd7PKdO8xjxzTWw7klm3Y2Oi0Hizw5ibV07s5m7fRgd+9cYjt/6srqtfiRub3JEslOTWrG6nWbwXZ53GF3L+1g07u4sDZTz7K0LOQDJXuw3/v1ZP17t2V1K7uyP+9mKcHcy4dop/wo+zy0zdz7APLeci27rD5aX5wvdYT6IW2mDDnKJjWvydp+u4advvWEPfTYw2b3cmF1+61i95PETKl32B+utVi/RV7MLyBSTFrIOtXsw5Z4+bLAyER1WgZJJ9mk+m3YbC+55r3Cn63tVY0NWBfAa0wBK4hlZd6eT0QhB64iZSDb2L9qNoGrgvms6Mlc+q1jzxRiEs/hs6o3c+6zhj0X0hQ+bFXP2mzgWj+eW5Tqw1b3qsX6r3muTlN4r2S9a/Vn6/3e5GCp3qtY31p92Vr1TMh/pQzcwL5wyuYAmIfyIdrtv5R97m0zD30A+WA5ll0WH68vzpc6Qv2QFotn56c2ZfUGb2Uv0lfTmEvs59a12aCN/prySzrOvnNuzn6+nKz+WJB8fDyr12wm83yblFHSMTbhs+bsl7QMWh+4ZtqeT0TRGuOqCsNlD19U69AJFWViGnRg17k9qjz2gNcrFc9yCZd9qsG1cyW8zWKHjq6OeHLpMqJVKoR5XIJvdVd0qvQmB3TsO6N9lce4fPmVmEIKQu7lI6aRYidf2mYe+gBSCD5aX5w/dYT6IS0WdwH/nk5F6y97oYKOmCYwaYz/9bbHvUPH4Bf5BJfdHyA8NRkht91x9ro/op94wP1BGFKTQ3DH/QxuvEwSJ9RQRQvTPESEIhnBt9xx+sw1vHiTRYWIWwewdtFirD5wG1EZ6kccvN13Yt3iRVi54xJeJIrJOUrLvxh/7/ZEYJZhMe9YljwUNw+sxdI/l2LjkbuIUojpkCPghhuu+ydCGf0Y7vsOwOvpo3dsT/FWtALX1GfwDTCGnUO5DCsmK+8AO4MA+D5T8Cy+CDC2h325DDlg4WAHgwA/PFOk4rlvAErZOcA0QxYL2NsbIMD3mZhACkLu5SMmkWInX9pmHvoAUgg+Wl+cP3WE+iHtleJzB4+SnODirCempJHBxqU2yvrdwb3n13Fw5wX4J8fjyekd2HX6IcKuHcTu8/5Ijn+MM9t34szDBHE6DVVoxml27DiNR/FC1KjEy3/HYvC0g3jOP7u2aAjGb/TTfP9GGYijU3rji1mH4B0dgZvrv0XfERvhnSJ8mA0x/5e/HsezxAT47JiAviO3wOdNfXvHsuJuYuVXPTBu033EpcTi7prh6D5iO9TD0VXRcF80Hr/v2YeZvb/Az1vOwfvZtRy2p/hL36o/Pl44MXEGKGUsERNE0lIwMohHTDTjWWIQZ2CMzFkkpUpBP55Pz8/yo6PjYGhsjIxZJChlZIB4Pj0pOLmXj5hAip18aZt56ANIIfhofXH+1BHqh7QXCw/HKwMzlCuVNTzRMTdH2dRIRJl9gT/WjUF9IzO0+XE91k/vgqqD/8SabxvAyKwtpmzYiJ86mYlTaehU+1+GaTZvmoFO5pplSCoOxppDWzB/+gz8OtgJDy5cgVA7Ey+twu8nzTD2n234Y/YCrP9nKmre/xtr3TMGxWnU+U9b4/ttmzF/xiws/mch2sWcxUXft2dKOS1LGRsFea3vsGn3csya9jOWbJoIpxtbceBh2rQKPNuzES97bcbxI3/hq05Dctye4q6IbaUKSiaFTJp5tWQ8TfiM/6lUgvHPs2bhaSolnwOfC/9HIrzXfPKGjKcx4UNScPJQPqSYype2mYc+gBSCj9cX50sdoX5Ia6kUCiilvCzF9xnoyKADJRSp4vt8IYNt3UaooKv528BIn5/4RCBSkYLHl68i2rkrutlrxixIrVzRtnYC7lx/rH6fkSZ/fJ3OcLUV196kDWYf3ophVdPGPOS0LP7O1hUTpw+Ek74cYffdsGf7ZYQoYxAVpVRPyUN6JFn3xsxRn6GUmPKpytysPy6JIYx4oSUmZepWWBIS5fr8bJqvsJERDOSJyJolCXJ9/plECkNeGVJeJ2XqnHihJ8qhZ8hnQgpM7uUjJpBiJ1/aZh76AFIIPlpfnD91hPoh7SUtXRqlkmIRl81wDmU0T5cYo0zpAi5A9QkyQ0RYBOSec9C2Vm04C6/P2mL+lRTExWZ3t0DI/wom1jYwElPy5M3JuBwvTi/B2C4t0eO7DbgWpwvD9GN8echetX1nVM6Q9mkqWoGrji1sy79CcFCm0cyJQQiJKw9bWx1+VmIL8+hgBGUahJwYFIw4Cz49PyOztS2PV8FByDiXRASFxMGigq34nhSE3MtHTCDFTr60zTz0AaQQfLS+OH/qCPVD2quEU1XYq/zwJMtAUhXivZ8i1MIRjiaFE7rIdErAuOMCuF32wCXx5XXrLtzntBZzZCTT0YEy9cMuBydcmoth0z1gM24H3Nx2YPGUznDQTR+gS6BTgiquoIgFrpVQz7kM7l/2QryYJIj19MSjci6oayPjWRrAufQ9eHmlfxJxLLw8H6KcSz1Yy3RQsb4zytzzxJUMWTzh9aAcnOvZiAmkIORePmISKXbypW3moQ8gheCj9cX5U0eoH9Je0nKt0dY5HG7H7iDDeYcqGCeP3YRpK1fUKimmvTcxEMzTkCMZKla0QnLAS0QbGqOUsfgqKYWsZHYBpJDfAjG+PLhOu7vPg+2oB1fwICKby8cZyHHz6Fmg21RM7GgPQyFJlYpUVW4r+j7bU3wUeuCqSklEQnwSUhQMLCUJCQmJkL+5naOLugM+h5nbMiw5FwahqBWhbliy/CKse/eFs1BZdeuiXy9zuP+1BBfC1DkQ6rYIKy9Yo1dfF6iz1BuAnuZuWL74PDRZQuH+5wpcsumNPi4fXOOJmgopiQlISJRDwVRITdL8/bYIcy8foq3+e9nn3jbz0AeQD5BL2SEF1/8aioHDV+GW+kJX4fXFKdf+wrB+I/D3Tc0VtnypI9QPaS+pDXpPGIASe3/CrAPPNL+GporClaUTsexxI3w7vD6vAR9Iogd9XTkSEzONIcmWDuw7dISTz26sPBrIW4gwVOE2NozugK/+9tZkyUCT39F7HzZ7aH4dK+XlYcwePREbrsVqsuRIAiNjfbx6fBf+yUrE+V/CuonzcTJahXfGru+1PcWI+DzXQqJgfit6MqeKlZhD2suhE1t0P/1ThpPZ050TWIdaNViDpk1Z/Wq1Wcfv9zCf9M/XTXrKdo1vx1yq12MtmtZltWq5skm7ffiUbyU/3cm+b1ub1a7blLWoU525tJ/I9np/Wg/pLRAKX7aqR+W35cdfTh3/ZA/SF2EeyodooXwq+9zbZh76APJ+ci27ZHbqOxfmWG8Kc0/7ZaK8lEM+lHfyye9ZPfv67Ee3dGn5UUeoH9Jicvb8yCzWv2Et5tK4DWtTpxar5zqGbbgR8/bh/dk8fD/52DhWt9ks5pVTISvD2ZGxDViNum1Yj24T2Z4Xz7L8KEDk9sGsZucl7Im6bSQz731TWNfatVjTtm1Yk2o1WZthq9j16Jx+QkDM7+zC2nR0Zc0+a8QG/enBIoXs2fwAQfplKUNPsOntarJq1Wuw6tVbsVErNrAfW9RgX++M5B+GsM0DqrO+q8UfX0iTeXsCc1qv4kUi/CPGsEWKIjYQPn4RgLkDHG2MkfXOjgJxAd7QZHGCtUk2934UcQj09kMEzODgZANjuj1UiPJQPqSYyp+2mXsfQPJTottU9N7bENtW9crwDNUC74sT3fBTz31osGMlPk//3NV8qSPUD2k3OaJ8vRFhYA9HK8P8uUWsjIX/A1/EmzjAqVLpPF19VyVF4Jl3IFLK8vWwNUFuI001+YOgsnSEo/l7fKNUHoVnPhHQs68Kq7xO9gHbo+2KbOBKCCGksCThwk+DcMZ1K+a0Vo+wKzRJ56Zh8BlXbJ7XSjO2jxBC3oECV0II+eTFwdvLD0YNXGBVyBcl472vwNewPlzoG1OEkDygwJUQQgghhGiFovU4LEIIIYQQQnJAgSshhBBCCNEKFLgSQgghhBCtQIErIYQQQgjRChS4EkIIIYQQrUCBKyGEEEII0QoUuBJCCCGEEK1AgSshhBBCCNEKFLgSQgghhBCtQIErIYQQQgjRChS4EkIIIYQQrUCBKyGEEEII0QoUuBJCCCGEEK1AgSshhBBCCNEKFLgSQgghhBCtQIErIYQQQgjRCoUfuMrDcOfIavwydiRm7XsGpZj8Tkk+ODp3JHq2aoLmrXtg9Pyj8EsWPxMl+RzBghHd0bZxE7TrPhILj/pBLn6mkQSfw/MwqltrNG/cBp+PXIBjvhlzZJWHafJl3bSLKvYeds36Gr3aNEPrjgPww6rLCFOIH6p9yL4m2kAedhtHV8/ChJEz8O+zPLXe/GmbeWhnWeQ6TQEtt4gqXmWXT+uWRf5sz4f0+blOU0DLLWpU0Wfx54ihGDZ0KIYPHYEx46dizvK9uBqYH1uiQvTZ3zFm7olMf+c/VfgFLBvZDW2a9sfK+/wAqYrAxSW8/Fo0w8Dl98Vc76JC+Il5GDP/NKJUYhLRYIUqmV1e0J/16tOHuX5WhXX8/S5LFT/JkTKSnZrUjNXrNoPt8rjD7l7awaZ3cWFtpp5l0W+ynGJTmrqwnjN2sst37jCPHdNYD+eWbNrZNzlY5MlJrKVzdzZrpwe7e+cS2/lTV1avxY/MLS1LFnmYJl/WTcskP2Rr+tZhzYcsZke8brGrB39ng+pVZR3nXWOJ6gwfsq+JVkj2YL/368n6927L6lZ2ZX/ezbX15k/bzEM7yyLXaQpouUVVsSq7fFq3LPJnez6kz891mgJablGkDNnEBjk2YsP//Idt37qVbV6zhP32TSdW/7Pu7I/LMWKuD6VkIZsGsFq9Vmf6O7+lsrsLO7DPei9mV3wDWCQ/OKbeWcg61ezDlnj5skAhIYtkdur7Bqz9r15Mrn6vYP6re7OafdezQKU6gYgKOXAVKQPZxv482MlD4KrwXsl61+rP1vspxBReAbxXsb61+rK1z4U0BfNZ0ZO59FvHnr3Jksp8VvVmzn3WME0WH7aqZ202cK0fzy1K9WGre9Vi/dc8f5uWXh6myZd10zLRB8ew+q1/YV4JYgJv/IGbBrKa9SYz9yT+9kP2NdEqysAN7AunvAQ/+dM2c29nWeU6TQEtt6grFmWXT+uWRb5sz4f0+blPUzDLLZqUQuDq1IEtupe+jsYyz1ltWM3/vC2FFbgmsxPjXVirGZ78LzHl+HhWr9lM5pmWkEUyOz7OmbWa6SVOQ4FrTor4GFcVwjwuwbe6KzpVkolpgI59Z7Sv8hiXL7/iWcJw2cMX1Tp0QsU3WXRg17k9qjz2gNcrFc9yCZd9qsG1cyW8zWKHjq6OeHLpMqKzuQyf+zT5s27aRQVlxfYY/+OXqGcoJkGKcpXtUDo+ClEpedlvYhop/vKlbeahnWWR+zQFs9xipAiXXf6sm5iWTr5sz4f0+blOoyiY5WoVYzjXqwrZy2d4kTYsLc4b53auwdI/V2DXpRdIFJM15Ai9cQDrFv+JZeuP4F5khrFsWahifeHldgtB/Bj2ViL8r7rhdmDO08Z7u2PXmqVY+vcOuD2J47WXU0XjqYcbHoalIjnkNs6duYr7dz3g/iAMqckhuON+BjdeJqmnf0Oc5lG4AsnBt3Du1Blcf/E2jzLiNg6uXowlqw7gTqZxA5p1WILFy3fA40XGvVBcFfHANRXPfQNQys4BpunXVGYBe3sDBPg+41mewTfAGHYO5TJsjKy8A+wMAuD7TMGz+CLA2B725TLkgIWDHQwC/MCzZJH7NPmzbtpFClPnnvjS1YF3iWkUeHb9HmLsqqOqQV72m5hEir98aZt5aGdZ5D5NwSy3GCnCZZc/6yYmpZMv2/MhfX6u0yQXzHK1ihxPH/lBZVMJFfjBRxl4BD/16o9fD/kgJuIGNozphVEbn0ITd8bh5vKv0GvMZjyITUXsnbUY2WUkdvjlPK5bqvMM/04bixUe6QK/WDcs/nYRzsWI7zNQIujIVPQd+BtO+L1G0otTmD/oc0w9GAClKhTXD+zCxefJiH9yGjt3nMb1ywew+7w/kuMf48z2nTjzMEGcjyjzNNs0eRj/SPliP8YPmobDvB7EX12Mr7/dBM0QdXEd+v2MI97RiLy5AWM/H4nNTzNE38VS+jpeBKkQHR0HQ2NjSMQUDQlKGRkgPprXKH6mEhNngFLGGXNAWgpGBvGIiWY8SwziDIyROYukVCnox/PpszsJznWa/Fk3bRd/cwV+3hKFdmP+h+q8Q/mQfU2KqXxpm3loZ1nkPk3BLLcYKcJllz/rJiakky/b8yF9fq7TKApmuUUZS8Bzr5M4cfwojuzdjGVTvsS321Xo/W1/VJQlwmPlQpw0G4dN2/7ELws3YvPUmnjw9xqcF+JBZRyi5LUx/p9dWPbrT5j110Z8V+0Gtv37EDmG74bN0LklcPH4ZbwWkxI8z+K6aSu0q/r2Ms0biR74e8FpWE3cho2/T8dPCzbhnyl2uLBwBS7Kq+HLReswqqERzNr8iLWbZuLrMYuw5tsGMDJriykbNuKnTmbijEQ6mabZuhHTOptpyltSCYPXH+TLmYbpcwbD8f4FXI3m6ep1OIFy47dgy6LfMG/jFkypdR+rV59DprC42CnigStvj7yDkcikWVZUxtOY8CHv6JRMCpk0Sw6eJnzG/1QqwfjnWbPwNJVSc3k/szxMky/rprVUiLiwEF+P2I6SI1bgt27mmv3wIfuaFFP50zZzb2dZ5TpNAS23+CjCZZdP65ZFvmxPHtYti9ynKZjlFmEsGncObcamDZuxYdmfWHXeBMO37sbMNmUgTXkMz6uv4NytO+zUMaUUlh3ao1b8HVx/nMI32Qauk6ZhQFV9yMPuw333dngGKREb+eodTzEyQKMurSG7eAKX1VHfa3idvQqTlu2QXdya8tgDV+ProFNHG76HBVJYdeiEuq+v4fLD/L3iKatQFw0r6Gr+NjCEPj9JiYhUaNbhlQu6drfX3AGVWsG1XW0k3LmGJ8X8omvmWl7ESGFopI+U10mZOhqGpEQ59AwNeGs2hJG+HIlJGXOAJSFRrs/PNvlcjIxgIE9E1ixJkOvzzzKdpApynyZ/1k07KRF8YiaGTDgJq8nbsO7bOiglfvIh+5oUU/nSNvPQzrLIfZqCWW4xUoTLrtj1+blOU0DLLcqktvh8wS7s2b8Pu3/vDevYcLzWLaUJWFThCIuUw2t2GzjXqq1+1WkzF1dT4hAbo4nQ5S9OY+normjT9TtsvBIHXaO3Y4Nzot+wC9roXsLxC3FA0lW4exqiefuaKCl+nh4LD0O0sRVsjMQEgYE1LMtEITws5/A4fzD+n2YdIuWemNtasw+cazmj3dwrSImLzfaOQnFSxANXGWxty+NVcBAyPq4uEUEhcbCoYAvo2MK2/CsEB2V6oF1iEELiyvPpdSCztYV5dDCCMo2HTgwKRpwFnz6bM6rcp8mfddM+KkSenYWhs+6j8Z/bsXigE/TFTwQfsq9JMZUvbTMP7SyL3KcpmOUWI0W47Ipdn5/rNLoFs1wtodugP7pXfoqDe26Jz6SVoYSOMToscMelyx7i6yqu3zuP2a11gYRLmD9kOjxtxmHbeTdsWzYVnSrrZRpmkQ29uujczgiexy4g/OpZeOq2QLva2YWtnKwEZEqFOKZWxJRQKHnd0ymksIqvQwnjjph3Lm0f8Ne1m7h1YS5a6Yl5iqkiHrjqoGJ9Z5S55wl+0vRWrCe8HpSDcz0bnqUS6jmXwf3LXogXPxbEenriUTkX1LWR8SwN4Fz6Hry8MswEXp4PUc6lHqyzORnLfZr8WTdtowo/itkzLqLGz2sxrZ2VeJvkrQ/Z16SYype2mYd2lkXu0xTMcouRIlx2+bNuYlI6+bI9H9Ln5zqNbsEsV1voOKFXLxeEH9mFC7HC+4qoYJWMgJcxMDA2RinxVVIqBLSA/PoxuKEbJk/uADv102+USE1Rqa9SvpsunLu2Q2mvQ1h50AOy5u3hrLlDn4WsYgVYxvjCO/Tt1VVV+FP4vbJExbePdXhvmuA6b+M6hHWwSg7Ay2jDN/uglLEupDygLe7Xhwo9cFWlJCIhPgkpCgaWkoSEhETI013WTrn2F4b1G4G/b2rOZXTrDUBPczcsX3xe8+tMilC4/7kCl2x6o4+LcDaki7oDPoeZ2zIsORemHnytCHXDkuUXYd27L5zVWeqiXy9zuP+1BBc0M0Go2yKsvGCNXn1dNLcCUq5hxdD++GblLeFdnqbJl3XTKnLc3bgSl+y+wqjmBngdF4f4tFdCkmbge172NdFSKqQkJiAhUQ4FUyE1SfP32+abgut/DcXA4atwS91886dt5t7OPqDfyKflao9iVHZa3+e//77On+VqKxlsuvdF05Sz2HsyDCodB7h2rArf3ctxPEDYgUpE316PMa7/wxpvBSQ8gNOPeoy7/nIoY/3hsXYiFp6IhorX+9yUrNUF7cpdxK6jSjRxrcv3avZ0HDrA1ekp/t3goflVK1U0rm7ai0cOrujg+OFho56eLuRJr9O1y5yp16GqD/auOIZA9W6Ixp11o9D5y9Xgu6F4E5/nWkgUzG9FT+ZUsRJzSHs5dGKL7r990HDyye9ZPfv67Ee3t0/pTX66k33ftjarXbcpa1GnOnNpP5Ht9U7/FN9k9nTnBNahVg3WoGlTVr9abdbx+z3MJ32WpKds1/h2zKV6PdaiaV1Wq5Yrm7Tb583DgVnSKfaDswNrNNlNTOBym4bLl3XTFsoQtnlAlbdll/5VZTDbGSnmy8N+I1pI4ctW9aicodydOv7JHrxpvsns1HcuzLHeFM2PUajlQ9vkcmtnH9Rv5Ev71hLFrezyY90+Wp//Yfs6X/aJFsj+Bwji2dnJDVmNz/9mvsIPECR5s/2TO7E6tRqxDm0aslo1WrKRq66xaOFB/cpQdvKn9uyzKjVYbccarM3IlWzj5Jas9pCdLDLXHyBIZfd+d2VVG0xh57L7cat0kr33sR87ubB6LTqzbi1dWF3XH9jeJ2kTZf4xAZ5ybByr22wW88qxPJQs4tBY1tipHmvfpTubtOsFe575Bwgit7MhVbuwpY81+0azDp8x54btWPsG1dlnLYaz1dei+ZyKN4nwjxjDFg2Jbvip5z402LESn6d/np4iDoHefoiAGRycbGCczdV4RWwgfPwiAHMHONoYZ7mNzXMgLsAbmixOsDZJnyMR7lM+x/5G27GyVzkxTfCuaUT5sm7FTR72Gyl2Et2movfehti2qleGZ07+t7Ypelc7++B+I3/ad3GgfWX3X9ft4/X5H7yv82WfFBcqJIU/g09gCso6OMLGJP2VTjmi/HwRqW8HJ6v3+WZaHE5P7IA5Jefj5IJWyHVKVRIi/LwRAktUdjCHQbqy/DBKxPo/gG+cCRyqVkLpvFwpF9chMMUU9rxOZNgNxVSRC1yTzk3D4DOu2DyvFd78OFNhSDqPGYPOoP3WuWhZqAsmpLhIwoWfBuGM61bMaV24jeij9RvFxidYdh+tz/94+5rkQBUJn9u+8L+5DQtXBaPXjj0YIzyYnBRJRS5wjfe+Al/D+nAp7G/xxHnjiq8h6texLsZnqIQUpDh4e/nBqIELrAq5EX20fqPY+ATL7qP1+R9vX5McxJ3Gb4MW4aZRVbQbOQWjW1sX+y84abOiN1SAEEIIIYSQbPznERmEEEIIIYQUBgpcCSGEEEKIVqDAlRBCCCGEaAUKXAkhhBBS9KnCcXLuKCw8FZmnh/ST4okCV0IIIYQUfSwJAbcu4k5AspiQH+Q4PbEhXH+7As1vt5GijgJXQgghhHyylIoUpCp4XCy+J0UbBa6EEEIIKVLivd2xa80SLFm5G14BcjE1jQoRtw5g7aLFWH3gNqIyjBuQI/TGAaxb/CeWrT+Ce5FpP9wvR8ANN1z3T4Qy+jHc9x3A1eBIPPVww6NwBZKDb+HcqTO4/iJJzE+KKgpcCSGEEFJEKBF0ZCr6DvwNJ/xe47X3TnzfayT+8UkLQJV4+e9YDJ52EM+T43Ft0RCM3+jHUwVxuLn8K/QasxkPYlMRe2ctRnYZiR1+/FNVNNwXjcfve/ZhZu8v8POWc/CJCcX1A7tw8Xky4p+cxs5tO3HmYQKNny3i6AcICCGEEFI0JF7AjPbfIXjMEawbZAMZYnFu+mBsrrQQG77Wx6Z+rthiPhfblvZBJV0lAtYORNdLPeC+dRBMlYE4veQfvOr6PQZU1efBagR2fd0W/9TYhsM/mGP7oJb4y8cS1YYsw99jP0Mp9QLlODG+EX4v/TdO/tYIuuo0UpTRFVdCCCGEFAkpjz1wNb4OOnUUglaBCVrPPYQtI6qKP8Mqg23dRqigjjBlMDDShyo6AuoRATIbuE6apg5a5WH34b57OzyDlIiNfCVekWVIsu6NmaPSglaijShwJYQQQkiRwMLDEG1sBRsjMSEv0t03lr84jaWju6JN1++w8UocdI004a+GDqq274zKmgiYaCkKXAkhhBBSNMhKQKZUfNijqRIuYf6Q6fC0GYdt592wbdlUdKqsB4n4MfhfOiUoatV2FLgSQgghpEiQVawAyxhfeIdqbu4LVJEPceV+BNK+npUT+fVjcEM3TJ7cAXaGQooSqSmqXB9zpQls6es+2oICV0IIIYQUCToOHeDq9BT/bvDQPOYq5SWO/DYak9dfQ2wuX/eXGBtDP+ox7vrLoYz1h8faiVh4Ihoq9u4J9fR0IU96TU8T0BIUuBJCCCGkaNCpimF//AznG9+jY+vO6NSyB/6I6ImFszrBNJeIpaTLMPzQNQorutZFnQZd8fPN2vhfT1skRoQjQcyTVQnUbFYfOPITenTtgcm7gyiALeLocViEEEIIKVpUSYjw80Yws0QVR3MYiMm5kyPKzxeR+nZwssrrVErE+j+Ab5wJHKpWQumSYjIpkihwJYQQQgghWoGGChBCCCGEEK1AgSshhBBCCNEKFLgSQgghhBCtQIErIYQQQgjRChS4EkIIIYQQrUCBKyGEEEII0QoUuBJCCCGEEK3wn57j2rVTZ7zw9xffEW1TuUoV+Pr4iO/Ip8SxqhO8nzwV3xFtYmFhgdDQUPEdIUWbs4sL7ty+Lb4jBNi2cwc+c3YW372//xS4JiUlQaWiH0fTVhKJBPT7E58mCf+P8f+I9qF2S7SJhL+otpL09PX1IZV++A1/+uUsQgghhBCiFWiMKyGEEEII0QoUuBJCCCGEEK1AgSshhBBCCNEKFLgSQgghhBCtQIErIYQQQgjRChS4EkIIIYQQrUCBKyGEEEII0QoUuBJCCCGEEK1AgSshhBBCCNEKFLgSQgghhBCtQIErIYQQQgjRChS4EkIIIYQQrUCBKyGEEEII0QoUuBJCCCGEEK1AgSshhBBCCNEKFLgSQgghhBCtIGGc+PcHSVEokKpSiu/IfyGVSKBfoqT4jhBCCCGEpPefA9dF587i2OOH4jvyX5TRN8D+oSPEd4QQQgghJD0aKkAIIYQQQrQCBa6EEEIIIUQrUOBKCCGEEEK0QgGMcZWgUrU2+LqSAf8re6rEZ9h08SH8c1iytEx1jG/oAFMWjkPuV3EjVfzgDQlsnFpihH0psMh7+OX6CzH9Q5REJXtn9KlaAZWNdJAUH4GbT25h//NoJIk5cqJrYoden1WDs2lplCuhxKvoIFy4fwvHQxOhEvO8j4Ie46oIv4bty/7Goat+iNW1hnPHEfhuZBvY6ooZioAis46qGLgvnoEbNX/GlI5mYuJ7UoTCc8vf2Hn2Oh5H6MHOpTl6DB+Brk5GYoY8Ur7Awd9+R6DrnxjbVF9M/JhUiLy8Ej//fgCP9Hvh3K6xYnom6bb/UagMlrXbYsgPo9GuwkeocPlRnpwqxg1Lp99AzZ8nw9WczvsJIaSwFUDPK4GxqS0a29mjaQ6vJtamKJVTVMtJdcvCpRLPW8kC5bNdQwmMytigCZ9XYwtjMe1DlMRnDT7HXx0ao3MlaziWK4/P7Gri644DsKSRNQzFXNnRMXXB3F7dMKJmFdS3NINdOQvUrVIX33fvjW95lPWOzfs4ErywcNDX2BRWH6MWrcNf07pB/9QkDJl5GhEfEmUXhCK1jskIuHkON14kiu/fkyoMp34aiDFbI1Bj8G/4a9EEtNW/iF8GjsC6h3IxUx6xODy7cg53g7KcwX0cigfYMnsdIlvOw4Y/BoiJmWTa/lWrZ6KHkRumDpiCY+Efo8L9x/IUSSU60DXQhY66gctxemJDuP52BSnqTwkhhBS0AghcVXj55ALmnj6B2adPYv2zeAgPy1LG+2LtGSHtBOZefoyXRSBYkhjZo2c1MxiyBHh67EG/DZsw/V4EPwiVRJVa9dHaQMyYRUk0cakHZ30JlAnPsGL/evTYegSHXvEt1SmDzi5V8eHXdApGwrnt+DemPX5cNAaunzmhRtMv8MuSkTA9vhj/PFCIuT4ubVjHvHp9cRnmn7HFxM1/YVSneqj+WUsM+GUTFnUKw+p5u/BSm58gpwhCYFhpVGvkAnvbcmJiRpm338mpAfr+thzjKp7DkrW3tDfQM2mJb//4Dm3MNF2nUpGCVF41/9NtK/JRJR06pH4RQrSD7BdO/PuDePk/g09khPhOIzkxBv6vovgrGgqzGuhkqc+PZH7YdOkObgjpsYlQ6pdHi+q10LFKZTS2MoO5NAkBsckQwhOpUQX0qGoFE8TgypNYVKrpDFfbMijxOgqByULEK0E5m1robGkAFvcc27zD1csFSsCmQg30rFENTfk8LUumIIQvK8frWymRuPDwMe6E+eOUdyiilHIEJxmhZVVrlJWkwMfnIe5kO17AAHaW5WGhK0O49zks9Y6BPCUOKWWqo115PUhZNDwfvkDYex7N9EuUQH+XuuK7/KRCzNUd2HDHHH2GtUEFHU2qtIwdHOwsYV+lCiyNxHOYBF9cPHgAR91u4kWiMSrYmUJzYzcR/tcuwldhCuWjw9i11x0PI3RgbmcFw4SnOLt3F45ceIxEU0fYlS2hnkJNnN+R01fxglnwQMeEl1J28rqOKYi4fRx79hyH55MYGFa0h7m+Zt0T/a/hko8CZVWPcWTHPpx/EAlZeTtYGSbA+8w+7Dp0Hk8Sy6GKfVm+DnIE3LgA75RykPidwr4D5+Gbagb7CqU168dPZu7++w98Kg1C33ql1fPP+7YkwG3JTLhX/h4L+lfhpzkiiR5sKyTg9JLjUHXqi3plU8V1sIAF88X5Yx4IL+sIG2E743xwbv8enLoVCT0rQ/gd3I/IOsPRvYamNBJ8LuDwgcM4c/UFmIU9bE00ayIPuIGLT1NQ3oLB79wxeISXRVUbYWhCAnzd92L3ATfcfJ4EkwoVYar3rvsCPP+FQzh4hOf3T0KpCpVgyhetin4Cz0seOH/qHlJsKkFfogt7axNxmjQ5bL/UGLa6QfB4WRYtWjnCSL347JcjeL/yfLvtppJnOL3nAC76pKCcQwWUFj58j/JMenkdF25EQK+iBUoJVUsVC28vDzxXWcJKLxQ3LzxFirkBwnh7uHzuNO7JbVBRNwZRybwPux8IqY0ljGXqJXC83Vy9iOeoAEtjsY2RIoElJ+NVnz54vX49ko8fR8rVqzDo21f8lBBSVH2UnlRaugZm8Q5iZrOG6Ff7M3xepwkmdhmIvxrbZLw9LymP//XsjakN6/KDTSvM7t0HI21yug1vgIbN+mJ1lzYY4uyMPnWb4ruO/bGqjeO7r34q4nHvRShe8bnqGZaHa63KsJEynhyMO7E5RZ7xOH/5IMbs3Ijx18M141ll5VDH0pDvUAbl63iEF6lLMFKU5QGxfcRh/DH/OJ6l3S2VmqJO525wKa+JEpVBxzCt10D8etgbcfHPcOK3L9Bn8hEEqi+ZR+DMwjEYM7g3Riz2RJQqHlf+GoIBQ8dh+BcTseNODFICD+GnQdNxMlpzOV0zv36Y9e9jRIZexdpvemH0Zm/1yUlWeVnHBNxa8RV6jlyH26+SEHV9FYZ1+ga7/NQriIhTv2PsqK/Qb+hieEWpEH9lGYb1/RoThn6BSdvuIDYlCEemDsLME9FCBAb3Rd/iu1FfYtSCM3ge8hC7JvbBV4uv8tLN6r22JeUp7t5PhJOLCzKPSJVVqIPaZf3456/FdRiP3/fsw8zeX2DWZjd4xzCoIs9hzsABmHXAByFPj+C34TNxJjLtFoUSwcd+RN9+M3DgcSTCrq7B6M+/wRZvYU1UiHZbhO8W7MH+aX3w5fQtcOcnVfysETd+H4gvZp9GED9YB56ei0E9JuJgQA6XfZVBOD61Nwb9fBg+cfF4fvw3fNlrMo7y/KrQ6zi48wL8k+Px5PQO7Dr9SJwonRy3XwrTbnOxbXYXzRCgdyznvctT3PZx40Zj8IgFOPs8GA93/oD+g5bgWpyw7IzeVZ660ufYN2UoZuwMUN8tSry+DONGb8JDVlI9xnXJuN9xJiwY1w/swsXnyYh/cho7t+2Em/cT/DttLFZ4pBuOEOuGxd8uwjmhGEiRIj9zBik3bojveLW9fBlyNzfxHSGkqPoIgasUjpWro6YeP5wGXcEP2zdhjOcLHiyUgH312qgvXmlTk+rBMOUl/r1xE5djFJDomqN3I2fYZRO56tk0xISaZtDjB7OtR7diyKHLuJ4kg1WVxuhv9ebyR7akZepi6bAxODJ4AKZULQNl1EMsPOGBO9lHWFlJjNGqZQf0NZVBokqE50Pv977aWtB0ao3C77+2Q8r+ceja+nN8t2g/7oSnv2GbiMsr5+O01XfYsmUhfpo+H+u3T0JFt/lYeYEHWWoSlGo4Ff/sXoppk6Zh4TcNEf0wAW1XHsCmRTMwZc4UdNH3woXbwlhMzfxOmI7Fpm1/4peFG7F5anXcW7kG7gmauWWW6zoqYxCRWB3fbtmNv36dhlnLN+K7qtfwz78P3wSQklINMXnHLiye8QN+/H0UGrx6iIR2K7Hvnz8x7cfZmNRVH1fO3RZz8xMU2y+xcudy/DbnL2xd0QNx6+bhn6eZC/49t0UVjrAoA5iZG2dtYDrmMDdNRVTYKzFBgWd7NuLl5xtx/OgK/K+qCrfXzMEe2f+wdtti/DpvFbYu+RzlUsUKleiBVfOOw3TcFmxZ9BvmbdyCKTXuYvVqdx7Wayj89mLzy8+x/tQR/DW4Kj9CX8e/B+LRdd5azJn2E+Zs3IW/vuuEGry+ZifRYxUWnrLEd1s3Y/706Zi7aRt+qOiOhcsvQqfa//DHujGob2SGNj+ux/rpHcWp0nnX9qfzruWkeb/y5CWqtMWg1TuwbM4cLN2xHN3j1mH+lqfip2neXZ5SG36yPK4G7q5YhNPh3tj+5z5I+0/EgErp9pdOVXy5aB1GNTSCWZsfsXbrRh4Id0bnlsDF45f5qYJGgudZXDdthXZV03dspEiQZlM7Je+6C0EIKQo+QuCqwpMbe9Fr3Wr0O3YLL2VGKItUJPPjskRHF8bp770qg7H56BGsvOaBuR5PEK6SQMfUFnWyfGtKhtqV7WEmZUgKfozjYYmIiXyMM8HJUElLoZZ1GTFfDpTJCImJRWSKkocyEuiVsUNnh/IoxT/SK2uHLjVqoZv6VRNtLDI9LaFkefTu2Bs/OZVBCZaEezdPYKnP6yI45s0A1QYuxkH3f7FwkAPCD8xEv7Y9MGX3E83TE1Ie4/KVOLh06ggb8fgsteqAjvUScM0j7akRUpg7VkM58XNdQwPolqoAB0vxZrDUEEa68YiK4oGren6v4NytO+zUx2wpLDu0R63427jxJKcRjrmso8wGHabMxBfV9SEPf4Tze3fBK1iJ2MhX6itjAqm5I6q9WUEDGOiWQoXKluLtaikMjXQRH5UWNOqgYr2GsBJjCoPPuqC19VNcvBCsSUjzvtvCFFCopJBlGxfKoMPTU1PTvmjF66zl55gx2gXqrxkqnuLCpSBUce0GR/GWua5dfbhYamaW8tgDV1+5oGt3e772nNQKru1qI/72NTwVV4UlWaLnrFFwTruDLzOFWZlXuH7iAgKS+XupGRr17IAq2Y7hTsFjjyuIrdMZrrbiBgjL6FwXCdcuad7n5p3bnyZvy3m/8uQlWrEuGrwtUHRqawXvCxc079PkWp4y2H0xAyOseRD99fdY97I1xo10EYfMvIsBGnVpDdnFE7isPot4Da+zV2HSsh0obi16dNu3R8mGDcV3/H3LltBt00Z8Rwgpqj5C4MqVLIf2jTti6RfDsat/X8xpUpkHneJnGaQiSTwYJ4eF4oUQ3Er0UMYgc2ZdWJTS54cbCQzt2mHnsG9wcNhwTKuszzdQirKG7378kCruIRbu34aBmzbih+uBiOcBmHPdVuhrJoGxTR2Mb9kG36tfrTHEoTRfjobEoBJGd/8co+2MIUuNxMlz+/Dj9SBkc2eyyChp9hm6jf8TO86ewuovDOE2cwJW3uY7WbhK9soYVrbp95UBrK3K4lVYmPg+LxgYU2nmFymH1+w2cK5VW/2q02YurqbEISb63WF9juvIyV+ewbIx3dCmyzis94xGScN3RkfZyvEJcCXtYWcrQVhgkJgget9tkZaGiVESYuOyeQqAMgYxcbxelRbHWfLws6prF1RJC2wUwQgK04Wtvc2bepYeCw9DpNwTc1tr1sO5ljPazb2ClLgYiCM0oFPNFZ0c00VKOrUwYu73qOQ5CZ2bd8WoWRtw3j+nh70xRIS9gom1DTLUBGtrlH2VNpY8F+/a/jfyYTminJ/oVxL29raQhH5AeZasiq8m9oDkkTfM+g6Ha7m8dZX6Dbugje4lHL/Ae4Gkq3D3NETz9jXfjvMlRYakZEmY7t+PMqtXq19lt28XPyGEFGWFH7hKjNG1XS9MdbaHdUoA/vU6jVnnHyEobQhfDiRSIQTlmAJyReYDlRIpSh4wQYVI/ytYwAOeeeleK55EivkykugYoJKVPZpbCGNTOVUi7ty+i+spjC+vDCqblsDrsCfYeeMatqpf13E4IF49plWiXwEjO3dEb/OSYIkvsf7IXvzx9BWEC1pFTxLCHl7Bg+B0Yxr1bNHmhxnoX8EfHpf8eYIMJXRUUIgnChoMSoUCOjofcrlImJ8xXOedwbmLF8SXJ7xuueHnltldu8rDOiZ4YMGQabhsPRbbzrth27Kp6FRZL+MV8P9EIs4r8xzfc1tKOKKqvQrPHvtk+fa8Ku4pvMMs4Fg17XKoBDol099mENaB/5fTRslKoIRxB8w+m7Ye/OV1Ddfcf0ULPU0WiQ7Po/nzDSOXoVh+2gNHlv4PVcJ34fvuX2Ll/ey/tijj5a16c0VYgylToXj3JdS33rH9KY+OYsuhu4jijeg/LycP0ko0o7yU52vcPeuJaH1d+J88gJtp9/5zo1cXndsZwfPYBYRfPQtP3RZoV5vC1qJMr2tX9YsQoh0KP3AtaYumNnqQKqNw0O0Y/r7zGA9TZDnchhOurmoOPAYWlqjE/2SKWLyMzxy4puBpeBSUTAKjEil44PMEZ719EVbKAW0r2cA2229Py+DSpD/W9eyKWW0boaH4LRK9chaa24csCREJSh64PsTma17YpH5dwb6XPHAVgu82ndBXCFpfv8CaY0exKyzzIboIUbzA7qlfYcLqq2/G3qlJ9aCnK+WBKQ8UdCqigkUMfL1D39x2hyoCT32jYVmxopjwHoT5WSUjMCgexmXKoIz4MihZEvrZHcfzsI7yG0dxlnXD5MkdYKceLqJEaoqKh9cfiiElOfnt9PJHePIMsKlkKyaI3ndbpGZo1d4ZYW5HcS/DhU0VQk4cxy3TljkHMzoVUME6GX6P/d5+8UslR7JYvWQVK8AqORDBccZv1qNMGQOULKn/zqt6KhWPFKXGqNS0P35YtQPT6vvhxKnsvlwmQ8WKFojxfYrQtxUBEU98EW1VSXyfixy3PwFeWxdg8Z67kOfHcrLB5MmQvy1QPBYK1DZT/c1DeSq8/8Hi/SXxxZql6K3YjXl/38726SSaniV9DdSFc9d2KO11CCsPekDWvD2ccx9jQAghJI8KP3BVJiBSGNAqNUGTOk3xTeteWNnGEZo7cZKM4+Jk5fFF5574oUlr/NrMEaZSFV75++BmljuQDP5P7uIKP0jqWTXG/M6t8U2LrvixrgMaVDRHyeTsbosqcefeTdziH8lMauCX/oOwpHs/rO9aB3Z8HV6H38eR9Ff/0pPow6JUSfXOkxpUwDe9R+HMqHFvXicHNkfNwt+zOdNxRJ+v2yBx9wzM2vtU/BJPAp7uWozdzx3RqjU/sOs4wLWjE7z3bsRl9TfYVYi+shH7HjmgfUdH9RTvRT2/qvDdtQInAoSoS4no2+sxxvV/WKP+BnwmeVhHSalS0It6jLv+cihj/eGxdiIWnoiGShia8EEUeLRtIbY9EJaWBO/tq3A4ugE6u1pqPk7zvtvCa4ZN33EYoLMXP00/gOfqiEeFKK9l+GHJYzQcOxz1cwpmdKqgU5caeLF7OQ694MtSxeLWmkX4119TF3UcOsC1qg/2rDiOQPWqROPOulHo/OVqZLsqnDJwL8Z2GILVd8RBLPJQBIUB5a3LZ9MB6MC+Q0c4eu/DZo9IvtZ8FaKvYPPeR7B37aDJkqvstl+JUPc/8Mdhhg6Du8FCmh/LyUrxaDt+/+ehuv4kPd2Ovw9Go0EXV82HaXIrT1U4ji7eiJC2EzCiSRuMn9wOkZvnYONjIW9Genq6kCe9Vq9/mpK1uqBduYvYdVSJJq518zA2lhBCSF4VfnileIHNF+/gYZIUlRzqol+V0gh+9AC31d/OKgXrN886ZEiN9MOFpHLo8Flt1DFiCHtxFfM8fbN9XBFLeIw/T3nCI1YFqwq10b+GLYzi/LD55GFsDs3+iK6KuYffDp/B/oBYKPRM8ZmNBSxkSfDz9cSsE9fhm2s8JNzSlUImzfSSZH+D8uORwqrXQqyeWQ/PFvRE88bt0LFZM/RZHIKWcxZhRDXhErMOnIb/jpku1/FD+zbo3qUtXMd4ovqMPzC8+ocMFdDM75cm3vi5S0t0bNsULf+3DTqDpmJg5ezml/s6lnQZhh+6RGFF17qo06Arfr5ZG//raYvEiHAx0H1fOnBsYoNzo9qgdcsW6LsiDt0WzkF/m8zN4n23hTNshIlr5qFZwO/oVb8p2rdsgLZjTsFszGos6GX9joYnQ5WvF+Lnli8wt0sLtG3RHlPuVUbDiuIZnU5VDPvjNzT2mYlu/DPXJs0wZJsOBv74BXJaFZlNB4wcYIj9X7VE687d0LHlVzhiPQHf9zDPdj10qg7Hgp9dcOM7V7Tv0gXt23wLzxoz8fvI6mKOPMi8/a0aof13V+H049+Y0aGMern5spxMdJwaw8Z9FNo3b4XWvVYirvsC/DrQRvw0zbvL8/WVlVjhWQXDJ7RHGd6ey3WcjPEN/LFu9g48z3AuWwI1m9UHjvyEHl17YPLuIE0AW7ImOrnaQWraDO3qUdhKCCH5ScJy/mZDniw6dxbHHqd96/w9SHVR3sQASIxB2Nt7e9nQQRkTY+inxCEkSZHhplz2eH7jUjBSvUZIQko2t0KzJy1hCAtDKeLi4pGQa8BaMMroG2D/0BHiuwKSEougZ88QATPY29vAOMv9ZRWSwp/BJ4TBoooDzLN8Ee59ifMLTEFZB0fYmOQhCH7nOsoR5eeLSH07OFnl+NNmuVOFYsugtjjW6jh2DJLhqU8cSldxgrXRu8ZXfsC2cPIoP/iE68POyQq8iuWRArEvH+PZazNUrWaR5XmwUCUhws8bgSmmsHeyQV5WRRUXhKe+YVCZ2qFyxTK5XglUJUXgmXcwmGUVOJgbvCPYfjdh+71DZLCpUgllsllo/ixHhdDNg+B6pBWO7B4EnSc+iCtdBY42RvxUICcfVp4ZKRHr/wC+cSZwqFoJpdV1NQ6nJ3bAnJLzcXJBK/yHWkoIISSTjxe4kiwKJXAlGukC153fVHxHcEO0Q7rAdc83SLtAXahUEfC+6YsXt7dj4apg9NqxB2M+6G4FIYSQ7AH/B3z7JZtE43GlAAAAAElFTkSuQmCC)"
      ],
      "metadata": {
        "id": "FeH6MQI3mCOy"
      }
    },
    {
      "cell_type": "markdown",
      "source": [
        "## **Big-O Notation**"
      ],
      "metadata": {
        "id": "nebEI91CmfOX"
      }
    },
    {
      "cell_type": "markdown",
      "source": [
        "Алгоритм редко выполняет количество операций, в точности равное n, n2 или nk.\n",
        "Алгоритм обычно выполняет другую работу в теле цикла, над циклом и под\n",
        "циклом. Например, вы могли бы точнее сказать, что алгоритм выполняет 2n 1 3\n",
        "или 2n2\n",
        "операции. В случае вложенного цикла внутренний цикл может выполнять на один\n",
        "проход меньше после каждого прохождения через внешний цикл, так что общее количество итераций может быть больше похоже на 1\n",
        "2 2 1 n n 2 2 , а не на n2. Объем работы в алгоритме обычно представляет\n",
        "собой сумму нескольких членов в многочлене. Всякий раз, когда объем работы выражается в виде\n",
        "многочлена, один член является доминирующим. Когда n становится большим, доминирующий член становится настолько\n",
        "большим, что вы можете игнорировать объем работы, представленный другими членами. Таким образом,\n",
        "например, в многочлене 1\n",
        "2 2 2 1 n n2 вы фокусируетесь на квадратичном члене, 1\n",
        "2 2 n, фактически\n",
        "исключая из рассмотрения линейный член, ½ n. Вы также можете исключить коэффициент ½\n",
        ", поскольку соотношение между 1\n",
        "2 2 n и n2 не меняются при увеличении n. Например, если вы\n",
        "удвоите размер задачи, время выполнения алгоритмов, равное n 1\n",
        "2 2\n",
        "и n2\n",
        ", увеличится в 4 раза. Этот тип анализа иногда называют асимптотическим анализом, потому\n",
        "что значение многочлена асимптотически приближается к значению его наибольшего\n",
        "члена, когда n становится очень большим."
      ],
      "metadata": {
        "id": "tFl4WbJ5mmoT"
      }
    },
    {
      "cell_type": "markdown",
      "source": [
        "## **Роль константы пропорциональности**"
      ],
      "metadata": {
        "id": "vFYCL459nOu-"
      }
    },
    {
      "cell_type": "markdown",
      "source": [
        "Константа пропорциональности включает в себя термины и коэффициенты, которые обычно игнорируются\n",
        "при анализе big-O. Например, работа, выполняемая алгоритмом с линейным временем, может\n",
        "быть выражена как работа 52 * размер, где константа пропорциональности, в данном случае 2, равна\n",
        "работа/размер. Когда эти константы велики, они могут повлиять на алгоритмы, особенно для\n",
        "наборов данных малого и среднего размера. Например, никто не может игнорировать разницу между\n",
        "n и n/2, когда n равно 1 000 000 долларов. В рассмотренных до сих пор примерах алгоритмов инструкции, которые выполняются в цикле, являются частью константы пропорциональности, как\n",
        "и инструкции, которые инициализируют переменные перед вводом циклов. При анализе\n",
        "алгоритма вы должны быть осторожны, чтобы определить, выполняет ли какая-либо отдельная инструкция работу, которая\n",
        "меняется в зависимости от размера задачи. Если это так, то анализ работы должен\n",
        "перейти к этой инструкции."
      ],
      "metadata": {
        "id": "74p8xNXPnZ0G"
      }
    },
    {
      "cell_type": "markdown",
      "source": [
        "Теперь попробуем определить константу пропорциональности для первого алгоритма, обсуждаемого в\n",
        "этой главе. Вот код:"
      ],
      "metadata": {
        "id": "tsyEANT_najw"
      }
    },
    {
      "cell_type": "code",
      "source": [
        "work = 1\n",
        "for x in range(problemSize):\n",
        "    work += 1\n",
        "    work -= 1"
      ],
      "metadata": {
        "id": "50HyQLf8nivi"
      },
      "execution_count": 13,
      "outputs": []
    },
    {
      "cell_type": "markdown",
      "source": [
        "## **Поисковые алгоритмы**"
      ],
      "metadata": {
        "id": "vRLNVPL8noQc"
      }
    },
    {
      "cell_type": "markdown",
      "source": [
        "Функция min в Python возвращает минимальный или наименьший элемент в списке. Чтобы изучить сложность этого алгоритма, вы разработаете альтернативную версию, которая возвращает индекс минимального элемента. Алгоритм предполагает, что список не пуст и что элементы расположены в произвольном\n",
        "порядке. Алгоритм начинает с обработки первой позиции как позиции минимального элемента. Затем он\n",
        "выполняет поиск справа элемента меньшего размера и, если он найден, сбрасывает позицию минимального элемента на текущую позицию. Когда алгоритм достигает конца списка, он возвращает\n",
        "позиция минимального элемента. Вот код для алгоритма в функции indexOfMin:"
      ],
      "metadata": {
        "id": "m0jnPfbAn4mt"
      }
    },
    {
      "cell_type": "code",
      "source": [
        "def indexOfMin(lyst):\n",
        "    \"\"\"Returns the index of the minimum item.\"\"\"\n",
        "    minIndex = 0\n",
        "    currentIndex = 1\n",
        "    while currentIndex < len(lyst):\n",
        "        if lyst[currentIndex] < lyst[minIndex]:\n",
        "            minIndex = currentIndex\n",
        "        currentIndex += 1\n",
        "    return minIndex"
      ],
      "metadata": {
        "id": "4FdmqOiwoCh7"
      },
      "execution_count": 14,
      "outputs": []
    },
    {
      "cell_type": "markdown",
      "source": [
        "Как вы можно видеть, вне цикла есть три инструкции, которые выполняются одинаковое количество\n",
        "раз независимо от размера списка. Таким образом, вы можете не учитывать их. Внутри цикла есть\n",
        "еще три инструкции. Из них сравнение в инструкции if и приращение\n",
        "currentIndex выполняются при каждом прохождении цикла. В этих инструкциях нет вложенных или скрытых циклов\n",
        ". Этот алгоритм должен просмотреть каждый элемент в списке, чтобы гарантировать, что он\n",
        "нашел позицию минимального элемента. Эта работа фактически выполняется при сравнении\n",
        "в операторе if. Таким образом, алгоритм должен выполнить n 2 1 сравнений для списка\n",
        "размером n. Следовательно, сложность алгоритма равна O(n)."
      ],
      "metadata": {
        "id": "NqqT_526oYlS"
      }
    },
    {
      "cell_type": "markdown",
      "source": [
        "## **Последовательный поиск по списку**"
      ],
      "metadata": {
        "id": "mU9K8nZmoj42"
      }
    },
    {
      "cell_type": "markdown",
      "source": [
        "Оператор in в Python реализован как метод с именем __contains__ в классе list.\n",
        "Этот метод выполняет поиск определенного элемента (называемого целевым элементом) в списке произвольно расположенных элементов. В таком списке единственный способ поиска целевого элемента - начать с\n",
        "элемента в первой позиции и сравнить его с целевым. Если элементы равны, метод\n",
        "возвращает значение True. В противном случае метод переходит к следующей позиции и сравнивает свой элемент\n",
        "с целью. Если метод достигает последней позиции и все еще не может найти цель, он\n",
        "возвращает значение False. Этот вид поиска называется последовательным поиском или линейным поиском. Более\n",
        "полезная функция последовательного поиска возвращала бы индекс целевого объекта, если он найден, или 21\n",
        "в противном случае. Вот код Python для функции последовательного поиска:"
      ],
      "metadata": {
        "id": "cPRfqfh4omMQ"
      }
    },
    {
      "cell_type": "code",
      "source": [
        "def sequentialSearch(target, lyst):\n",
        "    \"\"\"Returns the position of the target item if found,\n",
        "    or -1 otherwise.\"\"\"\n",
        "    position = 0\n",
        "    while position < len(lyst):\n",
        "        if target == lyst[position]:\n",
        "            return position\n",
        "        position += 1\n",
        "    return -1"
      ],
      "metadata": {
        "id": "YZaWAUPLoy6b"
      },
      "execution_count": 15,
      "outputs": []
    },
    {
      "cell_type": "markdown",
      "source": [
        "Анализ последовательного поиска немного отличается от анализа поиска минимума, как вы увидите в следующем подразделе."
      ],
      "metadata": {
        "id": "u2Pxt1yyo87C"
      }
    },
    {
      "cell_type": "markdown",
      "source": [
        "## **Двоичный поиск по отсортированному списку**"
      ],
      "metadata": {
        "id": "L3KpiMOGo9pl"
      }
    },
    {
      "cell_type": "markdown",
      "source": [
        "Последовательный поиск необходим для данных, которые не расположены в каком-либо определенном порядке.\n",
        "При поиске отсортированных данных вы можете использовать двоичный поиск.\n",
        "\n",
        "Чтобы понять, как работает бинарный поиск, необходимо подумать о том, что происходит, когда вы ищете\n",
        "номер человека в телефонной книге (печатном виде, который использовался в 20 веке).\n",
        "Данные в телефонной книге уже отсортированы, поэтому вы не выполняете последовательный поиск. Вместо\n",
        "этого вы оцениваете положение имени в книге в алфавитном порядке и открываете книгу как можно ближе к\n",
        "этому положению. После открытия книги вы определяете, находится ли целевое имя\n",
        "в алфавитном порядке на более ранней странице или на более поздней, и перелистываете страницу назад или вперед.\n",
        "страниц по мере необходимости. Вы повторяете этот процесс до тех пор, пока не найдете название или не придете к выводу, что его нет\n",
        "в книге.\n",
        "\n",
        "Вот код для функции двоичного поиска:"
      ],
      "metadata": {
        "id": "yNtRFUBto-Ny"
      }
    },
    {
      "cell_type": "code",
      "source": [
        "def binarySearch(target, sortedLyst):\n",
        "    left = 0\n",
        "    right = len(sortedLyst) - 1\n",
        "    while left <= right:\n",
        "        midpoint = (left + right) // 2\n",
        "        if target == sortedLyst[midpoint]:\n",
        "            return midpoint\n",
        "        elif target < sortedLyst[midpoint]:\n",
        "            right = midpoint - 1\n",
        "        else:\n",
        "            left = midpoint + 1\n",
        "\n",
        "    return -1"
      ],
      "metadata": {
        "id": "zc9DG6VGpm4U"
      },
      "execution_count": 16,
      "outputs": []
    },
    {
      "cell_type": "markdown",
      "source": [
        "На рисунке 3-7 показаны части списка, в которых выполняется бинарный поиск, со списком из\n",
        "9 элементов и целевым элементом 10, которого нет в списке. Элементы, сопоставленные с целевой областью\n",
        ", заштрихованы. Обратите внимание, что ни один из элементов в левой половине исходного списка не посещен."
      ],
      "metadata": {
        "id": "KeOck90SuVfs"
      }
    },
    {
      "cell_type": "markdown",
      "source": [
        "![Снимок экрана 2024-03-12 204007.png](data:image/png;base64,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)"
      ],
      "metadata": {
        "id": "8XeKHLZVv9Xa"
      }
    },
    {
      "cell_type": "markdown",
      "source": [
        "## **Сравнение элементов данных**"
      ],
      "metadata": {
        "id": "IfJzZ3eFwJvm"
      }
    },
    {
      "cell_type": "markdown",
      "source": [
        "Как бинарный поиск, так и поиск минимума предполагают, что элементы в списке\n",
        "сопоставимы друг с другом. В Python это означает, что элементы одного типа\n",
        "и что они распознают операторы сравнения ==, < и >. Объекты нескольких встроенных\n",
        "Типы Python, такие как числа, строки и списки, можно сравнивать с помощью этих операторов."
      ],
      "metadata": {
        "id": "Qqc7hoRuwTMp"
      }
    },
    {
      "cell_type": "markdown",
      "source": [
        "## **Основные алгоритмы сортировки**"
      ],
      "metadata": {
        "id": "cTb3JGLJw3Vv"
      }
    },
    {
      "cell_type": "markdown",
      "source": [
        "Специалисты по информатике разработали множество оригинальных стратегий для сортировки списка элементов.\n",
        "Некоторые из них рассматриваются здесь. Алгоритмы, рассмотренные в этом разделе, просты в\n",
        "написании, но неэффективны; алгоритмы, обсуждаемые в следующем разделе, сложнее в написании, но\n",
        "более эффективны. (Это распространенный компромисс.) Каждая из разработанных функций сортировки Python\n",
        "работает со списком целых чисел и использует функцию swap для обмена позициями\n",
        "двух элементов в списке. Вот код для этой функции:"
      ],
      "metadata": {
        "id": "aKBe3WjjxPaP"
      }
    },
    {
      "cell_type": "code",
      "source": [
        "def swap(lyst, i, j):\n",
        "    \"\"\"Exchanges the items at positions i and j.\"\"\"\n",
        "    # You could say lyst[i], lyst[j] = lyst[j], lyst[i]\n",
        "    # but the following code shows what is really going on\n",
        "    temp = lyst[i]\n",
        "    lyst[i] = lyst[j]\n",
        "    lyst[j] = temp"
      ],
      "metadata": {
        "id": "0IbGGlqexdo_"
      },
      "execution_count": null,
      "outputs": []
    },
    {
      "cell_type": "markdown",
      "source": [
        "## **Сортировка выбором**"
      ],
      "metadata": {
        "id": "dgSfD_c3ygXg"
      }
    },
    {
      "cell_type": "markdown",
      "source": [
        "Возможно, самая простая стратегия заключается в поиске по всему списку позиции самого маленького элемента.\n",
        "Если эта позиция не совпадает с первой позицией, алгоритм меняет местами элементы в этих\n",
        "позициях. Затем алгоритм возвращается ко второй позиции и повторяет этот процесс,\n",
        "при необходимости заменяя наименьший элемент элементом, находящимся на второй позиции. Когда\n",
        "алгоритм достигает последней позиции в общем процессе, список сортируется. Алгоритм\n",
        "называется сортировкой по выбору, потому что при каждом прохождении через основной цикл выбирается один элемент, который будет\n",
        "переехал. На рисунке 3-8 показаны состояния списка из пяти элементов после каждого этапа поиска и замены\n",
        "при сортировке по выбору. Два элемента, которые только что поменялись местами при каждом проходе, помечены звездочками рядом с ними, а\n",
        "отсортированная часть списка заштрихована."
      ],
      "metadata": {
        "id": "yEmxgecMygLb"
      }
    },
    {
      "cell_type": "markdown",
      "source": [
        "Ниже представлен пример кода:"
      ],
      "metadata": {
        "id": "1gybrbqWynUy"
      }
    },
    {
      "cell_type": "code",
      "source": [
        "def selectionSort(alist):\n",
        "    for i in range(0, len(alist) - 1):\n",
        "        smallest = i\n",
        "        for j in range(i + 1, len(alist)):\n",
        "            if alist[j] < alist[smallest]:\n",
        "                smallest = j\n",
        "        alist[i], alist[smallest] = alist[smallest], alist[i]"
      ],
      "metadata": {
        "id": "xgobjcvLysKX"
      },
      "execution_count": 22,
      "outputs": []
    },
    {
      "cell_type": "code",
      "source": [
        "arr = [4, 2, 1, 5, 3, 9, 0, 6, 8, 7]\n",
        "selectionSort(arr)\n",
        "print(arr)"
      ],
      "metadata": {
        "colab": {
          "base_uri": "https://localhost:8080/"
        },
        "id": "PMRZvygi1NsN",
        "outputId": "4fcbd7dc-cc72-448f-cce2-382c76e84521"
      },
      "execution_count": 26,
      "outputs": [
        {
          "output_type": "stream",
          "name": "stdout",
          "text": [
            "[0, 1, 2, 3, 4, 5, 6, 7, 8, 9]\n"
          ]
        }
      ]
    },
    {
      "cell_type": "markdown",
      "source": [
        "## **Сортировка пузырьком**"
      ],
      "metadata": {
        "id": "waRRhmBz04Bo"
      }
    },
    {
      "cell_type": "markdown",
      "source": [
        "Другой алгоритм сортировки, который относительно прост в понимании и кодировании, называется пузырьковой сортировкой.\n",
        "Его стратегия заключается в том, чтобы начинать с начала списка и сравнивать пары элементов данных по мере продвижения\n",
        "к концу. Каждый раз, когда элементы в паре расположены не по порядку, алгоритм меняет их местами.\n",
        "Этот процесс приводит к перемещению самых крупных элементов в конец списка. Алгоритм затем повторяет процесс с начала списка и переходит к предпоследнему элементу\n",
        "и так далее, пока не начнет с последнего элемента. На этом этапе список сортируется."
      ],
      "metadata": {
        "id": "1muiCUUF033a"
      }
    },
    {
      "cell_type": "markdown",
      "source": [
        "Ниже представлен пример кода:"
      ],
      "metadata": {
        "id": "_SsqqzKG5V-E"
      }
    },
    {
      "cell_type": "code",
      "source": [
        "def bubbleSort(list1):\n",
        "    # Outer loop for traverse the entire list\n",
        "    for i in range(0,len(list1)-1):\n",
        "        for j in range(len(list1)-1):\n",
        "            if(list1[j]>list1[j+1]):\n",
        "                temp = list1[j]\n",
        "                list1[j] = list1[j+1]\n",
        "                list1[j+1] = temp\n",
        "    return list1\n"
      ],
      "metadata": {
        "id": "4Q6RDZK203j2"
      },
      "execution_count": 27,
      "outputs": []
    },
    {
      "cell_type": "code",
      "source": [
        "list1 = [5, 3, 8, 6, 7, 2]\n",
        "print(\"The unsorted list is: \", list1)\n",
        "# Calling the bubble sort function\n",
        "print(\"The sorted list is: \", bubbleSort(list1))\n"
      ],
      "metadata": {
        "colab": {
          "base_uri": "https://localhost:8080/"
        },
        "id": "dbbL743q3-GT",
        "outputId": "cfa6231a-f440-4df9-a81e-faa82c4f6f8a"
      },
      "execution_count": 30,
      "outputs": [
        {
          "output_type": "stream",
          "name": "stdout",
          "text": [
            "The unsorted list is:  [5, 3, 8, 6, 7, 2]\n",
            "The sorted list is:  [2, 3, 5, 6, 7, 8]\n"
          ]
        }
      ]
    },
    {
      "cell_type": "markdown",
      "source": [
        "## **Сортировка вставками**"
      ],
      "metadata": {
        "id": "uuXwnPeh5MkT"
      }
    },
    {
      "cell_type": "markdown",
      "source": [
        "Наша модифицированная пузырьковая сортировка работает лучше, чем сортировка по выбору, для списков, которые уже\n",
        "отсортированы. Но наша модифицированная пузырьковая сортировка все равно может работать плохо, если многие элементы\n",
        "в списке расположены не по порядку. Другой алгоритм, называемый сортировкой по вставке, пытается использовать частичный\n",
        "порядок списка другим способом. Стратегия заключается в следующем:\n",
        "\n",
        "\n",
        "*   При i-м прохождении по списку, где i колеблется от 1 до n 2 1, i-й элемент должен быть\n",
        "вставлен на свое надлежащее место среди первых i элементов в списке.\n",
        "*   После i-го прохода первые i элементов должны быть в отсортированном порядке.\n",
        "*   Этот процесс аналогичен тому, как многие люди раскладывают игральные карты в\n",
        "своих руках. То есть, если вы держите первые i 2 1 карты по порядку, вы выбираете i-ю карту и\n",
        "сравниваете ее с этими картами, пока не найдете подходящее место.\n",
        "*   Как и в случае с другими нашими алгоритмами сортировки, сортировка по вставке состоит из двух циклов. Внешний\n",
        "цикл проходит позиции от 1 до n 2 1. Для каждой позиции i в этом цикле вы сохраняете\n",
        "элемент и начинаете внутренний цикл с позиции i 2 1. Для каждой позиции j в этом цикле вы\n",
        "перемещаете элемент в позицию j 1 1 до тех пор, пока не найдете точку вставки для сохраненного (i-го)\n",
        "пункт."
      ],
      "metadata": {
        "id": "p5HQp4Zp5k8V"
      }
    },
    {
      "cell_type": "code",
      "source": [
        "# creating a function for insertion\n",
        "def insertion_sort(list1):\n",
        "\n",
        "        # Outer loop to traverse through 1 to len(list1)\n",
        "        for i in range(1, len(list1)):\n",
        "\n",
        "            value = list1[i]\n",
        "\n",
        "            # Move elements of list1[0..i-1], that are\n",
        "            # greater than value, to one position ahead\n",
        "            # of their current position\n",
        "            j = i - 1\n",
        "            while j >= 0 and value < list1[j]:\n",
        "                list1[j + 1] = list1[j]\n",
        "                j -= 1\n",
        "            list1[j + 1] = value\n",
        "        return list1\n"
      ],
      "metadata": {
        "id": "0zb07_Cn5lVC"
      },
      "execution_count": 31,
      "outputs": []
    },
    {
      "cell_type": "markdown",
      "source": [
        "## **Реализация быстрой сортировки**"
      ],
      "metadata": {
        "id": "0E9RNTYE7j8A"
      }
    },
    {
      "cell_type": "markdown",
      "source": [
        "Алгоритм быстрой сортировки наиболее легко кодируется с использованием рекурсивного подхода. Следующий\n",
        "скрипт определяет функцию быстрой сортировки верхнего уровня для клиента, рекурсивную\n",
        "функцию quicksortHelper для скрытия дополнительных аргументов для конечных точек подсписка и\n",
        "функцию разбиения на разделы. Скрипт запускает быструю сортировку по списку из 20 случайно упорядоченных целых чисел."
      ],
      "metadata": {
        "id": "r2JjXQXT7jcr"
      }
    },
    {
      "cell_type": "code",
      "source": [
        "def quickSort(A):\n",
        "    if len(A) <= 1:\n",
        "        return A\n",
        "    else:\n",
        "        q = random.choice(A)\n",
        "        L = []\n",
        "        M = []\n",
        "        R = []\n",
        "        for elem in A:\n",
        "            if elem < q:\n",
        "                L.append(elem)\n",
        "            elif elem > q:\n",
        "                R.append(elem)\n",
        "            else:\n",
        "                M.append(elem)\n",
        "        return quickSort(L) + M + quickSort(R)"
      ],
      "metadata": {
        "id": "oh6I3y_W7rxj"
      },
      "execution_count": 36,
      "outputs": []
    },
    {
      "cell_type": "code",
      "source": [
        "list1 = [5, 3, 8, 6, 7, 2]\n",
        "print(f\"The unsorted list is: {list1}\")\n",
        "# Calling the bubble sort function\n",
        "print(f\"The sorted list is: {quickSort(list1)}\")"
      ],
      "metadata": {
        "colab": {
          "base_uri": "https://localhost:8080/"
        },
        "id": "2wEnnI1o9raB",
        "outputId": "08aa68eb-6955-4ccb-bc8e-02298987529e"
      },
      "execution_count": 37,
      "outputs": [
        {
          "output_type": "stream",
          "name": "stdout",
          "text": [
            "The unsorted list is: [5, 3, 8, 6, 7, 2]\n",
            "The sorted list is: [2, 3, 5, 6, 7, 8]\n"
          ]
        }
      ]
    },
    {
      "cell_type": "markdown",
      "source": [
        "## **Сортировка слиянием**"
      ],
      "metadata": {
        "id": "c9ERT5M9GuZ_"
      }
    },
    {
      "cell_type": "markdown",
      "source": [
        "В процессе объединения используется массив того же размера, что и список. (В главе 4 подробно рассматриваются массивы\n",
        ".) Этот массив называется буфером копирования. Чтобы избежать накладных расходов, связанных с выделением и\n",
        "освобождением буфера копирования при каждом вызове merge, буфер выделяется один раз в\n",
        "mergeSort и впоследствии передается в качестве аргумента mergeSortHelper и merge. Каждый\n",
        "раз, когда вызывается mergeSortHelper, ему необходимо знать границы подсписка, с которым он\n",
        "работает. Эти границы задаются двумя другими параметрами: low и high."
      ],
      "metadata": {
        "id": "I2hDFYHEGuQK"
      }
    },
    {
      "cell_type": "markdown",
      "source": [
        "Наконец, вот код для функции слияния:"
      ],
      "metadata": {
        "id": "K4Wev7gnH1Uz"
      }
    },
    {
      "cell_type": "code",
      "source": [
        "def merge(lyst, copyBuffer, low, middle, high):\n",
        "    # lyst list that is being sorted\n",
        "    # copyBuffer temp space needed during the merge process\n",
        "    # low beginning of first sorted sublist\n",
        "    # middle end of first sorted sublist\n",
        "    # middle + 1 beginning of second sorted sublist\n",
        "    # high end of second sorted sublist\n",
        "    # Initialize i1 and i2 to the first items in each sublist\n",
        "    i1 = low\n",
        "    i2 = middle + 1\n",
        "    # Interleave items from the sublists into the\n",
        "    # copyBuffer in such a way that order is maintained.\n",
        "    for i in range(low, high + 1):\n",
        "        if i1 > middle:\n",
        "            copyBuffer[i] = lyst[i2] # First sublist exhausted\n",
        "            i2 += 1\n",
        "        elif i2 > high:\n",
        "            copyBuffer[i] = lyst[i1] # Second sublist exhausted\n",
        "            i1 += 1\n",
        "        elif lyst[i1] < lyst[i2]:\n",
        "            copyBuffer[i] = lyst[i1] # Item in first sublist <\n",
        "            i1 += 1\n",
        "        else:\n",
        "            copyBuffer[i] = lyst[i2] # Item in second sublist <\n",
        "            i2 += 1\n",
        "    for i in range (low, high + 1): # Copy sorted items back to\n",
        "        lyst[i] = copyBuffer[i] # proper position in lyst\n",
        ""
      ],
      "metadata": {
        "id": "SUwd7fo9H5TW"
      },
      "execution_count": 38,
      "outputs": []
    },
    {
      "cell_type": "markdown",
      "source": [
        "## **Экспоненциальный алгоритм: рекурсивный алгоритм Фибоначчи**"
      ],
      "metadata": {
        "id": "ZS1RD6XCIb6Z"
      }
    },
    {
      "cell_type": "markdown",
      "source": [
        "Ранее в этой главе вы запускали рекурсивную функцию Фибоначчи, чтобы получить количество\n",
        "рекурсивных вызовов с различными размерами проблемы. Вы видели, что количество вызовов, казалось, росло\n",
        "намного быстрее, чем квадрат размера проблемы. Вот код для функции\n",
        "еще раз:"
      ],
      "metadata": {
        "id": "ckL4_H27IbcK"
      }
    },
    {
      "cell_type": "code",
      "source": [
        "def fib(n):\n",
        "    \"\"\"The recursive Fibonacci function.\"\"\"\n",
        "    if n < 3:\n",
        "        return 1\n",
        "    else:\n",
        "        return fib(n - 1) + fib(n - 2)"
      ],
      "metadata": {
        "id": "Vt9cv35LItxw"
      },
      "execution_count": 40,
      "outputs": []
    },
    {
      "cell_type": "markdown",
      "source": [
        "Другой способ проиллюстрировать этот быстрый рост объема работы - отобразить дерево вызовов функции\n",
        "для данного размера задачи. На рисунке 3-16 показаны вызовы, связанные с использованием рекурсивной\n",
        "функции для вычисления шестого числа Фибоначчи. Чтобы сохранить диаграмму достаточно компактной,\n",
        "вы пишете (6) вместо fib(6)."
      ],
      "metadata": {
        "id": "SFOEUbvtJ8PS"
      }
    },
    {
      "cell_type": "markdown",
      "source": [
        ":![Снимок экрана 2024-03-12 223418.png](data:image/png;base64,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)"
      ],
      "metadata": {
        "id": "VxtiITb0J8Fj"
      }
    },
    {
      "cell_type": "markdown",
      "source": [
        "## **Преобразование Фибоначчи в линейный алгоритм**"
      ],
      "metadata": {
        "id": "7Er3bbfRKVx_"
      }
    },
    {
      "cell_type": "markdown",
      "source": [
        "Хотя рекурсивная функция Фибоначчи отражает простоту и элегантность\n",
        "рекурсивного определения последовательности Фибоначчи, производительность этой функции\n",
        "во время выполнения неприемлема. Другой алгоритм улучшает эту производительность на несколько\n",
        "порядков и, фактически, сводит сложность к линейному времени. В этом разделе будет разработан\n",
        "этот альтернативный алгоритм и оцениваете его производительность."
      ],
      "metadata": {
        "id": "nlVSaqixKb0-"
      }
    },
    {
      "cell_type": "markdown",
      "source": [
        "Напомним, что первые два числа в последовательности Фибоначчи равны 1s, и каждое число после\n",
        "этого является суммой двух предыдущих чисел. Таким образом, новый алгоритм запускает цикл, если n является\n",
        "по крайней мере третьим числом Фибоначчи. Это число будет, по крайней мере, суммой первых двух\n",
        "(11 51 2). Цикл вычисляет эту сумму, а затем выполняет две замены: первое\n",
        "число становится вторым, а второе становится только что вычисленной суммой."
      ],
      "metadata": {
        "id": "hgVM_k7CLHty"
      }
    },
    {
      "cell_type": "markdown",
      "source": [
        "Рассмотрим пример кода ниже:"
      ],
      "metadata": {
        "id": "LMWphLVrKf20"
      }
    },
    {
      "cell_type": "code",
      "source": [
        "def fib(n, counter):\n",
        "    \"\"\"Count the number of iterations in the Fibonacci\n",
        "    function.\"\"\"\n",
        "    sum = 1\n",
        "    first = 1\n",
        "    second = 1\n",
        "    count = 3\n",
        "    while count <= n:\n",
        "        counter.increment()\n",
        "        sum = first + second\n",
        "        first = second\n",
        "        second = sum\n",
        "        count += 1\n",
        "    return sum"
      ],
      "metadata": {
        "id": "BB6XnojaKzzN"
      },
      "execution_count": 43,
      "outputs": []
    }
  ]
}